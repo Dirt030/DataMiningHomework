{
 "cells": [
  {
   "cell_type": "code",
   "execution_count": 41,
   "outputs": [],
   "source": [
    "S = 1  # minimum S(x,y)\n",
    "N = 10  # topN"
   ],
   "metadata": {
    "collapsed": false,
    "pycharm": {
     "name": "#%%\n"
    }
   }
  },
  {
   "cell_type": "code",
   "execution_count": 42,
   "metadata": {
    "collapsed": true
   },
   "outputs": [],
   "source": [
    "import numpy as np\n",
    "import pandas as pd"
   ]
  },
  {
   "cell_type": "code",
   "execution_count": 43,
   "outputs": [],
   "source": [
    "data = pd.read_csv('Groceries_dataset.csv')"
   ],
   "metadata": {
    "collapsed": false,
    "pycharm": {
     "name": "#%%\n"
    }
   }
  },
  {
   "cell_type": "code",
   "execution_count": 44,
   "outputs": [
    {
     "data": {
      "text/plain": "(38765, 3)"
     },
     "execution_count": 44,
     "metadata": {},
     "output_type": "execute_result"
    }
   ],
   "source": [
    "data.shape"
   ],
   "metadata": {
    "collapsed": false,
    "pycharm": {
     "name": "#%%\n"
    }
   }
  },
  {
   "cell_type": "code",
   "execution_count": 45,
   "outputs": [
    {
     "data": {
      "text/plain": "   Member_number        Date   itemDescription\n0           1808  21-07-2015    tropical fruit\n1           2552  05-01-2015        whole milk\n2           2300  19-09-2015         pip fruit\n3           1187  12-12-2015  other vegetables\n4           3037  01-02-2015        whole milk",
      "text/html": "<div>\n<style scoped>\n    .dataframe tbody tr th:only-of-type {\n        vertical-align: middle;\n    }\n\n    .dataframe tbody tr th {\n        vertical-align: top;\n    }\n\n    .dataframe thead th {\n        text-align: right;\n    }\n</style>\n<table border=\"1\" class=\"dataframe\">\n  <thead>\n    <tr style=\"text-align: right;\">\n      <th></th>\n      <th>Member_number</th>\n      <th>Date</th>\n      <th>itemDescription</th>\n    </tr>\n  </thead>\n  <tbody>\n    <tr>\n      <td>0</td>\n      <td>1808</td>\n      <td>21-07-2015</td>\n      <td>tropical fruit</td>\n    </tr>\n    <tr>\n      <td>1</td>\n      <td>2552</td>\n      <td>05-01-2015</td>\n      <td>whole milk</td>\n    </tr>\n    <tr>\n      <td>2</td>\n      <td>2300</td>\n      <td>19-09-2015</td>\n      <td>pip fruit</td>\n    </tr>\n    <tr>\n      <td>3</td>\n      <td>1187</td>\n      <td>12-12-2015</td>\n      <td>other vegetables</td>\n    </tr>\n    <tr>\n      <td>4</td>\n      <td>3037</td>\n      <td>01-02-2015</td>\n      <td>whole milk</td>\n    </tr>\n  </tbody>\n</table>\n</div>"
     },
     "execution_count": 45,
     "metadata": {},
     "output_type": "execute_result"
    }
   ],
   "source": [
    "data.head()"
   ],
   "metadata": {
    "collapsed": false,
    "pycharm": {
     "name": "#%%\n"
    }
   }
  },
  {
   "cell_type": "code",
   "execution_count": 46,
   "outputs": [
    {
     "name": "stdout",
     "output_type": "stream",
     "text": [
      "There are 3898 unique customers\n",
      "There are 167 unique items\n"
     ]
    }
   ],
   "source": [
    "print(\"There are {} unique customers\".format(data.Member_number.unique().size))\n",
    "print(\"There are {} unique items\".format(data.itemDescription.unique().size))"
   ],
   "metadata": {
    "collapsed": false,
    "pycharm": {
     "name": "#%%\n"
    }
   }
  },
  {
   "cell_type": "code",
   "execution_count": 47,
   "outputs": [
    {
     "data": {
      "text/plain": "whole milk               2502\nother vegetables         1898\nrolls/buns               1716\nsoda                     1514\nyogurt                   1334\n                         ... \nmake up remover             5\nbags                        4\nbaby cosmetics              3\nkitchen utensil             1\npreservation products       1\nName: itemDescription, Length: 167, dtype: int64"
     },
     "execution_count": 47,
     "metadata": {},
     "output_type": "execute_result"
    }
   ],
   "source": [
    "data['itemDescription'].value_counts()"
   ],
   "metadata": {
    "collapsed": false,
    "pycharm": {
     "name": "#%%\n"
    }
   }
  },
  {
   "cell_type": "code",
   "execution_count": 48,
   "outputs": [
    {
     "data": {
      "application/vnd.plotly.v1+json": {
       "config": {
        "plotlyServerURL": "https://plot.ly"
       },
       "data": [
        {
         "alignmentgroup": "True",
         "hovertemplate": "color=whole milk<br>x=%{x}<br>y=%{y}<extra></extra>",
         "legendgroup": "whole milk",
         "marker": {
          "color": "#636efa"
         },
         "name": "whole milk",
         "offsetgroup": "whole milk",
         "orientation": "v",
         "showlegend": true,
         "textposition": "auto",
         "type": "bar",
         "x": [
          "whole milk"
         ],
         "xaxis": "x",
         "y": [
          2502
         ],
         "yaxis": "y"
        },
        {
         "alignmentgroup": "True",
         "hovertemplate": "color=other vegetables<br>x=%{x}<br>y=%{y}<extra></extra>",
         "legendgroup": "other vegetables",
         "marker": {
          "color": "#EF553B"
         },
         "name": "other vegetables",
         "offsetgroup": "other vegetables",
         "orientation": "v",
         "showlegend": true,
         "textposition": "auto",
         "type": "bar",
         "x": [
          "other vegetables"
         ],
         "xaxis": "x",
         "y": [
          1898
         ],
         "yaxis": "y"
        },
        {
         "alignmentgroup": "True",
         "hovertemplate": "color=rolls/buns<br>x=%{x}<br>y=%{y}<extra></extra>",
         "legendgroup": "rolls/buns",
         "marker": {
          "color": "#00cc96"
         },
         "name": "rolls/buns",
         "offsetgroup": "rolls/buns",
         "orientation": "v",
         "showlegend": true,
         "textposition": "auto",
         "type": "bar",
         "x": [
          "rolls/buns"
         ],
         "xaxis": "x",
         "y": [
          1716
         ],
         "yaxis": "y"
        },
        {
         "alignmentgroup": "True",
         "hovertemplate": "color=soda<br>x=%{x}<br>y=%{y}<extra></extra>",
         "legendgroup": "soda",
         "marker": {
          "color": "#ab63fa"
         },
         "name": "soda",
         "offsetgroup": "soda",
         "orientation": "v",
         "showlegend": true,
         "textposition": "auto",
         "type": "bar",
         "x": [
          "soda"
         ],
         "xaxis": "x",
         "y": [
          1514
         ],
         "yaxis": "y"
        },
        {
         "alignmentgroup": "True",
         "hovertemplate": "color=yogurt<br>x=%{x}<br>y=%{y}<extra></extra>",
         "legendgroup": "yogurt",
         "marker": {
          "color": "#FFA15A"
         },
         "name": "yogurt",
         "offsetgroup": "yogurt",
         "orientation": "v",
         "showlegend": true,
         "textposition": "auto",
         "type": "bar",
         "x": [
          "yogurt"
         ],
         "xaxis": "x",
         "y": [
          1334
         ],
         "yaxis": "y"
        },
        {
         "alignmentgroup": "True",
         "hovertemplate": "color=root vegetables<br>x=%{x}<br>y=%{y}<extra></extra>",
         "legendgroup": "root vegetables",
         "marker": {
          "color": "#19d3f3"
         },
         "name": "root vegetables",
         "offsetgroup": "root vegetables",
         "orientation": "v",
         "showlegend": true,
         "textposition": "auto",
         "type": "bar",
         "x": [
          "root vegetables"
         ],
         "xaxis": "x",
         "y": [
          1071
         ],
         "yaxis": "y"
        },
        {
         "alignmentgroup": "True",
         "hovertemplate": "color=tropical fruit<br>x=%{x}<br>y=%{y}<extra></extra>",
         "legendgroup": "tropical fruit",
         "marker": {
          "color": "#FF6692"
         },
         "name": "tropical fruit",
         "offsetgroup": "tropical fruit",
         "orientation": "v",
         "showlegend": true,
         "textposition": "auto",
         "type": "bar",
         "x": [
          "tropical fruit"
         ],
         "xaxis": "x",
         "y": [
          1032
         ],
         "yaxis": "y"
        },
        {
         "alignmentgroup": "True",
         "hovertemplate": "color=bottled water<br>x=%{x}<br>y=%{y}<extra></extra>",
         "legendgroup": "bottled water",
         "marker": {
          "color": "#B6E880"
         },
         "name": "bottled water",
         "offsetgroup": "bottled water",
         "orientation": "v",
         "showlegend": true,
         "textposition": "auto",
         "type": "bar",
         "x": [
          "bottled water"
         ],
         "xaxis": "x",
         "y": [
          933
         ],
         "yaxis": "y"
        },
        {
         "alignmentgroup": "True",
         "hovertemplate": "color=sausage<br>x=%{x}<br>y=%{y}<extra></extra>",
         "legendgroup": "sausage",
         "marker": {
          "color": "#FF97FF"
         },
         "name": "sausage",
         "offsetgroup": "sausage",
         "orientation": "v",
         "showlegend": true,
         "textposition": "auto",
         "type": "bar",
         "x": [
          "sausage"
         ],
         "xaxis": "x",
         "y": [
          924
         ],
         "yaxis": "y"
        },
        {
         "alignmentgroup": "True",
         "hovertemplate": "color=citrus fruit<br>x=%{x}<br>y=%{y}<extra></extra>",
         "legendgroup": "citrus fruit",
         "marker": {
          "color": "#FECB52"
         },
         "name": "citrus fruit",
         "offsetgroup": "citrus fruit",
         "orientation": "v",
         "showlegend": true,
         "textposition": "auto",
         "type": "bar",
         "x": [
          "citrus fruit"
         ],
         "xaxis": "x",
         "y": [
          812
         ],
         "yaxis": "y"
        },
        {
         "alignmentgroup": "True",
         "hovertemplate": "color=pastry<br>x=%{x}<br>y=%{y}<extra></extra>",
         "legendgroup": "pastry",
         "marker": {
          "color": "#636efa"
         },
         "name": "pastry",
         "offsetgroup": "pastry",
         "orientation": "v",
         "showlegend": true,
         "textposition": "auto",
         "type": "bar",
         "x": [
          "pastry"
         ],
         "xaxis": "x",
         "y": [
          785
         ],
         "yaxis": "y"
        },
        {
         "alignmentgroup": "True",
         "hovertemplate": "color=pip fruit<br>x=%{x}<br>y=%{y}<extra></extra>",
         "legendgroup": "pip fruit",
         "marker": {
          "color": "#EF553B"
         },
         "name": "pip fruit",
         "offsetgroup": "pip fruit",
         "orientation": "v",
         "showlegend": true,
         "textposition": "auto",
         "type": "bar",
         "x": [
          "pip fruit"
         ],
         "xaxis": "x",
         "y": [
          744
         ],
         "yaxis": "y"
        },
        {
         "alignmentgroup": "True",
         "hovertemplate": "color=shopping bags<br>x=%{x}<br>y=%{y}<extra></extra>",
         "legendgroup": "shopping bags",
         "marker": {
          "color": "#00cc96"
         },
         "name": "shopping bags",
         "offsetgroup": "shopping bags",
         "orientation": "v",
         "showlegend": true,
         "textposition": "auto",
         "type": "bar",
         "x": [
          "shopping bags"
         ],
         "xaxis": "x",
         "y": [
          731
         ],
         "yaxis": "y"
        },
        {
         "alignmentgroup": "True",
         "hovertemplate": "color=canned beer<br>x=%{x}<br>y=%{y}<extra></extra>",
         "legendgroup": "canned beer",
         "marker": {
          "color": "#ab63fa"
         },
         "name": "canned beer",
         "offsetgroup": "canned beer",
         "orientation": "v",
         "showlegend": true,
         "textposition": "auto",
         "type": "bar",
         "x": [
          "canned beer"
         ],
         "xaxis": "x",
         "y": [
          717
         ],
         "yaxis": "y"
        },
        {
         "alignmentgroup": "True",
         "hovertemplate": "color=bottled beer<br>x=%{x}<br>y=%{y}<extra></extra>",
         "legendgroup": "bottled beer",
         "marker": {
          "color": "#FFA15A"
         },
         "name": "bottled beer",
         "offsetgroup": "bottled beer",
         "orientation": "v",
         "showlegend": true,
         "textposition": "auto",
         "type": "bar",
         "x": [
          "bottled beer"
         ],
         "xaxis": "x",
         "y": [
          687
         ],
         "yaxis": "y"
        },
        {
         "alignmentgroup": "True",
         "hovertemplate": "color=whipped/sour cream<br>x=%{x}<br>y=%{y}<extra></extra>",
         "legendgroup": "whipped/sour cream",
         "marker": {
          "color": "#19d3f3"
         },
         "name": "whipped/sour cream",
         "offsetgroup": "whipped/sour cream",
         "orientation": "v",
         "showlegend": true,
         "textposition": "auto",
         "type": "bar",
         "x": [
          "whipped/sour cream"
         ],
         "xaxis": "x",
         "y": [
          662
         ],
         "yaxis": "y"
        },
        {
         "alignmentgroup": "True",
         "hovertemplate": "color=newspapers<br>x=%{x}<br>y=%{y}<extra></extra>",
         "legendgroup": "newspapers",
         "marker": {
          "color": "#FF6692"
         },
         "name": "newspapers",
         "offsetgroup": "newspapers",
         "orientation": "v",
         "showlegend": true,
         "textposition": "auto",
         "type": "bar",
         "x": [
          "newspapers"
         ],
         "xaxis": "x",
         "y": [
          596
         ],
         "yaxis": "y"
        },
        {
         "alignmentgroup": "True",
         "hovertemplate": "color=frankfurter<br>x=%{x}<br>y=%{y}<extra></extra>",
         "legendgroup": "frankfurter",
         "marker": {
          "color": "#B6E880"
         },
         "name": "frankfurter",
         "offsetgroup": "frankfurter",
         "orientation": "v",
         "showlegend": true,
         "textposition": "auto",
         "type": "bar",
         "x": [
          "frankfurter"
         ],
         "xaxis": "x",
         "y": [
          580
         ],
         "yaxis": "y"
        },
        {
         "alignmentgroup": "True",
         "hovertemplate": "color=brown bread<br>x=%{x}<br>y=%{y}<extra></extra>",
         "legendgroup": "brown bread",
         "marker": {
          "color": "#FF97FF"
         },
         "name": "brown bread",
         "offsetgroup": "brown bread",
         "orientation": "v",
         "showlegend": true,
         "textposition": "auto",
         "type": "bar",
         "x": [
          "brown bread"
         ],
         "xaxis": "x",
         "y": [
          571
         ],
         "yaxis": "y"
        },
        {
         "alignmentgroup": "True",
         "hovertemplate": "color=domestic eggs<br>x=%{x}<br>y=%{y}<extra></extra>",
         "legendgroup": "domestic eggs",
         "marker": {
          "color": "#FECB52"
         },
         "name": "domestic eggs",
         "offsetgroup": "domestic eggs",
         "orientation": "v",
         "showlegend": true,
         "textposition": "auto",
         "type": "bar",
         "x": [
          "domestic eggs"
         ],
         "xaxis": "x",
         "y": [
          566
         ],
         "yaxis": "y"
        },
        {
         "alignmentgroup": "True",
         "hovertemplate": "color=pork<br>x=%{x}<br>y=%{y}<extra></extra>",
         "legendgroup": "pork",
         "marker": {
          "color": "#636efa"
         },
         "name": "pork",
         "offsetgroup": "pork",
         "orientation": "v",
         "showlegend": true,
         "textposition": "auto",
         "type": "bar",
         "x": [
          "pork"
         ],
         "xaxis": "x",
         "y": [
          566
         ],
         "yaxis": "y"
        },
        {
         "alignmentgroup": "True",
         "hovertemplate": "color=butter<br>x=%{x}<br>y=%{y}<extra></extra>",
         "legendgroup": "butter",
         "marker": {
          "color": "#EF553B"
         },
         "name": "butter",
         "offsetgroup": "butter",
         "orientation": "v",
         "showlegend": true,
         "textposition": "auto",
         "type": "bar",
         "x": [
          "butter"
         ],
         "xaxis": "x",
         "y": [
          534
         ],
         "yaxis": "y"
        },
        {
         "alignmentgroup": "True",
         "hovertemplate": "color=fruit/vegetable juice<br>x=%{x}<br>y=%{y}<extra></extra>",
         "legendgroup": "fruit/vegetable juice",
         "marker": {
          "color": "#00cc96"
         },
         "name": "fruit/vegetable juice",
         "offsetgroup": "fruit/vegetable juice",
         "orientation": "v",
         "showlegend": true,
         "textposition": "auto",
         "type": "bar",
         "x": [
          "fruit/vegetable juice"
         ],
         "xaxis": "x",
         "y": [
          518
         ],
         "yaxis": "y"
        },
        {
         "alignmentgroup": "True",
         "hovertemplate": "color=beef<br>x=%{x}<br>y=%{y}<extra></extra>",
         "legendgroup": "beef",
         "marker": {
          "color": "#ab63fa"
         },
         "name": "beef",
         "offsetgroup": "beef",
         "orientation": "v",
         "showlegend": true,
         "textposition": "auto",
         "type": "bar",
         "x": [
          "beef"
         ],
         "xaxis": "x",
         "y": [
          516
         ],
         "yaxis": "y"
        },
        {
         "alignmentgroup": "True",
         "hovertemplate": "color=curd<br>x=%{x}<br>y=%{y}<extra></extra>",
         "legendgroup": "curd",
         "marker": {
          "color": "#FFA15A"
         },
         "name": "curd",
         "offsetgroup": "curd",
         "orientation": "v",
         "showlegend": true,
         "textposition": "auto",
         "type": "bar",
         "x": [
          "curd"
         ],
         "xaxis": "x",
         "y": [
          514
         ],
         "yaxis": "y"
        },
        {
         "alignmentgroup": "True",
         "hovertemplate": "color=margarine<br>x=%{x}<br>y=%{y}<extra></extra>",
         "legendgroup": "margarine",
         "marker": {
          "color": "#19d3f3"
         },
         "name": "margarine",
         "offsetgroup": "margarine",
         "orientation": "v",
         "showlegend": true,
         "textposition": "auto",
         "type": "bar",
         "x": [
          "margarine"
         ],
         "xaxis": "x",
         "y": [
          491
         ],
         "yaxis": "y"
        },
        {
         "alignmentgroup": "True",
         "hovertemplate": "color=coffee<br>x=%{x}<br>y=%{y}<extra></extra>",
         "legendgroup": "coffee",
         "marker": {
          "color": "#FF6692"
         },
         "name": "coffee",
         "offsetgroup": "coffee",
         "orientation": "v",
         "showlegend": true,
         "textposition": "auto",
         "type": "bar",
         "x": [
          "coffee"
         ],
         "xaxis": "x",
         "y": [
          476
         ],
         "yaxis": "y"
        },
        {
         "alignmentgroup": "True",
         "hovertemplate": "color=frozen vegetables<br>x=%{x}<br>y=%{y}<extra></extra>",
         "legendgroup": "frozen vegetables",
         "marker": {
          "color": "#B6E880"
         },
         "name": "frozen vegetables",
         "offsetgroup": "frozen vegetables",
         "orientation": "v",
         "showlegend": true,
         "textposition": "auto",
         "type": "bar",
         "x": [
          "frozen vegetables"
         ],
         "xaxis": "x",
         "y": [
          425
         ],
         "yaxis": "y"
        },
        {
         "alignmentgroup": "True",
         "hovertemplate": "color=chicken<br>x=%{x}<br>y=%{y}<extra></extra>",
         "legendgroup": "chicken",
         "marker": {
          "color": "#FF97FF"
         },
         "name": "chicken",
         "offsetgroup": "chicken",
         "orientation": "v",
         "showlegend": true,
         "textposition": "auto",
         "type": "bar",
         "x": [
          "chicken"
         ],
         "xaxis": "x",
         "y": [
          422
         ],
         "yaxis": "y"
        },
        {
         "alignmentgroup": "True",
         "hovertemplate": "color=white bread<br>x=%{x}<br>y=%{y}<extra></extra>",
         "legendgroup": "white bread",
         "marker": {
          "color": "#FECB52"
         },
         "name": "white bread",
         "offsetgroup": "white bread",
         "orientation": "v",
         "showlegend": true,
         "textposition": "auto",
         "type": "bar",
         "x": [
          "white bread"
         ],
         "xaxis": "x",
         "y": [
          362
         ],
         "yaxis": "y"
        },
        {
         "alignmentgroup": "True",
         "hovertemplate": "color=cream cheese <br>x=%{x}<br>y=%{y}<extra></extra>",
         "legendgroup": "cream cheese ",
         "marker": {
          "color": "#636efa"
         },
         "name": "cream cheese ",
         "offsetgroup": "cream cheese ",
         "orientation": "v",
         "showlegend": true,
         "textposition": "auto",
         "type": "bar",
         "x": [
          "cream cheese "
         ],
         "xaxis": "x",
         "y": [
          358
         ],
         "yaxis": "y"
        },
        {
         "alignmentgroup": "True",
         "hovertemplate": "color=chocolate<br>x=%{x}<br>y=%{y}<extra></extra>",
         "legendgroup": "chocolate",
         "marker": {
          "color": "#EF553B"
         },
         "name": "chocolate",
         "offsetgroup": "chocolate",
         "orientation": "v",
         "showlegend": true,
         "textposition": "auto",
         "type": "bar",
         "x": [
          "chocolate"
         ],
         "xaxis": "x",
         "y": [
          357
         ],
         "yaxis": "y"
        },
        {
         "alignmentgroup": "True",
         "hovertemplate": "color=dessert<br>x=%{x}<br>y=%{y}<extra></extra>",
         "legendgroup": "dessert",
         "marker": {
          "color": "#00cc96"
         },
         "name": "dessert",
         "offsetgroup": "dessert",
         "orientation": "v",
         "showlegend": true,
         "textposition": "auto",
         "type": "bar",
         "x": [
          "dessert"
         ],
         "xaxis": "x",
         "y": [
          356
         ],
         "yaxis": "y"
        },
        {
         "alignmentgroup": "True",
         "hovertemplate": "color=napkins<br>x=%{x}<br>y=%{y}<extra></extra>",
         "legendgroup": "napkins",
         "marker": {
          "color": "#ab63fa"
         },
         "name": "napkins",
         "offsetgroup": "napkins",
         "orientation": "v",
         "showlegend": true,
         "textposition": "auto",
         "type": "bar",
         "x": [
          "napkins"
         ],
         "xaxis": "x",
         "y": [
          335
         ],
         "yaxis": "y"
        },
        {
         "alignmentgroup": "True",
         "hovertemplate": "color=berries<br>x=%{x}<br>y=%{y}<extra></extra>",
         "legendgroup": "berries",
         "marker": {
          "color": "#FFA15A"
         },
         "name": "berries",
         "offsetgroup": "berries",
         "orientation": "v",
         "showlegend": true,
         "textposition": "auto",
         "type": "bar",
         "x": [
          "berries"
         ],
         "xaxis": "x",
         "y": [
          327
         ],
         "yaxis": "y"
        },
        {
         "alignmentgroup": "True",
         "hovertemplate": "color=hamburger meat<br>x=%{x}<br>y=%{y}<extra></extra>",
         "legendgroup": "hamburger meat",
         "marker": {
          "color": "#19d3f3"
         },
         "name": "hamburger meat",
         "offsetgroup": "hamburger meat",
         "orientation": "v",
         "showlegend": true,
         "textposition": "auto",
         "type": "bar",
         "x": [
          "hamburger meat"
         ],
         "xaxis": "x",
         "y": [
          327
         ],
         "yaxis": "y"
        },
        {
         "alignmentgroup": "True",
         "hovertemplate": "color=UHT-milk<br>x=%{x}<br>y=%{y}<extra></extra>",
         "legendgroup": "UHT-milk",
         "marker": {
          "color": "#FF6692"
         },
         "name": "UHT-milk",
         "offsetgroup": "UHT-milk",
         "orientation": "v",
         "showlegend": true,
         "textposition": "auto",
         "type": "bar",
         "x": [
          "UHT-milk"
         ],
         "xaxis": "x",
         "y": [
          323
         ],
         "yaxis": "y"
        },
        {
         "alignmentgroup": "True",
         "hovertemplate": "color=onions<br>x=%{x}<br>y=%{y}<extra></extra>",
         "legendgroup": "onions",
         "marker": {
          "color": "#B6E880"
         },
         "name": "onions",
         "offsetgroup": "onions",
         "orientation": "v",
         "showlegend": true,
         "textposition": "auto",
         "type": "bar",
         "x": [
          "onions"
         ],
         "xaxis": "x",
         "y": [
          305
         ],
         "yaxis": "y"
        },
        {
         "alignmentgroup": "True",
         "hovertemplate": "color=salty snack<br>x=%{x}<br>y=%{y}<extra></extra>",
         "legendgroup": "salty snack",
         "marker": {
          "color": "#FF97FF"
         },
         "name": "salty snack",
         "offsetgroup": "salty snack",
         "orientation": "v",
         "showlegend": true,
         "textposition": "auto",
         "type": "bar",
         "x": [
          "salty snack"
         ],
         "xaxis": "x",
         "y": [
          283
         ],
         "yaxis": "y"
        },
        {
         "alignmentgroup": "True",
         "hovertemplate": "color=waffles<br>x=%{x}<br>y=%{y}<extra></extra>",
         "legendgroup": "waffles",
         "marker": {
          "color": "#FECB52"
         },
         "name": "waffles",
         "offsetgroup": "waffles",
         "orientation": "v",
         "showlegend": true,
         "textposition": "auto",
         "type": "bar",
         "x": [
          "waffles"
         ],
         "xaxis": "x",
         "y": [
          280
         ],
         "yaxis": "y"
        },
        {
         "alignmentgroup": "True",
         "hovertemplate": "color=long life bakery product<br>x=%{x}<br>y=%{y}<extra></extra>",
         "legendgroup": "long life bakery product",
         "marker": {
          "color": "#636efa"
         },
         "name": "long life bakery product",
         "offsetgroup": "long life bakery product",
         "orientation": "v",
         "showlegend": true,
         "textposition": "auto",
         "type": "bar",
         "x": [
          "long life bakery product"
         ],
         "xaxis": "x",
         "y": [
          269
         ],
         "yaxis": "y"
        },
        {
         "alignmentgroup": "True",
         "hovertemplate": "color=sugar<br>x=%{x}<br>y=%{y}<extra></extra>",
         "legendgroup": "sugar",
         "marker": {
          "color": "#EF553B"
         },
         "name": "sugar",
         "offsetgroup": "sugar",
         "orientation": "v",
         "showlegend": true,
         "textposition": "auto",
         "type": "bar",
         "x": [
          "sugar"
         ],
         "xaxis": "x",
         "y": [
          265
         ],
         "yaxis": "y"
        },
        {
         "alignmentgroup": "True",
         "hovertemplate": "color=butter milk<br>x=%{x}<br>y=%{y}<extra></extra>",
         "legendgroup": "butter milk",
         "marker": {
          "color": "#00cc96"
         },
         "name": "butter milk",
         "offsetgroup": "butter milk",
         "orientation": "v",
         "showlegend": true,
         "textposition": "auto",
         "type": "bar",
         "x": [
          "butter milk"
         ],
         "xaxis": "x",
         "y": [
          263
         ],
         "yaxis": "y"
        },
        {
         "alignmentgroup": "True",
         "hovertemplate": "color=ham<br>x=%{x}<br>y=%{y}<extra></extra>",
         "legendgroup": "ham",
         "marker": {
          "color": "#ab63fa"
         },
         "name": "ham",
         "offsetgroup": "ham",
         "orientation": "v",
         "showlegend": true,
         "textposition": "auto",
         "type": "bar",
         "x": [
          "ham"
         ],
         "xaxis": "x",
         "y": [
          256
         ],
         "yaxis": "y"
        },
        {
         "alignmentgroup": "True",
         "hovertemplate": "color=meat<br>x=%{x}<br>y=%{y}<extra></extra>",
         "legendgroup": "meat",
         "marker": {
          "color": "#FFA15A"
         },
         "name": "meat",
         "offsetgroup": "meat",
         "orientation": "v",
         "showlegend": true,
         "textposition": "auto",
         "type": "bar",
         "x": [
          "meat"
         ],
         "xaxis": "x",
         "y": [
          254
         ],
         "yaxis": "y"
        },
        {
         "alignmentgroup": "True",
         "hovertemplate": "color=frozen meals<br>x=%{x}<br>y=%{y}<extra></extra>",
         "legendgroup": "frozen meals",
         "marker": {
          "color": "#19d3f3"
         },
         "name": "frozen meals",
         "offsetgroup": "frozen meals",
         "orientation": "v",
         "showlegend": true,
         "textposition": "auto",
         "type": "bar",
         "x": [
          "frozen meals"
         ],
         "xaxis": "x",
         "y": [
          252
         ],
         "yaxis": "y"
        },
        {
         "alignmentgroup": "True",
         "hovertemplate": "color=beverages<br>x=%{x}<br>y=%{y}<extra></extra>",
         "legendgroup": "beverages",
         "marker": {
          "color": "#FF6692"
         },
         "name": "beverages",
         "offsetgroup": "beverages",
         "orientation": "v",
         "showlegend": true,
         "textposition": "auto",
         "type": "bar",
         "x": [
          "beverages"
         ],
         "xaxis": "x",
         "y": [
          251
         ],
         "yaxis": "y"
        },
        {
         "alignmentgroup": "True",
         "hovertemplate": "color=specialty chocolate<br>x=%{x}<br>y=%{y}<extra></extra>",
         "legendgroup": "specialty chocolate",
         "marker": {
          "color": "#B6E880"
         },
         "name": "specialty chocolate",
         "offsetgroup": "specialty chocolate",
         "orientation": "v",
         "showlegend": true,
         "textposition": "auto",
         "type": "bar",
         "x": [
          "specialty chocolate"
         ],
         "xaxis": "x",
         "y": [
          240
         ],
         "yaxis": "y"
        },
        {
         "alignmentgroup": "True",
         "hovertemplate": "color=misc. beverages<br>x=%{x}<br>y=%{y}<extra></extra>",
         "legendgroup": "misc. beverages",
         "marker": {
          "color": "#FF97FF"
         },
         "name": "misc. beverages",
         "offsetgroup": "misc. beverages",
         "orientation": "v",
         "showlegend": true,
         "textposition": "auto",
         "type": "bar",
         "x": [
          "misc. beverages"
         ],
         "xaxis": "x",
         "y": [
          238
         ],
         "yaxis": "y"
        },
        {
         "alignmentgroup": "True",
         "hovertemplate": "color=ice cream<br>x=%{x}<br>y=%{y}<extra></extra>",
         "legendgroup": "ice cream",
         "marker": {
          "color": "#FECB52"
         },
         "name": "ice cream",
         "offsetgroup": "ice cream",
         "orientation": "v",
         "showlegend": true,
         "textposition": "auto",
         "type": "bar",
         "x": [
          "ice cream"
         ],
         "xaxis": "x",
         "y": [
          227
         ],
         "yaxis": "y"
        },
        {
         "alignmentgroup": "True",
         "hovertemplate": "color=oil<br>x=%{x}<br>y=%{y}<extra></extra>",
         "legendgroup": "oil",
         "marker": {
          "color": "#636efa"
         },
         "name": "oil",
         "offsetgroup": "oil",
         "orientation": "v",
         "showlegend": true,
         "textposition": "auto",
         "type": "bar",
         "x": [
          "oil"
         ],
         "xaxis": "x",
         "y": [
          225
         ],
         "yaxis": "y"
        },
        {
         "alignmentgroup": "True",
         "hovertemplate": "color=grapes<br>x=%{x}<br>y=%{y}<extra></extra>",
         "legendgroup": "grapes",
         "marker": {
          "color": "#EF553B"
         },
         "name": "grapes",
         "offsetgroup": "grapes",
         "orientation": "v",
         "showlegend": true,
         "textposition": "auto",
         "type": "bar",
         "x": [
          "grapes"
         ],
         "xaxis": "x",
         "y": [
          220
         ],
         "yaxis": "y"
        },
        {
         "alignmentgroup": "True",
         "hovertemplate": "color=hard cheese<br>x=%{x}<br>y=%{y}<extra></extra>",
         "legendgroup": "hard cheese",
         "marker": {
          "color": "#00cc96"
         },
         "name": "hard cheese",
         "offsetgroup": "hard cheese",
         "orientation": "v",
         "showlegend": true,
         "textposition": "auto",
         "type": "bar",
         "x": [
          "hard cheese"
         ],
         "xaxis": "x",
         "y": [
          220
         ],
         "yaxis": "y"
        },
        {
         "alignmentgroup": "True",
         "hovertemplate": "color=candy<br>x=%{x}<br>y=%{y}<extra></extra>",
         "legendgroup": "candy",
         "marker": {
          "color": "#ab63fa"
         },
         "name": "candy",
         "offsetgroup": "candy",
         "orientation": "v",
         "showlegend": true,
         "textposition": "auto",
         "type": "bar",
         "x": [
          "candy"
         ],
         "xaxis": "x",
         "y": [
          219
         ],
         "yaxis": "y"
        },
        {
         "alignmentgroup": "True",
         "hovertemplate": "color=sliced cheese<br>x=%{x}<br>y=%{y}<extra></extra>",
         "legendgroup": "sliced cheese",
         "marker": {
          "color": "#FFA15A"
         },
         "name": "sliced cheese",
         "offsetgroup": "sliced cheese",
         "orientation": "v",
         "showlegend": true,
         "textposition": "auto",
         "type": "bar",
         "x": [
          "sliced cheese"
         ],
         "xaxis": "x",
         "y": [
          212
         ],
         "yaxis": "y"
        },
        {
         "alignmentgroup": "True",
         "hovertemplate": "color=specialty bar<br>x=%{x}<br>y=%{y}<extra></extra>",
         "legendgroup": "specialty bar",
         "marker": {
          "color": "#19d3f3"
         },
         "name": "specialty bar",
         "offsetgroup": "specialty bar",
         "orientation": "v",
         "showlegend": true,
         "textposition": "auto",
         "type": "bar",
         "x": [
          "specialty bar"
         ],
         "xaxis": "x",
         "y": [
          210
         ],
         "yaxis": "y"
        },
        {
         "alignmentgroup": "True",
         "hovertemplate": "color=hygiene articles<br>x=%{x}<br>y=%{y}<extra></extra>",
         "legendgroup": "hygiene articles",
         "marker": {
          "color": "#FF6692"
         },
         "name": "hygiene articles",
         "offsetgroup": "hygiene articles",
         "orientation": "v",
         "showlegend": true,
         "textposition": "auto",
         "type": "bar",
         "x": [
          "hygiene articles"
         ],
         "xaxis": "x",
         "y": [
          208
         ],
         "yaxis": "y"
        },
        {
         "alignmentgroup": "True",
         "hovertemplate": "color=chewing gum<br>x=%{x}<br>y=%{y}<extra></extra>",
         "legendgroup": "chewing gum",
         "marker": {
          "color": "#B6E880"
         },
         "name": "chewing gum",
         "offsetgroup": "chewing gum",
         "orientation": "v",
         "showlegend": true,
         "textposition": "auto",
         "type": "bar",
         "x": [
          "chewing gum"
         ],
         "xaxis": "x",
         "y": [
          181
         ],
         "yaxis": "y"
        },
        {
         "alignmentgroup": "True",
         "hovertemplate": "color=cat food<br>x=%{x}<br>y=%{y}<extra></extra>",
         "legendgroup": "cat food",
         "marker": {
          "color": "#FF97FF"
         },
         "name": "cat food",
         "offsetgroup": "cat food",
         "orientation": "v",
         "showlegend": true,
         "textposition": "auto",
         "type": "bar",
         "x": [
          "cat food"
         ],
         "xaxis": "x",
         "y": [
          177
         ],
         "yaxis": "y"
        },
        {
         "alignmentgroup": "True",
         "hovertemplate": "color=white wine<br>x=%{x}<br>y=%{y}<extra></extra>",
         "legendgroup": "white wine",
         "marker": {
          "color": "#FECB52"
         },
         "name": "white wine",
         "offsetgroup": "white wine",
         "orientation": "v",
         "showlegend": true,
         "textposition": "auto",
         "type": "bar",
         "x": [
          "white wine"
         ],
         "xaxis": "x",
         "y": [
          176
         ],
         "yaxis": "y"
        },
        {
         "alignmentgroup": "True",
         "hovertemplate": "color=herbs<br>x=%{x}<br>y=%{y}<extra></extra>",
         "legendgroup": "herbs",
         "marker": {
          "color": "#636efa"
         },
         "name": "herbs",
         "offsetgroup": "herbs",
         "orientation": "v",
         "showlegend": true,
         "textposition": "auto",
         "type": "bar",
         "x": [
          "herbs"
         ],
         "xaxis": "x",
         "y": [
          159
         ],
         "yaxis": "y"
        },
        {
         "alignmentgroup": "True",
         "hovertemplate": "color=red/blush wine<br>x=%{x}<br>y=%{y}<extra></extra>",
         "legendgroup": "red/blush wine",
         "marker": {
          "color": "#EF553B"
         },
         "name": "red/blush wine",
         "offsetgroup": "red/blush wine",
         "orientation": "v",
         "showlegend": true,
         "textposition": "auto",
         "type": "bar",
         "x": [
          "red/blush wine"
         ],
         "xaxis": "x",
         "y": [
          157
         ],
         "yaxis": "y"
        },
        {
         "alignmentgroup": "True",
         "hovertemplate": "color=processed cheese<br>x=%{x}<br>y=%{y}<extra></extra>",
         "legendgroup": "processed cheese",
         "marker": {
          "color": "#00cc96"
         },
         "name": "processed cheese",
         "offsetgroup": "processed cheese",
         "orientation": "v",
         "showlegend": true,
         "textposition": "auto",
         "type": "bar",
         "x": [
          "processed cheese"
         ],
         "xaxis": "x",
         "y": [
          152
         ],
         "yaxis": "y"
        },
        {
         "alignmentgroup": "True",
         "hovertemplate": "color=soft cheese<br>x=%{x}<br>y=%{y}<extra></extra>",
         "legendgroup": "soft cheese",
         "marker": {
          "color": "#ab63fa"
         },
         "name": "soft cheese",
         "offsetgroup": "soft cheese",
         "orientation": "v",
         "showlegend": true,
         "textposition": "auto",
         "type": "bar",
         "x": [
          "soft cheese"
         ],
         "xaxis": "x",
         "y": [
          152
         ],
         "yaxis": "y"
        },
        {
         "alignmentgroup": "True",
         "hovertemplate": "color=flour<br>x=%{x}<br>y=%{y}<extra></extra>",
         "legendgroup": "flour",
         "marker": {
          "color": "#FFA15A"
         },
         "name": "flour",
         "offsetgroup": "flour",
         "orientation": "v",
         "showlegend": true,
         "textposition": "auto",
         "type": "bar",
         "x": [
          "flour"
         ],
         "xaxis": "x",
         "y": [
          146
         ],
         "yaxis": "y"
        },
        {
         "alignmentgroup": "True",
         "hovertemplate": "color=semi-finished bread<br>x=%{x}<br>y=%{y}<extra></extra>",
         "legendgroup": "semi-finished bread",
         "marker": {
          "color": "#19d3f3"
         },
         "name": "semi-finished bread",
         "offsetgroup": "semi-finished bread",
         "orientation": "v",
         "showlegend": true,
         "textposition": "auto",
         "type": "bar",
         "x": [
          "semi-finished bread"
         ],
         "xaxis": "x",
         "y": [
          142
         ],
         "yaxis": "y"
        },
        {
         "alignmentgroup": "True",
         "hovertemplate": "color=dishes<br>x=%{x}<br>y=%{y}<extra></extra>",
         "legendgroup": "dishes",
         "marker": {
          "color": "#FF6692"
         },
         "name": "dishes",
         "offsetgroup": "dishes",
         "orientation": "v",
         "showlegend": true,
         "textposition": "auto",
         "type": "bar",
         "x": [
          "dishes"
         ],
         "xaxis": "x",
         "y": [
          135
         ],
         "yaxis": "y"
        },
        {
         "alignmentgroup": "True",
         "hovertemplate": "color=pickled vegetables<br>x=%{x}<br>y=%{y}<extra></extra>",
         "legendgroup": "pickled vegetables",
         "marker": {
          "color": "#B6E880"
         },
         "name": "pickled vegetables",
         "offsetgroup": "pickled vegetables",
         "orientation": "v",
         "showlegend": true,
         "textposition": "auto",
         "type": "bar",
         "x": [
          "pickled vegetables"
         ],
         "xaxis": "x",
         "y": [
          134
         ],
         "yaxis": "y"
        },
        {
         "alignmentgroup": "True",
         "hovertemplate": "color=detergent<br>x=%{x}<br>y=%{y}<extra></extra>",
         "legendgroup": "detergent",
         "marker": {
          "color": "#FF97FF"
         },
         "name": "detergent",
         "offsetgroup": "detergent",
         "orientation": "v",
         "showlegend": true,
         "textposition": "auto",
         "type": "bar",
         "x": [
          "detergent"
         ],
         "xaxis": "x",
         "y": [
          130
         ],
         "yaxis": "y"
        },
        {
         "alignmentgroup": "True",
         "hovertemplate": "color=packaged fruit/vegetables<br>x=%{x}<br>y=%{y}<extra></extra>",
         "legendgroup": "packaged fruit/vegetables",
         "marker": {
          "color": "#FECB52"
         },
         "name": "packaged fruit/vegetables",
         "offsetgroup": "packaged fruit/vegetables",
         "orientation": "v",
         "showlegend": true,
         "textposition": "auto",
         "type": "bar",
         "x": [
          "packaged fruit/vegetables"
         ],
         "xaxis": "x",
         "y": [
          128
         ],
         "yaxis": "y"
        },
        {
         "alignmentgroup": "True",
         "hovertemplate": "color=baking powder<br>x=%{x}<br>y=%{y}<extra></extra>",
         "legendgroup": "baking powder",
         "marker": {
          "color": "#636efa"
         },
         "name": "baking powder",
         "offsetgroup": "baking powder",
         "orientation": "v",
         "showlegend": true,
         "textposition": "auto",
         "type": "bar",
         "x": [
          "baking powder"
         ],
         "xaxis": "x",
         "y": [
          122
         ],
         "yaxis": "y"
        },
        {
         "alignmentgroup": "True",
         "hovertemplate": "color=pasta<br>x=%{x}<br>y=%{y}<extra></extra>",
         "legendgroup": "pasta",
         "marker": {
          "color": "#EF553B"
         },
         "name": "pasta",
         "offsetgroup": "pasta",
         "orientation": "v",
         "showlegend": true,
         "textposition": "auto",
         "type": "bar",
         "x": [
          "pasta"
         ],
         "xaxis": "x",
         "y": [
          121
         ],
         "yaxis": "y"
        },
        {
         "alignmentgroup": "True",
         "hovertemplate": "color=pot plants<br>x=%{x}<br>y=%{y}<extra></extra>",
         "legendgroup": "pot plants",
         "marker": {
          "color": "#00cc96"
         },
         "name": "pot plants",
         "offsetgroup": "pot plants",
         "orientation": "v",
         "showlegend": true,
         "textposition": "auto",
         "type": "bar",
         "x": [
          "pot plants"
         ],
         "xaxis": "x",
         "y": [
          118
         ],
         "yaxis": "y"
        },
        {
         "alignmentgroup": "True",
         "hovertemplate": "color=canned fish<br>x=%{x}<br>y=%{y}<extra></extra>",
         "legendgroup": "canned fish",
         "marker": {
          "color": "#ab63fa"
         },
         "name": "canned fish",
         "offsetgroup": "canned fish",
         "orientation": "v",
         "showlegend": true,
         "textposition": "auto",
         "type": "bar",
         "x": [
          "canned fish"
         ],
         "xaxis": "x",
         "y": [
          116
         ],
         "yaxis": "y"
        },
        {
         "alignmentgroup": "True",
         "hovertemplate": "color=seasonal products<br>x=%{x}<br>y=%{y}<extra></extra>",
         "legendgroup": "seasonal products",
         "marker": {
          "color": "#FFA15A"
         },
         "name": "seasonal products",
         "offsetgroup": "seasonal products",
         "orientation": "v",
         "showlegend": true,
         "textposition": "auto",
         "type": "bar",
         "x": [
          "seasonal products"
         ],
         "xaxis": "x",
         "y": [
          106
         ],
         "yaxis": "y"
        },
        {
         "alignmentgroup": "True",
         "hovertemplate": "color=liquor<br>x=%{x}<br>y=%{y}<extra></extra>",
         "legendgroup": "liquor",
         "marker": {
          "color": "#19d3f3"
         },
         "name": "liquor",
         "offsetgroup": "liquor",
         "orientation": "v",
         "showlegend": true,
         "textposition": "auto",
         "type": "bar",
         "x": [
          "liquor"
         ],
         "xaxis": "x",
         "y": [
          103
         ],
         "yaxis": "y"
        },
        {
         "alignmentgroup": "True",
         "hovertemplate": "color=frozen fish<br>x=%{x}<br>y=%{y}<extra></extra>",
         "legendgroup": "frozen fish",
         "marker": {
          "color": "#FF6692"
         },
         "name": "frozen fish",
         "offsetgroup": "frozen fish",
         "orientation": "v",
         "showlegend": true,
         "textposition": "auto",
         "type": "bar",
         "x": [
          "frozen fish"
         ],
         "xaxis": "x",
         "y": [
          102
         ],
         "yaxis": "y"
        },
        {
         "alignmentgroup": "True",
         "hovertemplate": "color=spread cheese<br>x=%{x}<br>y=%{y}<extra></extra>",
         "legendgroup": "spread cheese",
         "marker": {
          "color": "#B6E880"
         },
         "name": "spread cheese",
         "offsetgroup": "spread cheese",
         "orientation": "v",
         "showlegend": true,
         "textposition": "auto",
         "type": "bar",
         "x": [
          "spread cheese"
         ],
         "xaxis": "x",
         "y": [
          100
         ],
         "yaxis": "y"
        },
        {
         "alignmentgroup": "True",
         "hovertemplate": "color=condensed milk<br>x=%{x}<br>y=%{y}<extra></extra>",
         "legendgroup": "condensed milk",
         "marker": {
          "color": "#FF97FF"
         },
         "name": "condensed milk",
         "offsetgroup": "condensed milk",
         "orientation": "v",
         "showlegend": true,
         "textposition": "auto",
         "type": "bar",
         "x": [
          "condensed milk"
         ],
         "xaxis": "x",
         "y": [
          98
         ],
         "yaxis": "y"
        },
        {
         "alignmentgroup": "True",
         "hovertemplate": "color=cake bar<br>x=%{x}<br>y=%{y}<extra></extra>",
         "legendgroup": "cake bar",
         "marker": {
          "color": "#FECB52"
         },
         "name": "cake bar",
         "offsetgroup": "cake bar",
         "orientation": "v",
         "showlegend": true,
         "textposition": "auto",
         "type": "bar",
         "x": [
          "cake bar"
         ],
         "xaxis": "x",
         "y": [
          93
         ],
         "yaxis": "y"
        },
        {
         "alignmentgroup": "True",
         "hovertemplate": "color=mustard<br>x=%{x}<br>y=%{y}<extra></extra>",
         "legendgroup": "mustard",
         "marker": {
          "color": "#636efa"
         },
         "name": "mustard",
         "offsetgroup": "mustard",
         "orientation": "v",
         "showlegend": true,
         "textposition": "auto",
         "type": "bar",
         "x": [
          "mustard"
         ],
         "xaxis": "x",
         "y": [
          92
         ],
         "yaxis": "y"
        },
        {
         "alignmentgroup": "True",
         "hovertemplate": "color=frozen dessert<br>x=%{x}<br>y=%{y}<extra></extra>",
         "legendgroup": "frozen dessert",
         "marker": {
          "color": "#EF553B"
         },
         "name": "frozen dessert",
         "offsetgroup": "frozen dessert",
         "orientation": "v",
         "showlegend": true,
         "textposition": "auto",
         "type": "bar",
         "x": [
          "frozen dessert"
         ],
         "xaxis": "x",
         "y": [
          92
         ],
         "yaxis": "y"
        },
        {
         "alignmentgroup": "True",
         "hovertemplate": "color=salt<br>x=%{x}<br>y=%{y}<extra></extra>",
         "legendgroup": "salt",
         "marker": {
          "color": "#00cc96"
         },
         "name": "salt",
         "offsetgroup": "salt",
         "orientation": "v",
         "showlegend": true,
         "textposition": "auto",
         "type": "bar",
         "x": [
          "salt"
         ],
         "xaxis": "x",
         "y": [
          89
         ],
         "yaxis": "y"
        },
        {
         "alignmentgroup": "True",
         "hovertemplate": "color=pet care<br>x=%{x}<br>y=%{y}<extra></extra>",
         "legendgroup": "pet care",
         "marker": {
          "color": "#ab63fa"
         },
         "name": "pet care",
         "offsetgroup": "pet care",
         "orientation": "v",
         "showlegend": true,
         "textposition": "auto",
         "type": "bar",
         "x": [
          "pet care"
         ],
         "xaxis": "x",
         "y": [
          85
         ],
         "yaxis": "y"
        },
        {
         "alignmentgroup": "True",
         "hovertemplate": "color=roll products <br>x=%{x}<br>y=%{y}<extra></extra>",
         "legendgroup": "roll products ",
         "marker": {
          "color": "#FFA15A"
         },
         "name": "roll products ",
         "offsetgroup": "roll products ",
         "orientation": "v",
         "showlegend": true,
         "textposition": "auto",
         "type": "bar",
         "x": [
          "roll products "
         ],
         "xaxis": "x",
         "y": [
          82
         ],
         "yaxis": "y"
        },
        {
         "alignmentgroup": "True",
         "hovertemplate": "color=canned vegetables<br>x=%{x}<br>y=%{y}<extra></extra>",
         "legendgroup": "canned vegetables",
         "marker": {
          "color": "#19d3f3"
         },
         "name": "canned vegetables",
         "offsetgroup": "canned vegetables",
         "orientation": "v",
         "showlegend": true,
         "textposition": "auto",
         "type": "bar",
         "x": [
          "canned vegetables"
         ],
         "xaxis": "x",
         "y": [
          82
         ],
         "yaxis": "y"
        },
        {
         "alignmentgroup": "True",
         "hovertemplate": "color=turkey<br>x=%{x}<br>y=%{y}<extra></extra>",
         "legendgroup": "turkey",
         "marker": {
          "color": "#FF6692"
         },
         "name": "turkey",
         "offsetgroup": "turkey",
         "orientation": "v",
         "showlegend": true,
         "textposition": "auto",
         "type": "bar",
         "x": [
          "turkey"
         ],
         "xaxis": "x",
         "y": [
          80
         ],
         "yaxis": "y"
        },
        {
         "alignmentgroup": "True",
         "hovertemplate": "color=photo/film<br>x=%{x}<br>y=%{y}<extra></extra>",
         "legendgroup": "photo/film",
         "marker": {
          "color": "#B6E880"
         },
         "name": "photo/film",
         "offsetgroup": "photo/film",
         "orientation": "v",
         "showlegend": true,
         "textposition": "auto",
         "type": "bar",
         "x": [
          "photo/film"
         ],
         "xaxis": "x",
         "y": [
          79
         ],
         "yaxis": "y"
        },
        {
         "alignmentgroup": "True",
         "hovertemplate": "color=mayonnaise<br>x=%{x}<br>y=%{y}<extra></extra>",
         "legendgroup": "mayonnaise",
         "marker": {
          "color": "#FF97FF"
         },
         "name": "mayonnaise",
         "offsetgroup": "mayonnaise",
         "orientation": "v",
         "showlegend": true,
         "textposition": "auto",
         "type": "bar",
         "x": [
          "mayonnaise"
         ],
         "xaxis": "x",
         "y": [
          75
         ],
         "yaxis": "y"
        },
        {
         "alignmentgroup": "True",
         "hovertemplate": "color=cling film/bags<br>x=%{x}<br>y=%{y}<extra></extra>",
         "legendgroup": "cling film/bags",
         "marker": {
          "color": "#FECB52"
         },
         "name": "cling film/bags",
         "offsetgroup": "cling film/bags",
         "orientation": "v",
         "showlegend": true,
         "textposition": "auto",
         "type": "bar",
         "x": [
          "cling film/bags"
         ],
         "xaxis": "x",
         "y": [
          74
         ],
         "yaxis": "y"
        },
        {
         "alignmentgroup": "True",
         "hovertemplate": "color=dish cleaner<br>x=%{x}<br>y=%{y}<extra></extra>",
         "legendgroup": "dish cleaner",
         "marker": {
          "color": "#636efa"
         },
         "name": "dish cleaner",
         "offsetgroup": "dish cleaner",
         "orientation": "v",
         "showlegend": true,
         "textposition": "auto",
         "type": "bar",
         "x": [
          "dish cleaner"
         ],
         "xaxis": "x",
         "y": [
          73
         ],
         "yaxis": "y"
        },
        {
         "alignmentgroup": "True",
         "hovertemplate": "color=frozen potato products<br>x=%{x}<br>y=%{y}<extra></extra>",
         "legendgroup": "frozen potato products",
         "marker": {
          "color": "#EF553B"
         },
         "name": "frozen potato products",
         "offsetgroup": "frozen potato products",
         "orientation": "v",
         "showlegend": true,
         "textposition": "auto",
         "type": "bar",
         "x": [
          "frozen potato products"
         ],
         "xaxis": "x",
         "y": [
          72
         ],
         "yaxis": "y"
        },
        {
         "alignmentgroup": "True",
         "hovertemplate": "color=specialty cheese<br>x=%{x}<br>y=%{y}<extra></extra>",
         "legendgroup": "specialty cheese",
         "marker": {
          "color": "#00cc96"
         },
         "name": "specialty cheese",
         "offsetgroup": "specialty cheese",
         "orientation": "v",
         "showlegend": true,
         "textposition": "auto",
         "type": "bar",
         "x": [
          "specialty cheese"
         ],
         "xaxis": "x",
         "y": [
          72
         ],
         "yaxis": "y"
        },
        {
         "alignmentgroup": "True",
         "hovertemplate": "color=flower (seeds)<br>x=%{x}<br>y=%{y}<extra></extra>",
         "legendgroup": "flower (seeds)",
         "marker": {
          "color": "#ab63fa"
         },
         "name": "flower (seeds)",
         "offsetgroup": "flower (seeds)",
         "orientation": "v",
         "showlegend": true,
         "textposition": "auto",
         "type": "bar",
         "x": [
          "flower (seeds)"
         ],
         "xaxis": "x",
         "y": [
          70
         ],
         "yaxis": "y"
        },
        {
         "alignmentgroup": "True",
         "hovertemplate": "color=sweet spreads<br>x=%{x}<br>y=%{y}<extra></extra>",
         "legendgroup": "sweet spreads",
         "marker": {
          "color": "#FFA15A"
         },
         "name": "sweet spreads",
         "offsetgroup": "sweet spreads",
         "orientation": "v",
         "showlegend": true,
         "textposition": "auto",
         "type": "bar",
         "x": [
          "sweet spreads"
         ],
         "xaxis": "x",
         "y": [
          69
         ],
         "yaxis": "y"
        },
        {
         "alignmentgroup": "True",
         "hovertemplate": "color=liquor (appetizer)<br>x=%{x}<br>y=%{y}<extra></extra>",
         "legendgroup": "liquor (appetizer)",
         "marker": {
          "color": "#19d3f3"
         },
         "name": "liquor (appetizer)",
         "offsetgroup": "liquor (appetizer)",
         "orientation": "v",
         "showlegend": true,
         "textposition": "auto",
         "type": "bar",
         "x": [
          "liquor (appetizer)"
         ],
         "xaxis": "x",
         "y": [
          67
         ],
         "yaxis": "y"
        },
        {
         "alignmentgroup": "True",
         "hovertemplate": "color=dog food<br>x=%{x}<br>y=%{y}<extra></extra>",
         "legendgroup": "dog food",
         "marker": {
          "color": "#FF6692"
         },
         "name": "dog food",
         "offsetgroup": "dog food",
         "orientation": "v",
         "showlegend": true,
         "textposition": "auto",
         "type": "bar",
         "x": [
          "dog food"
         ],
         "xaxis": "x",
         "y": [
          67
         ],
         "yaxis": "y"
        },
        {
         "alignmentgroup": "True",
         "hovertemplate": "color=candles<br>x=%{x}<br>y=%{y}<extra></extra>",
         "legendgroup": "candles",
         "marker": {
          "color": "#B6E880"
         },
         "name": "candles",
         "offsetgroup": "candles",
         "orientation": "v",
         "showlegend": true,
         "textposition": "auto",
         "type": "bar",
         "x": [
          "candles"
         ],
         "xaxis": "x",
         "y": [
          66
         ],
         "yaxis": "y"
        },
        {
         "alignmentgroup": "True",
         "hovertemplate": "color=finished products<br>x=%{x}<br>y=%{y}<extra></extra>",
         "legendgroup": "finished products",
         "marker": {
          "color": "#FF97FF"
         },
         "name": "finished products",
         "offsetgroup": "finished products",
         "orientation": "v",
         "showlegend": true,
         "textposition": "auto",
         "type": "bar",
         "x": [
          "finished products"
         ],
         "xaxis": "x",
         "y": [
          64
         ],
         "yaxis": "y"
        },
        {
         "alignmentgroup": "True",
         "hovertemplate": "color=instant coffee<br>x=%{x}<br>y=%{y}<extra></extra>",
         "legendgroup": "instant coffee",
         "marker": {
          "color": "#FECB52"
         },
         "name": "instant coffee",
         "offsetgroup": "instant coffee",
         "orientation": "v",
         "showlegend": true,
         "textposition": "auto",
         "type": "bar",
         "x": [
          "instant coffee"
         ],
         "xaxis": "x",
         "y": [
          61
         ],
         "yaxis": "y"
        },
        {
         "alignmentgroup": "True",
         "hovertemplate": "color=zwieback<br>x=%{x}<br>y=%{y}<extra></extra>",
         "legendgroup": "zwieback",
         "marker": {
          "color": "#636efa"
         },
         "name": "zwieback",
         "offsetgroup": "zwieback",
         "orientation": "v",
         "showlegend": true,
         "textposition": "auto",
         "type": "bar",
         "x": [
          "zwieback"
         ],
         "xaxis": "x",
         "y": [
          60
         ],
         "yaxis": "y"
        },
        {
         "alignmentgroup": "True",
         "hovertemplate": "color=Instant food products<br>x=%{x}<br>y=%{y}<extra></extra>",
         "legendgroup": "Instant food products",
         "marker": {
          "color": "#EF553B"
         },
         "name": "Instant food products",
         "offsetgroup": "Instant food products",
         "orientation": "v",
         "showlegend": true,
         "textposition": "auto",
         "type": "bar",
         "x": [
          "Instant food products"
         ],
         "xaxis": "x",
         "y": [
          60
         ],
         "yaxis": "y"
        },
        {
         "alignmentgroup": "True",
         "hovertemplate": "color=chocolate marshmallow<br>x=%{x}<br>y=%{y}<extra></extra>",
         "legendgroup": "chocolate marshmallow",
         "marker": {
          "color": "#00cc96"
         },
         "name": "chocolate marshmallow",
         "offsetgroup": "chocolate marshmallow",
         "orientation": "v",
         "showlegend": true,
         "textposition": "auto",
         "type": "bar",
         "x": [
          "chocolate marshmallow"
         ],
         "xaxis": "x",
         "y": [
          60
         ],
         "yaxis": "y"
        },
        {
         "alignmentgroup": "True",
         "hovertemplate": "color=vinegar<br>x=%{x}<br>y=%{y}<extra></extra>",
         "legendgroup": "vinegar",
         "marker": {
          "color": "#ab63fa"
         },
         "name": "vinegar",
         "offsetgroup": "vinegar",
         "orientation": "v",
         "showlegend": true,
         "textposition": "auto",
         "type": "bar",
         "x": [
          "vinegar"
         ],
         "xaxis": "x",
         "y": [
          51
         ],
         "yaxis": "y"
        },
        {
         "alignmentgroup": "True",
         "hovertemplate": "color=liver loaf<br>x=%{x}<br>y=%{y}<extra></extra>",
         "legendgroup": "liver loaf",
         "marker": {
          "color": "#FFA15A"
         },
         "name": "liver loaf",
         "offsetgroup": "liver loaf",
         "orientation": "v",
         "showlegend": true,
         "textposition": "auto",
         "type": "bar",
         "x": [
          "liver loaf"
         ],
         "xaxis": "x",
         "y": [
          50
         ],
         "yaxis": "y"
        },
        {
         "alignmentgroup": "True",
         "hovertemplate": "color=rice<br>x=%{x}<br>y=%{y}<extra></extra>",
         "legendgroup": "rice",
         "marker": {
          "color": "#19d3f3"
         },
         "name": "rice",
         "offsetgroup": "rice",
         "orientation": "v",
         "showlegend": true,
         "textposition": "auto",
         "type": "bar",
         "x": [
          "rice"
         ],
         "xaxis": "x",
         "y": [
          49
         ],
         "yaxis": "y"
        },
        {
         "alignmentgroup": "True",
         "hovertemplate": "color=popcorn<br>x=%{x}<br>y=%{y}<extra></extra>",
         "legendgroup": "popcorn",
         "marker": {
          "color": "#FF6692"
         },
         "name": "popcorn",
         "offsetgroup": "popcorn",
         "orientation": "v",
         "showlegend": true,
         "textposition": "auto",
         "type": "bar",
         "x": [
          "popcorn"
         ],
         "xaxis": "x",
         "y": [
          48
         ],
         "yaxis": "y"
        },
        {
         "alignmentgroup": "True",
         "hovertemplate": "color=soups<br>x=%{x}<br>y=%{y}<extra></extra>",
         "legendgroup": "soups",
         "marker": {
          "color": "#B6E880"
         },
         "name": "soups",
         "offsetgroup": "soups",
         "orientation": "v",
         "showlegend": true,
         "textposition": "auto",
         "type": "bar",
         "x": [
          "soups"
         ],
         "xaxis": "x",
         "y": [
          48
         ],
         "yaxis": "y"
        },
        {
         "alignmentgroup": "True",
         "hovertemplate": "color=sparkling wine<br>x=%{x}<br>y=%{y}<extra></extra>",
         "legendgroup": "sparkling wine",
         "marker": {
          "color": "#FF97FF"
         },
         "name": "sparkling wine",
         "offsetgroup": "sparkling wine",
         "orientation": "v",
         "showlegend": true,
         "textposition": "auto",
         "type": "bar",
         "x": [
          "sparkling wine"
         ],
         "xaxis": "x",
         "y": [
          46
         ],
         "yaxis": "y"
        },
        {
         "alignmentgroup": "True",
         "hovertemplate": "color=curd cheese<br>x=%{x}<br>y=%{y}<extra></extra>",
         "legendgroup": "curd cheese",
         "marker": {
          "color": "#FECB52"
         },
         "name": "curd cheese",
         "offsetgroup": "curd cheese",
         "orientation": "v",
         "showlegend": true,
         "textposition": "auto",
         "type": "bar",
         "x": [
          "curd cheese"
         ],
         "xaxis": "x",
         "y": [
          46
         ],
         "yaxis": "y"
        },
        {
         "alignmentgroup": "True",
         "hovertemplate": "color=house keeping products<br>x=%{x}<br>y=%{y}<extra></extra>",
         "legendgroup": "house keeping products",
         "marker": {
          "color": "#636efa"
         },
         "name": "house keeping products",
         "offsetgroup": "house keeping products",
         "orientation": "v",
         "showlegend": true,
         "textposition": "auto",
         "type": "bar",
         "x": [
          "house keeping products"
         ],
         "xaxis": "x",
         "y": [
          45
         ],
         "yaxis": "y"
        },
        {
         "alignmentgroup": "True",
         "hovertemplate": "color=sauces<br>x=%{x}<br>y=%{y}<extra></extra>",
         "legendgroup": "sauces",
         "marker": {
          "color": "#EF553B"
         },
         "name": "sauces",
         "offsetgroup": "sauces",
         "orientation": "v",
         "showlegend": true,
         "textposition": "auto",
         "type": "bar",
         "x": [
          "sauces"
         ],
         "xaxis": "x",
         "y": [
          44
         ],
         "yaxis": "y"
        },
        {
         "alignmentgroup": "True",
         "hovertemplate": "color=cereals<br>x=%{x}<br>y=%{y}<extra></extra>",
         "legendgroup": "cereals",
         "marker": {
          "color": "#00cc96"
         },
         "name": "cereals",
         "offsetgroup": "cereals",
         "orientation": "v",
         "showlegend": true,
         "textposition": "auto",
         "type": "bar",
         "x": [
          "cereals"
         ],
         "xaxis": "x",
         "y": [
          42
         ],
         "yaxis": "y"
        },
        {
         "alignmentgroup": "True",
         "hovertemplate": "color=softener<br>x=%{x}<br>y=%{y}<extra></extra>",
         "legendgroup": "softener",
         "marker": {
          "color": "#ab63fa"
         },
         "name": "softener",
         "offsetgroup": "softener",
         "orientation": "v",
         "showlegend": true,
         "textposition": "auto",
         "type": "bar",
         "x": [
          "softener"
         ],
         "xaxis": "x",
         "y": [
          41
         ],
         "yaxis": "y"
        },
        {
         "alignmentgroup": "True",
         "hovertemplate": "color=female sanitary products<br>x=%{x}<br>y=%{y}<extra></extra>",
         "legendgroup": "female sanitary products",
         "marker": {
          "color": "#FFA15A"
         },
         "name": "female sanitary products",
         "offsetgroup": "female sanitary products",
         "orientation": "v",
         "showlegend": true,
         "textposition": "auto",
         "type": "bar",
         "x": [
          "female sanitary products"
         ],
         "xaxis": "x",
         "y": [
          40
         ],
         "yaxis": "y"
        },
        {
         "alignmentgroup": "True",
         "hovertemplate": "color=spices<br>x=%{x}<br>y=%{y}<extra></extra>",
         "legendgroup": "spices",
         "marker": {
          "color": "#19d3f3"
         },
         "name": "spices",
         "offsetgroup": "spices",
         "orientation": "v",
         "showlegend": true,
         "textposition": "auto",
         "type": "bar",
         "x": [
          "spices"
         ],
         "xaxis": "x",
         "y": [
          40
         ],
         "yaxis": "y"
        },
        {
         "alignmentgroup": "True",
         "hovertemplate": "color=brandy<br>x=%{x}<br>y=%{y}<extra></extra>",
         "legendgroup": "brandy",
         "marker": {
          "color": "#FF6692"
         },
         "name": "brandy",
         "offsetgroup": "brandy",
         "orientation": "v",
         "showlegend": true,
         "textposition": "auto",
         "type": "bar",
         "x": [
          "brandy"
         ],
         "xaxis": "x",
         "y": [
          38
         ],
         "yaxis": "y"
        },
        {
         "alignmentgroup": "True",
         "hovertemplate": "color=male cosmetics<br>x=%{x}<br>y=%{y}<extra></extra>",
         "legendgroup": "male cosmetics",
         "marker": {
          "color": "#B6E880"
         },
         "name": "male cosmetics",
         "offsetgroup": "male cosmetics",
         "orientation": "v",
         "showlegend": true,
         "textposition": "auto",
         "type": "bar",
         "x": [
          "male cosmetics"
         ],
         "xaxis": "x",
         "y": [
          37
         ],
         "yaxis": "y"
        },
        {
         "alignmentgroup": "True",
         "hovertemplate": "color=meat spreads<br>x=%{x}<br>y=%{y}<extra></extra>",
         "legendgroup": "meat spreads",
         "marker": {
          "color": "#FF97FF"
         },
         "name": "meat spreads",
         "offsetgroup": "meat spreads",
         "orientation": "v",
         "showlegend": true,
         "textposition": "auto",
         "type": "bar",
         "x": [
          "meat spreads"
         ],
         "xaxis": "x",
         "y": [
          35
         ],
         "yaxis": "y"
        },
        {
         "alignmentgroup": "True",
         "hovertemplate": "color=jam<br>x=%{x}<br>y=%{y}<extra></extra>",
         "legendgroup": "jam",
         "marker": {
          "color": "#FECB52"
         },
         "name": "jam",
         "offsetgroup": "jam",
         "orientation": "v",
         "showlegend": true,
         "textposition": "auto",
         "type": "bar",
         "x": [
          "jam"
         ],
         "xaxis": "x",
         "y": [
          34
         ],
         "yaxis": "y"
        },
        {
         "alignmentgroup": "True",
         "hovertemplate": "color=dental care<br>x=%{x}<br>y=%{y}<extra></extra>",
         "legendgroup": "dental care",
         "marker": {
          "color": "#636efa"
         },
         "name": "dental care",
         "offsetgroup": "dental care",
         "orientation": "v",
         "showlegend": true,
         "textposition": "auto",
         "type": "bar",
         "x": [
          "dental care"
         ],
         "xaxis": "x",
         "y": [
          33
         ],
         "yaxis": "y"
        },
        {
         "alignmentgroup": "True",
         "hovertemplate": "color=nuts/prunes<br>x=%{x}<br>y=%{y}<extra></extra>",
         "legendgroup": "nuts/prunes",
         "marker": {
          "color": "#EF553B"
         },
         "name": "nuts/prunes",
         "offsetgroup": "nuts/prunes",
         "orientation": "v",
         "showlegend": true,
         "textposition": "auto",
         "type": "bar",
         "x": [
          "nuts/prunes"
         ],
         "xaxis": "x",
         "y": [
          33
         ],
         "yaxis": "y"
        },
        {
         "alignmentgroup": "True",
         "hovertemplate": "color=rum<br>x=%{x}<br>y=%{y}<extra></extra>",
         "legendgroup": "rum",
         "marker": {
          "color": "#00cc96"
         },
         "name": "rum",
         "offsetgroup": "rum",
         "orientation": "v",
         "showlegend": true,
         "textposition": "auto",
         "type": "bar",
         "x": [
          "rum"
         ],
         "xaxis": "x",
         "y": [
          32
         ],
         "yaxis": "y"
        },
        {
         "alignmentgroup": "True",
         "hovertemplate": "color=ketchup<br>x=%{x}<br>y=%{y}<extra></extra>",
         "legendgroup": "ketchup",
         "marker": {
          "color": "#ab63fa"
         },
         "name": "ketchup",
         "offsetgroup": "ketchup",
         "orientation": "v",
         "showlegend": true,
         "textposition": "auto",
         "type": "bar",
         "x": [
          "ketchup"
         ],
         "xaxis": "x",
         "y": [
          32
         ],
         "yaxis": "y"
        },
        {
         "alignmentgroup": "True",
         "hovertemplate": "color=cleaner<br>x=%{x}<br>y=%{y}<extra></extra>",
         "legendgroup": "cleaner",
         "marker": {
          "color": "#FFA15A"
         },
         "name": "cleaner",
         "offsetgroup": "cleaner",
         "orientation": "v",
         "showlegend": true,
         "textposition": "auto",
         "type": "bar",
         "x": [
          "cleaner"
         ],
         "xaxis": "x",
         "y": [
          31
         ],
         "yaxis": "y"
        },
        {
         "alignmentgroup": "True",
         "hovertemplate": "color=kitchen towels<br>x=%{x}<br>y=%{y}<extra></extra>",
         "legendgroup": "kitchen towels",
         "marker": {
          "color": "#19d3f3"
         },
         "name": "kitchen towels",
         "offsetgroup": "kitchen towels",
         "orientation": "v",
         "showlegend": true,
         "textposition": "auto",
         "type": "bar",
         "x": [
          "kitchen towels"
         ],
         "xaxis": "x",
         "y": [
          30
         ],
         "yaxis": "y"
        },
        {
         "alignmentgroup": "True",
         "hovertemplate": "color=light bulbs<br>x=%{x}<br>y=%{y}<extra></extra>",
         "legendgroup": "light bulbs",
         "marker": {
          "color": "#FF6692"
         },
         "name": "light bulbs",
         "offsetgroup": "light bulbs",
         "orientation": "v",
         "showlegend": true,
         "textposition": "auto",
         "type": "bar",
         "x": [
          "light bulbs"
         ],
         "xaxis": "x",
         "y": [
          29
         ],
         "yaxis": "y"
        },
        {
         "alignmentgroup": "True",
         "hovertemplate": "color=specialty fat<br>x=%{x}<br>y=%{y}<extra></extra>",
         "legendgroup": "specialty fat",
         "marker": {
          "color": "#B6E880"
         },
         "name": "specialty fat",
         "offsetgroup": "specialty fat",
         "orientation": "v",
         "showlegend": true,
         "textposition": "auto",
         "type": "bar",
         "x": [
          "specialty fat"
         ],
         "xaxis": "x",
         "y": [
          29
         ],
         "yaxis": "y"
        },
        {
         "alignmentgroup": "True",
         "hovertemplate": "color=artif. sweetener<br>x=%{x}<br>y=%{y}<extra></extra>",
         "legendgroup": "artif. sweetener",
         "marker": {
          "color": "#FF97FF"
         },
         "name": "artif. sweetener",
         "offsetgroup": "artif. sweetener",
         "orientation": "v",
         "showlegend": true,
         "textposition": "auto",
         "type": "bar",
         "x": [
          "artif. sweetener"
         ],
         "xaxis": "x",
         "y": [
          29
         ],
         "yaxis": "y"
        },
        {
         "alignmentgroup": "True",
         "hovertemplate": "color=fish<br>x=%{x}<br>y=%{y}<extra></extra>",
         "legendgroup": "fish",
         "marker": {
          "color": "#FECB52"
         },
         "name": "fish",
         "offsetgroup": "fish",
         "orientation": "v",
         "showlegend": true,
         "textposition": "auto",
         "type": "bar",
         "x": [
          "fish"
         ],
         "xaxis": "x",
         "y": [
          29
         ],
         "yaxis": "y"
        },
        {
         "alignmentgroup": "True",
         "hovertemplate": "color=tea<br>x=%{x}<br>y=%{y}<extra></extra>",
         "legendgroup": "tea",
         "marker": {
          "color": "#636efa"
         },
         "name": "tea",
         "offsetgroup": "tea",
         "orientation": "v",
         "showlegend": true,
         "textposition": "auto",
         "type": "bar",
         "x": [
          "tea"
         ],
         "xaxis": "x",
         "y": [
          27
         ],
         "yaxis": "y"
        },
        {
         "alignmentgroup": "True",
         "hovertemplate": "color=snack products<br>x=%{x}<br>y=%{y}<extra></extra>",
         "legendgroup": "snack products",
         "marker": {
          "color": "#EF553B"
         },
         "name": "snack products",
         "offsetgroup": "snack products",
         "orientation": "v",
         "showlegend": true,
         "textposition": "auto",
         "type": "bar",
         "x": [
          "snack products"
         ],
         "xaxis": "x",
         "y": [
          27
         ],
         "yaxis": "y"
        },
        {
         "alignmentgroup": "True",
         "hovertemplate": "color=potato products<br>x=%{x}<br>y=%{y}<extra></extra>",
         "legendgroup": "potato products",
         "marker": {
          "color": "#00cc96"
         },
         "name": "potato products",
         "offsetgroup": "potato products",
         "orientation": "v",
         "showlegend": true,
         "textposition": "auto",
         "type": "bar",
         "x": [
          "potato products"
         ],
         "xaxis": "x",
         "y": [
          23
         ],
         "yaxis": "y"
        },
        {
         "alignmentgroup": "True",
         "hovertemplate": "color=abrasive cleaner<br>x=%{x}<br>y=%{y}<extra></extra>",
         "legendgroup": "abrasive cleaner",
         "marker": {
          "color": "#ab63fa"
         },
         "name": "abrasive cleaner",
         "offsetgroup": "abrasive cleaner",
         "orientation": "v",
         "showlegend": true,
         "textposition": "auto",
         "type": "bar",
         "x": [
          "abrasive cleaner"
         ],
         "xaxis": "x",
         "y": [
          22
         ],
         "yaxis": "y"
        },
        {
         "alignmentgroup": "True",
         "hovertemplate": "color=organic sausage<br>x=%{x}<br>y=%{y}<extra></extra>",
         "legendgroup": "organic sausage",
         "marker": {
          "color": "#FFA15A"
         },
         "name": "organic sausage",
         "offsetgroup": "organic sausage",
         "orientation": "v",
         "showlegend": true,
         "textposition": "auto",
         "type": "bar",
         "x": [
          "organic sausage"
         ],
         "xaxis": "x",
         "y": [
          22
         ],
         "yaxis": "y"
        },
        {
         "alignmentgroup": "True",
         "hovertemplate": "color=nut snack<br>x=%{x}<br>y=%{y}<extra></extra>",
         "legendgroup": "nut snack",
         "marker": {
          "color": "#19d3f3"
         },
         "name": "nut snack",
         "offsetgroup": "nut snack",
         "orientation": "v",
         "showlegend": true,
         "textposition": "auto",
         "type": "bar",
         "x": [
          "nut snack"
         ],
         "xaxis": "x",
         "y": [
          22
         ],
         "yaxis": "y"
        },
        {
         "alignmentgroup": "True",
         "hovertemplate": "color=tidbits<br>x=%{x}<br>y=%{y}<extra></extra>",
         "legendgroup": "tidbits",
         "marker": {
          "color": "#FF6692"
         },
         "name": "tidbits",
         "offsetgroup": "tidbits",
         "orientation": "v",
         "showlegend": true,
         "textposition": "auto",
         "type": "bar",
         "x": [
          "tidbits"
         ],
         "xaxis": "x",
         "y": [
          22
         ],
         "yaxis": "y"
        },
        {
         "alignmentgroup": "True",
         "hovertemplate": "color=canned fruit<br>x=%{x}<br>y=%{y}<extra></extra>",
         "legendgroup": "canned fruit",
         "marker": {
          "color": "#B6E880"
         },
         "name": "canned fruit",
         "offsetgroup": "canned fruit",
         "orientation": "v",
         "showlegend": true,
         "textposition": "auto",
         "type": "bar",
         "x": [
          "canned fruit"
         ],
         "xaxis": "x",
         "y": [
          21
         ],
         "yaxis": "y"
        },
        {
         "alignmentgroup": "True",
         "hovertemplate": "color=syrup<br>x=%{x}<br>y=%{y}<extra></extra>",
         "legendgroup": "syrup",
         "marker": {
          "color": "#FF97FF"
         },
         "name": "syrup",
         "offsetgroup": "syrup",
         "orientation": "v",
         "showlegend": true,
         "textposition": "auto",
         "type": "bar",
         "x": [
          "syrup"
         ],
         "xaxis": "x",
         "y": [
          21
         ],
         "yaxis": "y"
        },
        {
         "alignmentgroup": "True",
         "hovertemplate": "color=soap<br>x=%{x}<br>y=%{y}<extra></extra>",
         "legendgroup": "soap",
         "marker": {
          "color": "#FECB52"
         },
         "name": "soap",
         "offsetgroup": "soap",
         "orientation": "v",
         "showlegend": true,
         "textposition": "auto",
         "type": "bar",
         "x": [
          "soap"
         ],
         "xaxis": "x",
         "y": [
          20
         ],
         "yaxis": "y"
        },
        {
         "alignmentgroup": "True",
         "hovertemplate": "color=skin care<br>x=%{x}<br>y=%{y}<extra></extra>",
         "legendgroup": "skin care",
         "marker": {
          "color": "#636efa"
         },
         "name": "skin care",
         "offsetgroup": "skin care",
         "orientation": "v",
         "showlegend": true,
         "textposition": "auto",
         "type": "bar",
         "x": [
          "skin care"
         ],
         "xaxis": "x",
         "y": [
          20
         ],
         "yaxis": "y"
        },
        {
         "alignmentgroup": "True",
         "hovertemplate": "color=prosecco<br>x=%{x}<br>y=%{y}<extra></extra>",
         "legendgroup": "prosecco",
         "marker": {
          "color": "#EF553B"
         },
         "name": "prosecco",
         "offsetgroup": "prosecco",
         "orientation": "v",
         "showlegend": true,
         "textposition": "auto",
         "type": "bar",
         "x": [
          "prosecco"
         ],
         "xaxis": "x",
         "y": [
          19
         ],
         "yaxis": "y"
        },
        {
         "alignmentgroup": "True",
         "hovertemplate": "color=cookware<br>x=%{x}<br>y=%{y}<extra></extra>",
         "legendgroup": "cookware",
         "marker": {
          "color": "#00cc96"
         },
         "name": "cookware",
         "offsetgroup": "cookware",
         "orientation": "v",
         "showlegend": true,
         "textposition": "auto",
         "type": "bar",
         "x": [
          "cookware"
         ],
         "xaxis": "x",
         "y": [
          17
         ],
         "yaxis": "y"
        },
        {
         "alignmentgroup": "True",
         "hovertemplate": "color=bathroom cleaner<br>x=%{x}<br>y=%{y}<extra></extra>",
         "legendgroup": "bathroom cleaner",
         "marker": {
          "color": "#ab63fa"
         },
         "name": "bathroom cleaner",
         "offsetgroup": "bathroom cleaner",
         "orientation": "v",
         "showlegend": true,
         "textposition": "auto",
         "type": "bar",
         "x": [
          "bathroom cleaner"
         ],
         "xaxis": "x",
         "y": [
          17
         ],
         "yaxis": "y"
        },
        {
         "alignmentgroup": "True",
         "hovertemplate": "color=pudding powder<br>x=%{x}<br>y=%{y}<extra></extra>",
         "legendgroup": "pudding powder",
         "marker": {
          "color": "#FFA15A"
         },
         "name": "pudding powder",
         "offsetgroup": "pudding powder",
         "orientation": "v",
         "showlegend": true,
         "textposition": "auto",
         "type": "bar",
         "x": [
          "pudding powder"
         ],
         "xaxis": "x",
         "y": [
          17
         ],
         "yaxis": "y"
        },
        {
         "alignmentgroup": "True",
         "hovertemplate": "color=cocoa drinks<br>x=%{x}<br>y=%{y}<extra></extra>",
         "legendgroup": "cocoa drinks",
         "marker": {
          "color": "#19d3f3"
         },
         "name": "cocoa drinks",
         "offsetgroup": "cocoa drinks",
         "orientation": "v",
         "showlegend": true,
         "textposition": "auto",
         "type": "bar",
         "x": [
          "cocoa drinks"
         ],
         "xaxis": "x",
         "y": [
          16
         ],
         "yaxis": "y"
        },
        {
         "alignmentgroup": "True",
         "hovertemplate": "color=flower soil/fertilizer<br>x=%{x}<br>y=%{y}<extra></extra>",
         "legendgroup": "flower soil/fertilizer",
         "marker": {
          "color": "#FF6692"
         },
         "name": "flower soil/fertilizer",
         "offsetgroup": "flower soil/fertilizer",
         "orientation": "v",
         "showlegend": true,
         "textposition": "auto",
         "type": "bar",
         "x": [
          "flower soil/fertilizer"
         ],
         "xaxis": "x",
         "y": [
          16
         ],
         "yaxis": "y"
        },
        {
         "alignmentgroup": "True",
         "hovertemplate": "color=ready soups<br>x=%{x}<br>y=%{y}<extra></extra>",
         "legendgroup": "ready soups",
         "marker": {
          "color": "#B6E880"
         },
         "name": "ready soups",
         "offsetgroup": "ready soups",
         "orientation": "v",
         "showlegend": true,
         "textposition": "auto",
         "type": "bar",
         "x": [
          "ready soups"
         ],
         "xaxis": "x",
         "y": [
          15
         ],
         "yaxis": "y"
        },
        {
         "alignmentgroup": "True",
         "hovertemplate": "color=cooking chocolate<br>x=%{x}<br>y=%{y}<extra></extra>",
         "legendgroup": "cooking chocolate",
         "marker": {
          "color": "#FF97FF"
         },
         "name": "cooking chocolate",
         "offsetgroup": "cooking chocolate",
         "orientation": "v",
         "showlegend": true,
         "textposition": "auto",
         "type": "bar",
         "x": [
          "cooking chocolate"
         ],
         "xaxis": "x",
         "y": [
          15
         ],
         "yaxis": "y"
        },
        {
         "alignmentgroup": "True",
         "hovertemplate": "color=honey<br>x=%{x}<br>y=%{y}<extra></extra>",
         "legendgroup": "honey",
         "marker": {
          "color": "#FECB52"
         },
         "name": "honey",
         "offsetgroup": "honey",
         "orientation": "v",
         "showlegend": true,
         "textposition": "auto",
         "type": "bar",
         "x": [
          "honey"
         ],
         "xaxis": "x",
         "y": [
          13
         ],
         "yaxis": "y"
        },
        {
         "alignmentgroup": "True",
         "hovertemplate": "color=cream<br>x=%{x}<br>y=%{y}<extra></extra>",
         "legendgroup": "cream",
         "marker": {
          "color": "#636efa"
         },
         "name": "cream",
         "offsetgroup": "cream",
         "orientation": "v",
         "showlegend": true,
         "textposition": "auto",
         "type": "bar",
         "x": [
          "cream"
         ],
         "xaxis": "x",
         "y": [
          12
         ],
         "yaxis": "y"
        },
        {
         "alignmentgroup": "True",
         "hovertemplate": "color=frozen fruits<br>x=%{x}<br>y=%{y}<extra></extra>",
         "legendgroup": "frozen fruits",
         "marker": {
          "color": "#EF553B"
         },
         "name": "frozen fruits",
         "offsetgroup": "frozen fruits",
         "orientation": "v",
         "showlegend": true,
         "textposition": "auto",
         "type": "bar",
         "x": [
          "frozen fruits"
         ],
         "xaxis": "x",
         "y": [
          11
         ],
         "yaxis": "y"
        },
        {
         "alignmentgroup": "True",
         "hovertemplate": "color=specialty vegetables<br>x=%{x}<br>y=%{y}<extra></extra>",
         "legendgroup": "specialty vegetables",
         "marker": {
          "color": "#00cc96"
         },
         "name": "specialty vegetables",
         "offsetgroup": "specialty vegetables",
         "orientation": "v",
         "showlegend": true,
         "textposition": "auto",
         "type": "bar",
         "x": [
          "specialty vegetables"
         ],
         "xaxis": "x",
         "y": [
          11
         ],
         "yaxis": "y"
        },
        {
         "alignmentgroup": "True",
         "hovertemplate": "color=organic products<br>x=%{x}<br>y=%{y}<extra></extra>",
         "legendgroup": "organic products",
         "marker": {
          "color": "#ab63fa"
         },
         "name": "organic products",
         "offsetgroup": "organic products",
         "orientation": "v",
         "showlegend": true,
         "textposition": "auto",
         "type": "bar",
         "x": [
          "organic products"
         ],
         "xaxis": "x",
         "y": [
          10
         ],
         "yaxis": "y"
        },
        {
         "alignmentgroup": "True",
         "hovertemplate": "color=decalcifier<br>x=%{x}<br>y=%{y}<extra></extra>",
         "legendgroup": "decalcifier",
         "marker": {
          "color": "#FFA15A"
         },
         "name": "decalcifier",
         "offsetgroup": "decalcifier",
         "orientation": "v",
         "showlegend": true,
         "textposition": "auto",
         "type": "bar",
         "x": [
          "decalcifier"
         ],
         "xaxis": "x",
         "y": [
          9
         ],
         "yaxis": "y"
        },
        {
         "alignmentgroup": "True",
         "hovertemplate": "color=hair spray<br>x=%{x}<br>y=%{y}<extra></extra>",
         "legendgroup": "hair spray",
         "marker": {
          "color": "#19d3f3"
         },
         "name": "hair spray",
         "offsetgroup": "hair spray",
         "orientation": "v",
         "showlegend": true,
         "textposition": "auto",
         "type": "bar",
         "x": [
          "hair spray"
         ],
         "xaxis": "x",
         "y": [
          9
         ],
         "yaxis": "y"
        },
        {
         "alignmentgroup": "True",
         "hovertemplate": "color=liqueur<br>x=%{x}<br>y=%{y}<extra></extra>",
         "legendgroup": "liqueur",
         "marker": {
          "color": "#FF6692"
         },
         "name": "liqueur",
         "offsetgroup": "liqueur",
         "orientation": "v",
         "showlegend": true,
         "textposition": "auto",
         "type": "bar",
         "x": [
          "liqueur"
         ],
         "xaxis": "x",
         "y": [
          9
         ],
         "yaxis": "y"
        },
        {
         "alignmentgroup": "True",
         "hovertemplate": "color=whisky<br>x=%{x}<br>y=%{y}<extra></extra>",
         "legendgroup": "whisky",
         "marker": {
          "color": "#B6E880"
         },
         "name": "whisky",
         "offsetgroup": "whisky",
         "orientation": "v",
         "showlegend": true,
         "textposition": "auto",
         "type": "bar",
         "x": [
          "whisky"
         ],
         "xaxis": "x",
         "y": [
          8
         ],
         "yaxis": "y"
        },
        {
         "alignmentgroup": "True",
         "hovertemplate": "color=salad dressing<br>x=%{x}<br>y=%{y}<extra></extra>",
         "legendgroup": "salad dressing",
         "marker": {
          "color": "#FF97FF"
         },
         "name": "salad dressing",
         "offsetgroup": "salad dressing",
         "orientation": "v",
         "showlegend": true,
         "textposition": "auto",
         "type": "bar",
         "x": [
          "salad dressing"
         ],
         "xaxis": "x",
         "y": [
          6
         ],
         "yaxis": "y"
        },
        {
         "alignmentgroup": "True",
         "hovertemplate": "color=rubbing alcohol<br>x=%{x}<br>y=%{y}<extra></extra>",
         "legendgroup": "rubbing alcohol",
         "marker": {
          "color": "#FECB52"
         },
         "name": "rubbing alcohol",
         "offsetgroup": "rubbing alcohol",
         "orientation": "v",
         "showlegend": true,
         "textposition": "auto",
         "type": "bar",
         "x": [
          "rubbing alcohol"
         ],
         "xaxis": "x",
         "y": [
          5
         ],
         "yaxis": "y"
        },
        {
         "alignmentgroup": "True",
         "hovertemplate": "color=toilet cleaner<br>x=%{x}<br>y=%{y}<extra></extra>",
         "legendgroup": "toilet cleaner",
         "marker": {
          "color": "#636efa"
         },
         "name": "toilet cleaner",
         "offsetgroup": "toilet cleaner",
         "orientation": "v",
         "showlegend": true,
         "textposition": "auto",
         "type": "bar",
         "x": [
          "toilet cleaner"
         ],
         "xaxis": "x",
         "y": [
          5
         ],
         "yaxis": "y"
        },
        {
         "alignmentgroup": "True",
         "hovertemplate": "color=frozen chicken<br>x=%{x}<br>y=%{y}<extra></extra>",
         "legendgroup": "frozen chicken",
         "marker": {
          "color": "#EF553B"
         },
         "name": "frozen chicken",
         "offsetgroup": "frozen chicken",
         "orientation": "v",
         "showlegend": true,
         "textposition": "auto",
         "type": "bar",
         "x": [
          "frozen chicken"
         ],
         "xaxis": "x",
         "y": [
          5
         ],
         "yaxis": "y"
        },
        {
         "alignmentgroup": "True",
         "hovertemplate": "color=make up remover<br>x=%{x}<br>y=%{y}<extra></extra>",
         "legendgroup": "make up remover",
         "marker": {
          "color": "#00cc96"
         },
         "name": "make up remover",
         "offsetgroup": "make up remover",
         "orientation": "v",
         "showlegend": true,
         "textposition": "auto",
         "type": "bar",
         "x": [
          "make up remover"
         ],
         "xaxis": "x",
         "y": [
          5
         ],
         "yaxis": "y"
        },
        {
         "alignmentgroup": "True",
         "hovertemplate": "color=bags<br>x=%{x}<br>y=%{y}<extra></extra>",
         "legendgroup": "bags",
         "marker": {
          "color": "#ab63fa"
         },
         "name": "bags",
         "offsetgroup": "bags",
         "orientation": "v",
         "showlegend": true,
         "textposition": "auto",
         "type": "bar",
         "x": [
          "bags"
         ],
         "xaxis": "x",
         "y": [
          4
         ],
         "yaxis": "y"
        },
        {
         "alignmentgroup": "True",
         "hovertemplate": "color=baby cosmetics<br>x=%{x}<br>y=%{y}<extra></extra>",
         "legendgroup": "baby cosmetics",
         "marker": {
          "color": "#FFA15A"
         },
         "name": "baby cosmetics",
         "offsetgroup": "baby cosmetics",
         "orientation": "v",
         "showlegend": true,
         "textposition": "auto",
         "type": "bar",
         "x": [
          "baby cosmetics"
         ],
         "xaxis": "x",
         "y": [
          3
         ],
         "yaxis": "y"
        },
        {
         "alignmentgroup": "True",
         "hovertemplate": "color=kitchen utensil<br>x=%{x}<br>y=%{y}<extra></extra>",
         "legendgroup": "kitchen utensil",
         "marker": {
          "color": "#19d3f3"
         },
         "name": "kitchen utensil",
         "offsetgroup": "kitchen utensil",
         "orientation": "v",
         "showlegend": true,
         "textposition": "auto",
         "type": "bar",
         "x": [
          "kitchen utensil"
         ],
         "xaxis": "x",
         "y": [
          1
         ],
         "yaxis": "y"
        },
        {
         "alignmentgroup": "True",
         "hovertemplate": "color=preservation products<br>x=%{x}<br>y=%{y}<extra></extra>",
         "legendgroup": "preservation products",
         "marker": {
          "color": "#FF6692"
         },
         "name": "preservation products",
         "offsetgroup": "preservation products",
         "orientation": "v",
         "showlegend": true,
         "textposition": "auto",
         "type": "bar",
         "x": [
          "preservation products"
         ],
         "xaxis": "x",
         "y": [
          1
         ],
         "yaxis": "y"
        }
       ],
       "layout": {
        "barmode": "relative",
        "font": {
         "color": "black",
         "family": "Courier New"
        },
        "legend": {
         "title": {
          "font": {
           "color": "green"
          },
          "text": "itemDescription"
         },
         "tracegroupgap": 0
        },
        "margin": {
         "t": 60
        },
        "template": {
         "data": {
          "bar": [
           {
            "error_x": {
             "color": "#2a3f5f"
            },
            "error_y": {
             "color": "#2a3f5f"
            },
            "marker": {
             "line": {
              "color": "#E5ECF6",
              "width": 0.5
             }
            },
            "type": "bar"
           }
          ],
          "barpolar": [
           {
            "marker": {
             "line": {
              "color": "#E5ECF6",
              "width": 0.5
             }
            },
            "type": "barpolar"
           }
          ],
          "carpet": [
           {
            "aaxis": {
             "endlinecolor": "#2a3f5f",
             "gridcolor": "white",
             "linecolor": "white",
             "minorgridcolor": "white",
             "startlinecolor": "#2a3f5f"
            },
            "baxis": {
             "endlinecolor": "#2a3f5f",
             "gridcolor": "white",
             "linecolor": "white",
             "minorgridcolor": "white",
             "startlinecolor": "#2a3f5f"
            },
            "type": "carpet"
           }
          ],
          "choropleth": [
           {
            "colorbar": {
             "outlinewidth": 0,
             "ticks": ""
            },
            "type": "choropleth"
           }
          ],
          "contour": [
           {
            "colorbar": {
             "outlinewidth": 0,
             "ticks": ""
            },
            "colorscale": [
             [
              0.0,
              "#0d0887"
             ],
             [
              0.1111111111111111,
              "#46039f"
             ],
             [
              0.2222222222222222,
              "#7201a8"
             ],
             [
              0.3333333333333333,
              "#9c179e"
             ],
             [
              0.4444444444444444,
              "#bd3786"
             ],
             [
              0.5555555555555556,
              "#d8576b"
             ],
             [
              0.6666666666666666,
              "#ed7953"
             ],
             [
              0.7777777777777778,
              "#fb9f3a"
             ],
             [
              0.8888888888888888,
              "#fdca26"
             ],
             [
              1.0,
              "#f0f921"
             ]
            ],
            "type": "contour"
           }
          ],
          "contourcarpet": [
           {
            "colorbar": {
             "outlinewidth": 0,
             "ticks": ""
            },
            "type": "contourcarpet"
           }
          ],
          "heatmap": [
           {
            "colorbar": {
             "outlinewidth": 0,
             "ticks": ""
            },
            "colorscale": [
             [
              0.0,
              "#0d0887"
             ],
             [
              0.1111111111111111,
              "#46039f"
             ],
             [
              0.2222222222222222,
              "#7201a8"
             ],
             [
              0.3333333333333333,
              "#9c179e"
             ],
             [
              0.4444444444444444,
              "#bd3786"
             ],
             [
              0.5555555555555556,
              "#d8576b"
             ],
             [
              0.6666666666666666,
              "#ed7953"
             ],
             [
              0.7777777777777778,
              "#fb9f3a"
             ],
             [
              0.8888888888888888,
              "#fdca26"
             ],
             [
              1.0,
              "#f0f921"
             ]
            ],
            "type": "heatmap"
           }
          ],
          "heatmapgl": [
           {
            "colorbar": {
             "outlinewidth": 0,
             "ticks": ""
            },
            "colorscale": [
             [
              0.0,
              "#0d0887"
             ],
             [
              0.1111111111111111,
              "#46039f"
             ],
             [
              0.2222222222222222,
              "#7201a8"
             ],
             [
              0.3333333333333333,
              "#9c179e"
             ],
             [
              0.4444444444444444,
              "#bd3786"
             ],
             [
              0.5555555555555556,
              "#d8576b"
             ],
             [
              0.6666666666666666,
              "#ed7953"
             ],
             [
              0.7777777777777778,
              "#fb9f3a"
             ],
             [
              0.8888888888888888,
              "#fdca26"
             ],
             [
              1.0,
              "#f0f921"
             ]
            ],
            "type": "heatmapgl"
           }
          ],
          "histogram": [
           {
            "marker": {
             "colorbar": {
              "outlinewidth": 0,
              "ticks": ""
             }
            },
            "type": "histogram"
           }
          ],
          "histogram2d": [
           {
            "colorbar": {
             "outlinewidth": 0,
             "ticks": ""
            },
            "colorscale": [
             [
              0.0,
              "#0d0887"
             ],
             [
              0.1111111111111111,
              "#46039f"
             ],
             [
              0.2222222222222222,
              "#7201a8"
             ],
             [
              0.3333333333333333,
              "#9c179e"
             ],
             [
              0.4444444444444444,
              "#bd3786"
             ],
             [
              0.5555555555555556,
              "#d8576b"
             ],
             [
              0.6666666666666666,
              "#ed7953"
             ],
             [
              0.7777777777777778,
              "#fb9f3a"
             ],
             [
              0.8888888888888888,
              "#fdca26"
             ],
             [
              1.0,
              "#f0f921"
             ]
            ],
            "type": "histogram2d"
           }
          ],
          "histogram2dcontour": [
           {
            "colorbar": {
             "outlinewidth": 0,
             "ticks": ""
            },
            "colorscale": [
             [
              0.0,
              "#0d0887"
             ],
             [
              0.1111111111111111,
              "#46039f"
             ],
             [
              0.2222222222222222,
              "#7201a8"
             ],
             [
              0.3333333333333333,
              "#9c179e"
             ],
             [
              0.4444444444444444,
              "#bd3786"
             ],
             [
              0.5555555555555556,
              "#d8576b"
             ],
             [
              0.6666666666666666,
              "#ed7953"
             ],
             [
              0.7777777777777778,
              "#fb9f3a"
             ],
             [
              0.8888888888888888,
              "#fdca26"
             ],
             [
              1.0,
              "#f0f921"
             ]
            ],
            "type": "histogram2dcontour"
           }
          ],
          "mesh3d": [
           {
            "colorbar": {
             "outlinewidth": 0,
             "ticks": ""
            },
            "type": "mesh3d"
           }
          ],
          "parcoords": [
           {
            "line": {
             "colorbar": {
              "outlinewidth": 0,
              "ticks": ""
             }
            },
            "type": "parcoords"
           }
          ],
          "pie": [
           {
            "automargin": true,
            "type": "pie"
           }
          ],
          "scatter": [
           {
            "marker": {
             "colorbar": {
              "outlinewidth": 0,
              "ticks": ""
             }
            },
            "type": "scatter"
           }
          ],
          "scatter3d": [
           {
            "line": {
             "colorbar": {
              "outlinewidth": 0,
              "ticks": ""
             }
            },
            "marker": {
             "colorbar": {
              "outlinewidth": 0,
              "ticks": ""
             }
            },
            "type": "scatter3d"
           }
          ],
          "scattercarpet": [
           {
            "marker": {
             "colorbar": {
              "outlinewidth": 0,
              "ticks": ""
             }
            },
            "type": "scattercarpet"
           }
          ],
          "scattergeo": [
           {
            "marker": {
             "colorbar": {
              "outlinewidth": 0,
              "ticks": ""
             }
            },
            "type": "scattergeo"
           }
          ],
          "scattergl": [
           {
            "marker": {
             "colorbar": {
              "outlinewidth": 0,
              "ticks": ""
             }
            },
            "type": "scattergl"
           }
          ],
          "scattermapbox": [
           {
            "marker": {
             "colorbar": {
              "outlinewidth": 0,
              "ticks": ""
             }
            },
            "type": "scattermapbox"
           }
          ],
          "scatterpolar": [
           {
            "marker": {
             "colorbar": {
              "outlinewidth": 0,
              "ticks": ""
             }
            },
            "type": "scatterpolar"
           }
          ],
          "scatterpolargl": [
           {
            "marker": {
             "colorbar": {
              "outlinewidth": 0,
              "ticks": ""
             }
            },
            "type": "scatterpolargl"
           }
          ],
          "scatterternary": [
           {
            "marker": {
             "colorbar": {
              "outlinewidth": 0,
              "ticks": ""
             }
            },
            "type": "scatterternary"
           }
          ],
          "surface": [
           {
            "colorbar": {
             "outlinewidth": 0,
             "ticks": ""
            },
            "colorscale": [
             [
              0.0,
              "#0d0887"
             ],
             [
              0.1111111111111111,
              "#46039f"
             ],
             [
              0.2222222222222222,
              "#7201a8"
             ],
             [
              0.3333333333333333,
              "#9c179e"
             ],
             [
              0.4444444444444444,
              "#bd3786"
             ],
             [
              0.5555555555555556,
              "#d8576b"
             ],
             [
              0.6666666666666666,
              "#ed7953"
             ],
             [
              0.7777777777777778,
              "#fb9f3a"
             ],
             [
              0.8888888888888888,
              "#fdca26"
             ],
             [
              1.0,
              "#f0f921"
             ]
            ],
            "type": "surface"
           }
          ],
          "table": [
           {
            "cells": {
             "fill": {
              "color": "#EBF0F8"
             },
             "line": {
              "color": "white"
             }
            },
            "header": {
             "fill": {
              "color": "#C8D4E3"
             },
             "line": {
              "color": "white"
             }
            },
            "type": "table"
           }
          ]
         },
         "layout": {
          "annotationdefaults": {
           "arrowcolor": "#2a3f5f",
           "arrowhead": 0,
           "arrowwidth": 1
          },
          "autotypenumbers": "strict",
          "coloraxis": {
           "colorbar": {
            "outlinewidth": 0,
            "ticks": ""
           }
          },
          "colorscale": {
           "diverging": [
            [
             0,
             "#8e0152"
            ],
            [
             0.1,
             "#c51b7d"
            ],
            [
             0.2,
             "#de77ae"
            ],
            [
             0.3,
             "#f1b6da"
            ],
            [
             0.4,
             "#fde0ef"
            ],
            [
             0.5,
             "#f7f7f7"
            ],
            [
             0.6,
             "#e6f5d0"
            ],
            [
             0.7,
             "#b8e186"
            ],
            [
             0.8,
             "#7fbc41"
            ],
            [
             0.9,
             "#4d9221"
            ],
            [
             1,
             "#276419"
            ]
           ],
           "sequential": [
            [
             0.0,
             "#0d0887"
            ],
            [
             0.1111111111111111,
             "#46039f"
            ],
            [
             0.2222222222222222,
             "#7201a8"
            ],
            [
             0.3333333333333333,
             "#9c179e"
            ],
            [
             0.4444444444444444,
             "#bd3786"
            ],
            [
             0.5555555555555556,
             "#d8576b"
            ],
            [
             0.6666666666666666,
             "#ed7953"
            ],
            [
             0.7777777777777778,
             "#fb9f3a"
            ],
            [
             0.8888888888888888,
             "#fdca26"
            ],
            [
             1.0,
             "#f0f921"
            ]
           ],
           "sequentialminus": [
            [
             0.0,
             "#0d0887"
            ],
            [
             0.1111111111111111,
             "#46039f"
            ],
            [
             0.2222222222222222,
             "#7201a8"
            ],
            [
             0.3333333333333333,
             "#9c179e"
            ],
            [
             0.4444444444444444,
             "#bd3786"
            ],
            [
             0.5555555555555556,
             "#d8576b"
            ],
            [
             0.6666666666666666,
             "#ed7953"
            ],
            [
             0.7777777777777778,
             "#fb9f3a"
            ],
            [
             0.8888888888888888,
             "#fdca26"
            ],
            [
             1.0,
             "#f0f921"
            ]
           ]
          },
          "colorway": [
           "#636efa",
           "#EF553B",
           "#00cc96",
           "#ab63fa",
           "#FFA15A",
           "#19d3f3",
           "#FF6692",
           "#B6E880",
           "#FF97FF",
           "#FECB52"
          ],
          "font": {
           "color": "#2a3f5f"
          },
          "geo": {
           "bgcolor": "white",
           "lakecolor": "white",
           "landcolor": "#E5ECF6",
           "showlakes": true,
           "showland": true,
           "subunitcolor": "white"
          },
          "hoverlabel": {
           "align": "left"
          },
          "hovermode": "closest",
          "mapbox": {
           "style": "light"
          },
          "paper_bgcolor": "white",
          "plot_bgcolor": "#E5ECF6",
          "polar": {
           "angularaxis": {
            "gridcolor": "white",
            "linecolor": "white",
            "ticks": ""
           },
           "bgcolor": "#E5ECF6",
           "radialaxis": {
            "gridcolor": "white",
            "linecolor": "white",
            "ticks": ""
           }
          },
          "scene": {
           "xaxis": {
            "backgroundcolor": "#E5ECF6",
            "gridcolor": "white",
            "gridwidth": 2,
            "linecolor": "white",
            "showbackground": true,
            "ticks": "",
            "zerolinecolor": "white"
           },
           "yaxis": {
            "backgroundcolor": "#E5ECF6",
            "gridcolor": "white",
            "gridwidth": 2,
            "linecolor": "white",
            "showbackground": true,
            "ticks": "",
            "zerolinecolor": "white"
           },
           "zaxis": {
            "backgroundcolor": "#E5ECF6",
            "gridcolor": "white",
            "gridwidth": 2,
            "linecolor": "white",
            "showbackground": true,
            "ticks": "",
            "zerolinecolor": "white"
           }
          },
          "shapedefaults": {
           "line": {
            "color": "#2a3f5f"
           }
          },
          "ternary": {
           "aaxis": {
            "gridcolor": "white",
            "linecolor": "white",
            "ticks": ""
           },
           "baxis": {
            "gridcolor": "white",
            "linecolor": "white",
            "ticks": ""
           },
           "bgcolor": "#E5ECF6",
           "caxis": {
            "gridcolor": "white",
            "linecolor": "white",
            "ticks": ""
           }
          },
          "title": {
           "x": 0.05
          },
          "xaxis": {
           "automargin": true,
           "gridcolor": "white",
           "linecolor": "white",
           "ticks": "",
           "title": {
            "standoff": 15
           },
           "zerolinecolor": "white",
           "zerolinewidth": 2
          },
          "yaxis": {
           "automargin": true,
           "gridcolor": "white",
           "linecolor": "white",
           "ticks": "",
           "title": {
            "standoff": 15
           },
           "zerolinecolor": "white",
           "zerolinewidth": 2
          }
         }
        },
        "title": {
         "font": {
          "color": "red",
          "family": "Times New Roman"
         }
        },
        "xaxis": {
         "anchor": "y",
         "domain": [
          0.0,
          1.0
         ],
         "title": {
          "text": "itemDescription"
         }
        },
        "yaxis": {
         "anchor": "x",
         "domain": [
          0.0,
          1.0
         ],
         "title": {
          "text": "Count"
         }
        }
       }
      },
      "text/html": "<div>                            <div id=\"902505fc-7e8c-45c3-b8df-7b7698603c04\" class=\"plotly-graph-div\" style=\"height:525px; width:100%;\"></div>            <script type=\"text/javascript\">                require([\"plotly\"], function(Plotly) {                    window.PLOTLYENV=window.PLOTLYENV || {};                                    if (document.getElementById(\"902505fc-7e8c-45c3-b8df-7b7698603c04\")) {                    Plotly.newPlot(                        \"902505fc-7e8c-45c3-b8df-7b7698603c04\",                        [{\"alignmentgroup\": \"True\", \"hovertemplate\": \"color=whole milk<br>x=%{x}<br>y=%{y}<extra></extra>\", \"legendgroup\": \"whole milk\", \"marker\": {\"color\": \"#636efa\"}, \"name\": \"whole milk\", \"offsetgroup\": \"whole milk\", \"orientation\": \"v\", \"showlegend\": true, \"textposition\": \"auto\", \"type\": \"bar\", \"x\": [\"whole milk\"], \"xaxis\": \"x\", \"y\": [2502], \"yaxis\": \"y\"}, {\"alignmentgroup\": \"True\", \"hovertemplate\": \"color=other vegetables<br>x=%{x}<br>y=%{y}<extra></extra>\", \"legendgroup\": \"other vegetables\", \"marker\": {\"color\": \"#EF553B\"}, \"name\": \"other vegetables\", \"offsetgroup\": \"other vegetables\", \"orientation\": \"v\", \"showlegend\": true, \"textposition\": \"auto\", \"type\": \"bar\", \"x\": [\"other vegetables\"], \"xaxis\": \"x\", \"y\": [1898], \"yaxis\": \"y\"}, {\"alignmentgroup\": \"True\", \"hovertemplate\": \"color=rolls/buns<br>x=%{x}<br>y=%{y}<extra></extra>\", \"legendgroup\": \"rolls/buns\", \"marker\": {\"color\": \"#00cc96\"}, \"name\": \"rolls/buns\", \"offsetgroup\": \"rolls/buns\", \"orientation\": \"v\", \"showlegend\": true, \"textposition\": \"auto\", \"type\": \"bar\", \"x\": [\"rolls/buns\"], \"xaxis\": \"x\", \"y\": [1716], \"yaxis\": \"y\"}, {\"alignmentgroup\": \"True\", \"hovertemplate\": \"color=soda<br>x=%{x}<br>y=%{y}<extra></extra>\", \"legendgroup\": \"soda\", \"marker\": {\"color\": \"#ab63fa\"}, \"name\": \"soda\", \"offsetgroup\": \"soda\", \"orientation\": \"v\", \"showlegend\": true, \"textposition\": \"auto\", \"type\": \"bar\", \"x\": [\"soda\"], \"xaxis\": \"x\", \"y\": [1514], \"yaxis\": \"y\"}, {\"alignmentgroup\": \"True\", \"hovertemplate\": \"color=yogurt<br>x=%{x}<br>y=%{y}<extra></extra>\", \"legendgroup\": \"yogurt\", \"marker\": {\"color\": \"#FFA15A\"}, \"name\": \"yogurt\", \"offsetgroup\": \"yogurt\", \"orientation\": \"v\", \"showlegend\": true, \"textposition\": \"auto\", \"type\": \"bar\", \"x\": [\"yogurt\"], \"xaxis\": \"x\", \"y\": [1334], \"yaxis\": \"y\"}, {\"alignmentgroup\": \"True\", \"hovertemplate\": \"color=root vegetables<br>x=%{x}<br>y=%{y}<extra></extra>\", \"legendgroup\": \"root vegetables\", \"marker\": {\"color\": \"#19d3f3\"}, \"name\": \"root vegetables\", \"offsetgroup\": \"root vegetables\", \"orientation\": \"v\", \"showlegend\": true, \"textposition\": \"auto\", \"type\": \"bar\", \"x\": [\"root vegetables\"], \"xaxis\": \"x\", \"y\": [1071], \"yaxis\": \"y\"}, {\"alignmentgroup\": \"True\", \"hovertemplate\": \"color=tropical fruit<br>x=%{x}<br>y=%{y}<extra></extra>\", \"legendgroup\": \"tropical fruit\", \"marker\": {\"color\": \"#FF6692\"}, \"name\": \"tropical fruit\", \"offsetgroup\": \"tropical fruit\", \"orientation\": \"v\", \"showlegend\": true, \"textposition\": \"auto\", \"type\": \"bar\", \"x\": [\"tropical fruit\"], \"xaxis\": \"x\", \"y\": [1032], \"yaxis\": \"y\"}, {\"alignmentgroup\": \"True\", \"hovertemplate\": \"color=bottled water<br>x=%{x}<br>y=%{y}<extra></extra>\", \"legendgroup\": \"bottled water\", \"marker\": {\"color\": \"#B6E880\"}, \"name\": \"bottled water\", \"offsetgroup\": \"bottled water\", \"orientation\": \"v\", \"showlegend\": true, \"textposition\": \"auto\", \"type\": \"bar\", \"x\": [\"bottled water\"], \"xaxis\": \"x\", \"y\": [933], \"yaxis\": \"y\"}, {\"alignmentgroup\": \"True\", \"hovertemplate\": \"color=sausage<br>x=%{x}<br>y=%{y}<extra></extra>\", \"legendgroup\": \"sausage\", \"marker\": {\"color\": \"#FF97FF\"}, \"name\": \"sausage\", \"offsetgroup\": \"sausage\", \"orientation\": \"v\", \"showlegend\": true, \"textposition\": \"auto\", \"type\": \"bar\", \"x\": [\"sausage\"], \"xaxis\": \"x\", \"y\": [924], \"yaxis\": \"y\"}, {\"alignmentgroup\": \"True\", \"hovertemplate\": \"color=citrus fruit<br>x=%{x}<br>y=%{y}<extra></extra>\", \"legendgroup\": \"citrus fruit\", \"marker\": {\"color\": \"#FECB52\"}, \"name\": \"citrus fruit\", \"offsetgroup\": \"citrus fruit\", \"orientation\": \"v\", \"showlegend\": true, \"textposition\": \"auto\", \"type\": \"bar\", \"x\": [\"citrus fruit\"], \"xaxis\": \"x\", \"y\": [812], \"yaxis\": \"y\"}, {\"alignmentgroup\": \"True\", \"hovertemplate\": \"color=pastry<br>x=%{x}<br>y=%{y}<extra></extra>\", \"legendgroup\": \"pastry\", \"marker\": {\"color\": \"#636efa\"}, \"name\": \"pastry\", \"offsetgroup\": \"pastry\", \"orientation\": \"v\", \"showlegend\": true, \"textposition\": \"auto\", \"type\": \"bar\", \"x\": [\"pastry\"], \"xaxis\": \"x\", \"y\": [785], \"yaxis\": \"y\"}, {\"alignmentgroup\": \"True\", \"hovertemplate\": \"color=pip fruit<br>x=%{x}<br>y=%{y}<extra></extra>\", \"legendgroup\": \"pip fruit\", \"marker\": {\"color\": \"#EF553B\"}, \"name\": \"pip fruit\", \"offsetgroup\": \"pip fruit\", \"orientation\": \"v\", \"showlegend\": true, \"textposition\": \"auto\", \"type\": \"bar\", \"x\": [\"pip fruit\"], \"xaxis\": \"x\", \"y\": [744], \"yaxis\": \"y\"}, {\"alignmentgroup\": \"True\", \"hovertemplate\": \"color=shopping bags<br>x=%{x}<br>y=%{y}<extra></extra>\", \"legendgroup\": \"shopping bags\", \"marker\": {\"color\": \"#00cc96\"}, \"name\": \"shopping bags\", \"offsetgroup\": \"shopping bags\", \"orientation\": \"v\", \"showlegend\": true, \"textposition\": \"auto\", \"type\": \"bar\", \"x\": [\"shopping bags\"], \"xaxis\": \"x\", \"y\": [731], \"yaxis\": \"y\"}, {\"alignmentgroup\": \"True\", \"hovertemplate\": \"color=canned beer<br>x=%{x}<br>y=%{y}<extra></extra>\", \"legendgroup\": \"canned beer\", \"marker\": {\"color\": \"#ab63fa\"}, \"name\": \"canned beer\", \"offsetgroup\": \"canned beer\", \"orientation\": \"v\", \"showlegend\": true, \"textposition\": \"auto\", \"type\": \"bar\", \"x\": [\"canned beer\"], \"xaxis\": \"x\", \"y\": [717], \"yaxis\": \"y\"}, {\"alignmentgroup\": \"True\", \"hovertemplate\": \"color=bottled beer<br>x=%{x}<br>y=%{y}<extra></extra>\", \"legendgroup\": \"bottled beer\", \"marker\": {\"color\": \"#FFA15A\"}, \"name\": \"bottled beer\", \"offsetgroup\": \"bottled beer\", \"orientation\": \"v\", \"showlegend\": true, \"textposition\": \"auto\", \"type\": \"bar\", \"x\": [\"bottled beer\"], \"xaxis\": \"x\", \"y\": [687], \"yaxis\": \"y\"}, {\"alignmentgroup\": \"True\", \"hovertemplate\": \"color=whipped/sour cream<br>x=%{x}<br>y=%{y}<extra></extra>\", \"legendgroup\": \"whipped/sour cream\", \"marker\": {\"color\": \"#19d3f3\"}, \"name\": \"whipped/sour cream\", \"offsetgroup\": \"whipped/sour cream\", \"orientation\": \"v\", \"showlegend\": true, \"textposition\": \"auto\", \"type\": \"bar\", \"x\": [\"whipped/sour cream\"], \"xaxis\": \"x\", \"y\": [662], \"yaxis\": \"y\"}, {\"alignmentgroup\": \"True\", \"hovertemplate\": \"color=newspapers<br>x=%{x}<br>y=%{y}<extra></extra>\", \"legendgroup\": \"newspapers\", \"marker\": {\"color\": \"#FF6692\"}, \"name\": \"newspapers\", \"offsetgroup\": \"newspapers\", \"orientation\": \"v\", \"showlegend\": true, \"textposition\": \"auto\", \"type\": \"bar\", \"x\": [\"newspapers\"], \"xaxis\": \"x\", \"y\": [596], \"yaxis\": \"y\"}, {\"alignmentgroup\": \"True\", \"hovertemplate\": \"color=frankfurter<br>x=%{x}<br>y=%{y}<extra></extra>\", \"legendgroup\": \"frankfurter\", \"marker\": {\"color\": \"#B6E880\"}, \"name\": \"frankfurter\", \"offsetgroup\": \"frankfurter\", \"orientation\": \"v\", \"showlegend\": true, \"textposition\": \"auto\", \"type\": \"bar\", \"x\": [\"frankfurter\"], \"xaxis\": \"x\", \"y\": [580], \"yaxis\": \"y\"}, {\"alignmentgroup\": \"True\", \"hovertemplate\": \"color=brown bread<br>x=%{x}<br>y=%{y}<extra></extra>\", \"legendgroup\": \"brown bread\", \"marker\": {\"color\": \"#FF97FF\"}, \"name\": \"brown bread\", \"offsetgroup\": \"brown bread\", \"orientation\": \"v\", \"showlegend\": true, \"textposition\": \"auto\", \"type\": \"bar\", \"x\": [\"brown bread\"], \"xaxis\": \"x\", \"y\": [571], \"yaxis\": \"y\"}, {\"alignmentgroup\": \"True\", \"hovertemplate\": \"color=domestic eggs<br>x=%{x}<br>y=%{y}<extra></extra>\", \"legendgroup\": \"domestic eggs\", \"marker\": {\"color\": \"#FECB52\"}, \"name\": \"domestic eggs\", \"offsetgroup\": \"domestic eggs\", \"orientation\": \"v\", \"showlegend\": true, \"textposition\": \"auto\", \"type\": \"bar\", \"x\": [\"domestic eggs\"], \"xaxis\": \"x\", \"y\": [566], \"yaxis\": \"y\"}, {\"alignmentgroup\": \"True\", \"hovertemplate\": \"color=pork<br>x=%{x}<br>y=%{y}<extra></extra>\", \"legendgroup\": \"pork\", \"marker\": {\"color\": \"#636efa\"}, \"name\": \"pork\", \"offsetgroup\": \"pork\", \"orientation\": \"v\", \"showlegend\": true, \"textposition\": \"auto\", \"type\": \"bar\", \"x\": [\"pork\"], \"xaxis\": \"x\", \"y\": [566], \"yaxis\": \"y\"}, {\"alignmentgroup\": \"True\", \"hovertemplate\": \"color=butter<br>x=%{x}<br>y=%{y}<extra></extra>\", \"legendgroup\": \"butter\", \"marker\": {\"color\": \"#EF553B\"}, \"name\": \"butter\", \"offsetgroup\": \"butter\", \"orientation\": \"v\", \"showlegend\": true, \"textposition\": \"auto\", \"type\": \"bar\", \"x\": [\"butter\"], \"xaxis\": \"x\", \"y\": [534], \"yaxis\": \"y\"}, {\"alignmentgroup\": \"True\", \"hovertemplate\": \"color=fruit/vegetable juice<br>x=%{x}<br>y=%{y}<extra></extra>\", \"legendgroup\": \"fruit/vegetable juice\", \"marker\": {\"color\": \"#00cc96\"}, \"name\": \"fruit/vegetable juice\", \"offsetgroup\": \"fruit/vegetable juice\", \"orientation\": \"v\", \"showlegend\": true, \"textposition\": \"auto\", \"type\": \"bar\", \"x\": [\"fruit/vegetable juice\"], \"xaxis\": \"x\", \"y\": [518], \"yaxis\": \"y\"}, {\"alignmentgroup\": \"True\", \"hovertemplate\": \"color=beef<br>x=%{x}<br>y=%{y}<extra></extra>\", \"legendgroup\": \"beef\", \"marker\": {\"color\": \"#ab63fa\"}, \"name\": \"beef\", \"offsetgroup\": \"beef\", \"orientation\": \"v\", \"showlegend\": true, \"textposition\": \"auto\", \"type\": \"bar\", \"x\": [\"beef\"], \"xaxis\": \"x\", \"y\": [516], \"yaxis\": \"y\"}, {\"alignmentgroup\": \"True\", \"hovertemplate\": \"color=curd<br>x=%{x}<br>y=%{y}<extra></extra>\", \"legendgroup\": \"curd\", \"marker\": {\"color\": \"#FFA15A\"}, \"name\": \"curd\", \"offsetgroup\": \"curd\", \"orientation\": \"v\", \"showlegend\": true, \"textposition\": \"auto\", \"type\": \"bar\", \"x\": [\"curd\"], \"xaxis\": \"x\", \"y\": [514], \"yaxis\": \"y\"}, {\"alignmentgroup\": \"True\", \"hovertemplate\": \"color=margarine<br>x=%{x}<br>y=%{y}<extra></extra>\", \"legendgroup\": \"margarine\", \"marker\": {\"color\": \"#19d3f3\"}, \"name\": \"margarine\", \"offsetgroup\": \"margarine\", \"orientation\": \"v\", \"showlegend\": true, \"textposition\": \"auto\", \"type\": \"bar\", \"x\": [\"margarine\"], \"xaxis\": \"x\", \"y\": [491], \"yaxis\": \"y\"}, {\"alignmentgroup\": \"True\", \"hovertemplate\": \"color=coffee<br>x=%{x}<br>y=%{y}<extra></extra>\", \"legendgroup\": \"coffee\", \"marker\": {\"color\": \"#FF6692\"}, \"name\": \"coffee\", \"offsetgroup\": \"coffee\", \"orientation\": \"v\", \"showlegend\": true, \"textposition\": \"auto\", \"type\": \"bar\", \"x\": [\"coffee\"], \"xaxis\": \"x\", \"y\": [476], \"yaxis\": \"y\"}, {\"alignmentgroup\": \"True\", \"hovertemplate\": \"color=frozen vegetables<br>x=%{x}<br>y=%{y}<extra></extra>\", \"legendgroup\": \"frozen vegetables\", \"marker\": {\"color\": \"#B6E880\"}, \"name\": \"frozen vegetables\", \"offsetgroup\": \"frozen vegetables\", \"orientation\": \"v\", \"showlegend\": true, \"textposition\": \"auto\", \"type\": \"bar\", \"x\": [\"frozen vegetables\"], \"xaxis\": \"x\", \"y\": [425], \"yaxis\": \"y\"}, {\"alignmentgroup\": \"True\", \"hovertemplate\": \"color=chicken<br>x=%{x}<br>y=%{y}<extra></extra>\", \"legendgroup\": \"chicken\", \"marker\": {\"color\": \"#FF97FF\"}, \"name\": \"chicken\", \"offsetgroup\": \"chicken\", \"orientation\": \"v\", \"showlegend\": true, \"textposition\": \"auto\", \"type\": \"bar\", \"x\": [\"chicken\"], \"xaxis\": \"x\", \"y\": [422], \"yaxis\": \"y\"}, {\"alignmentgroup\": \"True\", \"hovertemplate\": \"color=white bread<br>x=%{x}<br>y=%{y}<extra></extra>\", \"legendgroup\": \"white bread\", \"marker\": {\"color\": \"#FECB52\"}, \"name\": \"white bread\", \"offsetgroup\": \"white bread\", \"orientation\": \"v\", \"showlegend\": true, \"textposition\": \"auto\", \"type\": \"bar\", \"x\": [\"white bread\"], \"xaxis\": \"x\", \"y\": [362], \"yaxis\": \"y\"}, {\"alignmentgroup\": \"True\", \"hovertemplate\": \"color=cream cheese <br>x=%{x}<br>y=%{y}<extra></extra>\", \"legendgroup\": \"cream cheese \", \"marker\": {\"color\": \"#636efa\"}, \"name\": \"cream cheese \", \"offsetgroup\": \"cream cheese \", \"orientation\": \"v\", \"showlegend\": true, \"textposition\": \"auto\", \"type\": \"bar\", \"x\": [\"cream cheese \"], \"xaxis\": \"x\", \"y\": [358], \"yaxis\": \"y\"}, {\"alignmentgroup\": \"True\", \"hovertemplate\": \"color=chocolate<br>x=%{x}<br>y=%{y}<extra></extra>\", \"legendgroup\": \"chocolate\", \"marker\": {\"color\": \"#EF553B\"}, \"name\": \"chocolate\", \"offsetgroup\": \"chocolate\", \"orientation\": \"v\", \"showlegend\": true, \"textposition\": \"auto\", \"type\": \"bar\", \"x\": [\"chocolate\"], \"xaxis\": \"x\", \"y\": [357], \"yaxis\": \"y\"}, {\"alignmentgroup\": \"True\", \"hovertemplate\": \"color=dessert<br>x=%{x}<br>y=%{y}<extra></extra>\", \"legendgroup\": \"dessert\", \"marker\": {\"color\": \"#00cc96\"}, \"name\": \"dessert\", \"offsetgroup\": \"dessert\", \"orientation\": \"v\", \"showlegend\": true, \"textposition\": \"auto\", \"type\": \"bar\", \"x\": [\"dessert\"], \"xaxis\": \"x\", \"y\": [356], \"yaxis\": \"y\"}, {\"alignmentgroup\": \"True\", \"hovertemplate\": \"color=napkins<br>x=%{x}<br>y=%{y}<extra></extra>\", \"legendgroup\": \"napkins\", \"marker\": {\"color\": \"#ab63fa\"}, \"name\": \"napkins\", \"offsetgroup\": \"napkins\", \"orientation\": \"v\", \"showlegend\": true, \"textposition\": \"auto\", \"type\": \"bar\", \"x\": [\"napkins\"], \"xaxis\": \"x\", \"y\": [335], \"yaxis\": \"y\"}, {\"alignmentgroup\": \"True\", \"hovertemplate\": \"color=berries<br>x=%{x}<br>y=%{y}<extra></extra>\", \"legendgroup\": \"berries\", \"marker\": {\"color\": \"#FFA15A\"}, \"name\": \"berries\", \"offsetgroup\": \"berries\", \"orientation\": \"v\", \"showlegend\": true, \"textposition\": \"auto\", \"type\": \"bar\", \"x\": [\"berries\"], \"xaxis\": \"x\", \"y\": [327], \"yaxis\": \"y\"}, {\"alignmentgroup\": \"True\", \"hovertemplate\": \"color=hamburger meat<br>x=%{x}<br>y=%{y}<extra></extra>\", \"legendgroup\": \"hamburger meat\", \"marker\": {\"color\": \"#19d3f3\"}, \"name\": \"hamburger meat\", \"offsetgroup\": \"hamburger meat\", \"orientation\": \"v\", \"showlegend\": true, \"textposition\": \"auto\", \"type\": \"bar\", \"x\": [\"hamburger meat\"], \"xaxis\": \"x\", \"y\": [327], \"yaxis\": \"y\"}, {\"alignmentgroup\": \"True\", \"hovertemplate\": \"color=UHT-milk<br>x=%{x}<br>y=%{y}<extra></extra>\", \"legendgroup\": \"UHT-milk\", \"marker\": {\"color\": \"#FF6692\"}, \"name\": \"UHT-milk\", \"offsetgroup\": \"UHT-milk\", \"orientation\": \"v\", \"showlegend\": true, \"textposition\": \"auto\", \"type\": \"bar\", \"x\": [\"UHT-milk\"], \"xaxis\": \"x\", \"y\": [323], \"yaxis\": \"y\"}, {\"alignmentgroup\": \"True\", \"hovertemplate\": \"color=onions<br>x=%{x}<br>y=%{y}<extra></extra>\", \"legendgroup\": \"onions\", \"marker\": {\"color\": \"#B6E880\"}, \"name\": \"onions\", \"offsetgroup\": \"onions\", \"orientation\": \"v\", \"showlegend\": true, \"textposition\": \"auto\", \"type\": \"bar\", \"x\": [\"onions\"], \"xaxis\": \"x\", \"y\": [305], \"yaxis\": \"y\"}, {\"alignmentgroup\": \"True\", \"hovertemplate\": \"color=salty snack<br>x=%{x}<br>y=%{y}<extra></extra>\", \"legendgroup\": \"salty snack\", \"marker\": {\"color\": \"#FF97FF\"}, \"name\": \"salty snack\", \"offsetgroup\": \"salty snack\", \"orientation\": \"v\", \"showlegend\": true, \"textposition\": \"auto\", \"type\": \"bar\", \"x\": [\"salty snack\"], \"xaxis\": \"x\", \"y\": [283], \"yaxis\": \"y\"}, {\"alignmentgroup\": \"True\", \"hovertemplate\": \"color=waffles<br>x=%{x}<br>y=%{y}<extra></extra>\", \"legendgroup\": \"waffles\", \"marker\": {\"color\": \"#FECB52\"}, \"name\": \"waffles\", \"offsetgroup\": \"waffles\", \"orientation\": \"v\", \"showlegend\": true, \"textposition\": \"auto\", \"type\": \"bar\", \"x\": [\"waffles\"], \"xaxis\": \"x\", \"y\": [280], \"yaxis\": \"y\"}, {\"alignmentgroup\": \"True\", \"hovertemplate\": \"color=long life bakery product<br>x=%{x}<br>y=%{y}<extra></extra>\", \"legendgroup\": \"long life bakery product\", \"marker\": {\"color\": \"#636efa\"}, \"name\": \"long life bakery product\", \"offsetgroup\": \"long life bakery product\", \"orientation\": \"v\", \"showlegend\": true, \"textposition\": \"auto\", \"type\": \"bar\", \"x\": [\"long life bakery product\"], \"xaxis\": \"x\", \"y\": [269], \"yaxis\": \"y\"}, {\"alignmentgroup\": \"True\", \"hovertemplate\": \"color=sugar<br>x=%{x}<br>y=%{y}<extra></extra>\", \"legendgroup\": \"sugar\", \"marker\": {\"color\": \"#EF553B\"}, \"name\": \"sugar\", \"offsetgroup\": \"sugar\", \"orientation\": \"v\", \"showlegend\": true, \"textposition\": \"auto\", \"type\": \"bar\", \"x\": [\"sugar\"], \"xaxis\": \"x\", \"y\": [265], \"yaxis\": \"y\"}, {\"alignmentgroup\": \"True\", \"hovertemplate\": \"color=butter milk<br>x=%{x}<br>y=%{y}<extra></extra>\", \"legendgroup\": \"butter milk\", \"marker\": {\"color\": \"#00cc96\"}, \"name\": \"butter milk\", \"offsetgroup\": \"butter milk\", \"orientation\": \"v\", \"showlegend\": true, \"textposition\": \"auto\", \"type\": \"bar\", \"x\": [\"butter milk\"], \"xaxis\": \"x\", \"y\": [263], \"yaxis\": \"y\"}, {\"alignmentgroup\": \"True\", \"hovertemplate\": \"color=ham<br>x=%{x}<br>y=%{y}<extra></extra>\", \"legendgroup\": \"ham\", \"marker\": {\"color\": \"#ab63fa\"}, \"name\": \"ham\", \"offsetgroup\": \"ham\", \"orientation\": \"v\", \"showlegend\": true, \"textposition\": \"auto\", \"type\": \"bar\", \"x\": [\"ham\"], \"xaxis\": \"x\", \"y\": [256], \"yaxis\": \"y\"}, {\"alignmentgroup\": \"True\", \"hovertemplate\": \"color=meat<br>x=%{x}<br>y=%{y}<extra></extra>\", \"legendgroup\": \"meat\", \"marker\": {\"color\": \"#FFA15A\"}, \"name\": \"meat\", \"offsetgroup\": \"meat\", \"orientation\": \"v\", \"showlegend\": true, \"textposition\": \"auto\", \"type\": \"bar\", \"x\": [\"meat\"], \"xaxis\": \"x\", \"y\": [254], \"yaxis\": \"y\"}, {\"alignmentgroup\": \"True\", \"hovertemplate\": \"color=frozen meals<br>x=%{x}<br>y=%{y}<extra></extra>\", \"legendgroup\": \"frozen meals\", \"marker\": {\"color\": \"#19d3f3\"}, \"name\": \"frozen meals\", \"offsetgroup\": \"frozen meals\", \"orientation\": \"v\", \"showlegend\": true, \"textposition\": \"auto\", \"type\": \"bar\", \"x\": [\"frozen meals\"], \"xaxis\": \"x\", \"y\": [252], \"yaxis\": \"y\"}, {\"alignmentgroup\": \"True\", \"hovertemplate\": \"color=beverages<br>x=%{x}<br>y=%{y}<extra></extra>\", \"legendgroup\": \"beverages\", \"marker\": {\"color\": \"#FF6692\"}, \"name\": \"beverages\", \"offsetgroup\": \"beverages\", \"orientation\": \"v\", \"showlegend\": true, \"textposition\": \"auto\", \"type\": \"bar\", \"x\": [\"beverages\"], \"xaxis\": \"x\", \"y\": [251], \"yaxis\": \"y\"}, {\"alignmentgroup\": \"True\", \"hovertemplate\": \"color=specialty chocolate<br>x=%{x}<br>y=%{y}<extra></extra>\", \"legendgroup\": \"specialty chocolate\", \"marker\": {\"color\": \"#B6E880\"}, \"name\": \"specialty chocolate\", \"offsetgroup\": \"specialty chocolate\", \"orientation\": \"v\", \"showlegend\": true, \"textposition\": \"auto\", \"type\": \"bar\", \"x\": [\"specialty chocolate\"], \"xaxis\": \"x\", \"y\": [240], \"yaxis\": \"y\"}, {\"alignmentgroup\": \"True\", \"hovertemplate\": \"color=misc. beverages<br>x=%{x}<br>y=%{y}<extra></extra>\", \"legendgroup\": \"misc. beverages\", \"marker\": {\"color\": \"#FF97FF\"}, \"name\": \"misc. beverages\", \"offsetgroup\": \"misc. beverages\", \"orientation\": \"v\", \"showlegend\": true, \"textposition\": \"auto\", \"type\": \"bar\", \"x\": [\"misc. beverages\"], \"xaxis\": \"x\", \"y\": [238], \"yaxis\": \"y\"}, {\"alignmentgroup\": \"True\", \"hovertemplate\": \"color=ice cream<br>x=%{x}<br>y=%{y}<extra></extra>\", \"legendgroup\": \"ice cream\", \"marker\": {\"color\": \"#FECB52\"}, \"name\": \"ice cream\", \"offsetgroup\": \"ice cream\", \"orientation\": \"v\", \"showlegend\": true, \"textposition\": \"auto\", \"type\": \"bar\", \"x\": [\"ice cream\"], \"xaxis\": \"x\", \"y\": [227], \"yaxis\": \"y\"}, {\"alignmentgroup\": \"True\", \"hovertemplate\": \"color=oil<br>x=%{x}<br>y=%{y}<extra></extra>\", \"legendgroup\": \"oil\", \"marker\": {\"color\": \"#636efa\"}, \"name\": \"oil\", \"offsetgroup\": \"oil\", \"orientation\": \"v\", \"showlegend\": true, \"textposition\": \"auto\", \"type\": \"bar\", \"x\": [\"oil\"], \"xaxis\": \"x\", \"y\": [225], \"yaxis\": \"y\"}, {\"alignmentgroup\": \"True\", \"hovertemplate\": \"color=grapes<br>x=%{x}<br>y=%{y}<extra></extra>\", \"legendgroup\": \"grapes\", \"marker\": {\"color\": \"#EF553B\"}, \"name\": \"grapes\", \"offsetgroup\": \"grapes\", \"orientation\": \"v\", \"showlegend\": true, \"textposition\": \"auto\", \"type\": \"bar\", \"x\": [\"grapes\"], \"xaxis\": \"x\", \"y\": [220], \"yaxis\": \"y\"}, {\"alignmentgroup\": \"True\", \"hovertemplate\": \"color=hard cheese<br>x=%{x}<br>y=%{y}<extra></extra>\", \"legendgroup\": \"hard cheese\", \"marker\": {\"color\": \"#00cc96\"}, \"name\": \"hard cheese\", \"offsetgroup\": \"hard cheese\", \"orientation\": \"v\", \"showlegend\": true, \"textposition\": \"auto\", \"type\": \"bar\", \"x\": [\"hard cheese\"], \"xaxis\": \"x\", \"y\": [220], \"yaxis\": \"y\"}, {\"alignmentgroup\": \"True\", \"hovertemplate\": \"color=candy<br>x=%{x}<br>y=%{y}<extra></extra>\", \"legendgroup\": \"candy\", \"marker\": {\"color\": \"#ab63fa\"}, \"name\": \"candy\", \"offsetgroup\": \"candy\", \"orientation\": \"v\", \"showlegend\": true, \"textposition\": \"auto\", \"type\": \"bar\", \"x\": [\"candy\"], \"xaxis\": \"x\", \"y\": [219], \"yaxis\": \"y\"}, {\"alignmentgroup\": \"True\", \"hovertemplate\": \"color=sliced cheese<br>x=%{x}<br>y=%{y}<extra></extra>\", \"legendgroup\": \"sliced cheese\", \"marker\": {\"color\": \"#FFA15A\"}, \"name\": \"sliced cheese\", \"offsetgroup\": \"sliced cheese\", \"orientation\": \"v\", \"showlegend\": true, \"textposition\": \"auto\", \"type\": \"bar\", \"x\": [\"sliced cheese\"], \"xaxis\": \"x\", \"y\": [212], \"yaxis\": \"y\"}, {\"alignmentgroup\": \"True\", \"hovertemplate\": \"color=specialty bar<br>x=%{x}<br>y=%{y}<extra></extra>\", \"legendgroup\": \"specialty bar\", \"marker\": {\"color\": \"#19d3f3\"}, \"name\": \"specialty bar\", \"offsetgroup\": \"specialty bar\", \"orientation\": \"v\", \"showlegend\": true, \"textposition\": \"auto\", \"type\": \"bar\", \"x\": [\"specialty bar\"], \"xaxis\": \"x\", \"y\": [210], \"yaxis\": \"y\"}, {\"alignmentgroup\": \"True\", \"hovertemplate\": \"color=hygiene articles<br>x=%{x}<br>y=%{y}<extra></extra>\", \"legendgroup\": \"hygiene articles\", \"marker\": {\"color\": \"#FF6692\"}, \"name\": \"hygiene articles\", \"offsetgroup\": \"hygiene articles\", \"orientation\": \"v\", \"showlegend\": true, \"textposition\": \"auto\", \"type\": \"bar\", \"x\": [\"hygiene articles\"], \"xaxis\": \"x\", \"y\": [208], \"yaxis\": \"y\"}, {\"alignmentgroup\": \"True\", \"hovertemplate\": \"color=chewing gum<br>x=%{x}<br>y=%{y}<extra></extra>\", \"legendgroup\": \"chewing gum\", \"marker\": {\"color\": \"#B6E880\"}, \"name\": \"chewing gum\", \"offsetgroup\": \"chewing gum\", \"orientation\": \"v\", \"showlegend\": true, \"textposition\": \"auto\", \"type\": \"bar\", \"x\": [\"chewing gum\"], \"xaxis\": \"x\", \"y\": [181], \"yaxis\": \"y\"}, {\"alignmentgroup\": \"True\", \"hovertemplate\": \"color=cat food<br>x=%{x}<br>y=%{y}<extra></extra>\", \"legendgroup\": \"cat food\", \"marker\": {\"color\": \"#FF97FF\"}, \"name\": \"cat food\", \"offsetgroup\": \"cat food\", \"orientation\": \"v\", \"showlegend\": true, \"textposition\": \"auto\", \"type\": \"bar\", \"x\": [\"cat food\"], \"xaxis\": \"x\", \"y\": [177], \"yaxis\": \"y\"}, {\"alignmentgroup\": \"True\", \"hovertemplate\": \"color=white wine<br>x=%{x}<br>y=%{y}<extra></extra>\", \"legendgroup\": \"white wine\", \"marker\": {\"color\": \"#FECB52\"}, \"name\": \"white wine\", \"offsetgroup\": \"white wine\", \"orientation\": \"v\", \"showlegend\": true, \"textposition\": \"auto\", \"type\": \"bar\", \"x\": [\"white wine\"], \"xaxis\": \"x\", \"y\": [176], \"yaxis\": \"y\"}, {\"alignmentgroup\": \"True\", \"hovertemplate\": \"color=herbs<br>x=%{x}<br>y=%{y}<extra></extra>\", \"legendgroup\": \"herbs\", \"marker\": {\"color\": \"#636efa\"}, \"name\": \"herbs\", \"offsetgroup\": \"herbs\", \"orientation\": \"v\", \"showlegend\": true, \"textposition\": \"auto\", \"type\": \"bar\", \"x\": [\"herbs\"], \"xaxis\": \"x\", \"y\": [159], \"yaxis\": \"y\"}, {\"alignmentgroup\": \"True\", \"hovertemplate\": \"color=red/blush wine<br>x=%{x}<br>y=%{y}<extra></extra>\", \"legendgroup\": \"red/blush wine\", \"marker\": {\"color\": \"#EF553B\"}, \"name\": \"red/blush wine\", \"offsetgroup\": \"red/blush wine\", \"orientation\": \"v\", \"showlegend\": true, \"textposition\": \"auto\", \"type\": \"bar\", \"x\": [\"red/blush wine\"], \"xaxis\": \"x\", \"y\": [157], \"yaxis\": \"y\"}, {\"alignmentgroup\": \"True\", \"hovertemplate\": \"color=processed cheese<br>x=%{x}<br>y=%{y}<extra></extra>\", \"legendgroup\": \"processed cheese\", \"marker\": {\"color\": \"#00cc96\"}, \"name\": \"processed cheese\", \"offsetgroup\": \"processed cheese\", \"orientation\": \"v\", \"showlegend\": true, \"textposition\": \"auto\", \"type\": \"bar\", \"x\": [\"processed cheese\"], \"xaxis\": \"x\", \"y\": [152], \"yaxis\": \"y\"}, {\"alignmentgroup\": \"True\", \"hovertemplate\": \"color=soft cheese<br>x=%{x}<br>y=%{y}<extra></extra>\", \"legendgroup\": \"soft cheese\", \"marker\": {\"color\": \"#ab63fa\"}, \"name\": \"soft cheese\", \"offsetgroup\": \"soft cheese\", \"orientation\": \"v\", \"showlegend\": true, \"textposition\": \"auto\", \"type\": \"bar\", \"x\": [\"soft cheese\"], \"xaxis\": \"x\", \"y\": [152], \"yaxis\": \"y\"}, {\"alignmentgroup\": \"True\", \"hovertemplate\": \"color=flour<br>x=%{x}<br>y=%{y}<extra></extra>\", \"legendgroup\": \"flour\", \"marker\": {\"color\": \"#FFA15A\"}, \"name\": \"flour\", \"offsetgroup\": \"flour\", \"orientation\": \"v\", \"showlegend\": true, \"textposition\": \"auto\", \"type\": \"bar\", \"x\": [\"flour\"], \"xaxis\": \"x\", \"y\": [146], \"yaxis\": \"y\"}, {\"alignmentgroup\": \"True\", \"hovertemplate\": \"color=semi-finished bread<br>x=%{x}<br>y=%{y}<extra></extra>\", \"legendgroup\": \"semi-finished bread\", \"marker\": {\"color\": \"#19d3f3\"}, \"name\": \"semi-finished bread\", \"offsetgroup\": \"semi-finished bread\", \"orientation\": \"v\", \"showlegend\": true, \"textposition\": \"auto\", \"type\": \"bar\", \"x\": [\"semi-finished bread\"], \"xaxis\": \"x\", \"y\": [142], \"yaxis\": \"y\"}, {\"alignmentgroup\": \"True\", \"hovertemplate\": \"color=dishes<br>x=%{x}<br>y=%{y}<extra></extra>\", \"legendgroup\": \"dishes\", \"marker\": {\"color\": \"#FF6692\"}, \"name\": \"dishes\", \"offsetgroup\": \"dishes\", \"orientation\": \"v\", \"showlegend\": true, \"textposition\": \"auto\", \"type\": \"bar\", \"x\": [\"dishes\"], \"xaxis\": \"x\", \"y\": [135], \"yaxis\": \"y\"}, {\"alignmentgroup\": \"True\", \"hovertemplate\": \"color=pickled vegetables<br>x=%{x}<br>y=%{y}<extra></extra>\", \"legendgroup\": \"pickled vegetables\", \"marker\": {\"color\": \"#B6E880\"}, \"name\": \"pickled vegetables\", \"offsetgroup\": \"pickled vegetables\", \"orientation\": \"v\", \"showlegend\": true, \"textposition\": \"auto\", \"type\": \"bar\", \"x\": [\"pickled vegetables\"], \"xaxis\": \"x\", \"y\": [134], \"yaxis\": \"y\"}, {\"alignmentgroup\": \"True\", \"hovertemplate\": \"color=detergent<br>x=%{x}<br>y=%{y}<extra></extra>\", \"legendgroup\": \"detergent\", \"marker\": {\"color\": \"#FF97FF\"}, \"name\": \"detergent\", \"offsetgroup\": \"detergent\", \"orientation\": \"v\", \"showlegend\": true, \"textposition\": \"auto\", \"type\": \"bar\", \"x\": [\"detergent\"], \"xaxis\": \"x\", \"y\": [130], \"yaxis\": \"y\"}, {\"alignmentgroup\": \"True\", \"hovertemplate\": \"color=packaged fruit/vegetables<br>x=%{x}<br>y=%{y}<extra></extra>\", \"legendgroup\": \"packaged fruit/vegetables\", \"marker\": {\"color\": \"#FECB52\"}, \"name\": \"packaged fruit/vegetables\", \"offsetgroup\": \"packaged fruit/vegetables\", \"orientation\": \"v\", \"showlegend\": true, \"textposition\": \"auto\", \"type\": \"bar\", \"x\": [\"packaged fruit/vegetables\"], \"xaxis\": \"x\", \"y\": [128], \"yaxis\": \"y\"}, {\"alignmentgroup\": \"True\", \"hovertemplate\": \"color=baking powder<br>x=%{x}<br>y=%{y}<extra></extra>\", \"legendgroup\": \"baking powder\", \"marker\": {\"color\": \"#636efa\"}, \"name\": \"baking powder\", \"offsetgroup\": \"baking powder\", \"orientation\": \"v\", \"showlegend\": true, \"textposition\": \"auto\", \"type\": \"bar\", \"x\": [\"baking powder\"], \"xaxis\": \"x\", \"y\": [122], \"yaxis\": \"y\"}, {\"alignmentgroup\": \"True\", \"hovertemplate\": \"color=pasta<br>x=%{x}<br>y=%{y}<extra></extra>\", \"legendgroup\": \"pasta\", \"marker\": {\"color\": \"#EF553B\"}, \"name\": \"pasta\", \"offsetgroup\": \"pasta\", \"orientation\": \"v\", \"showlegend\": true, \"textposition\": \"auto\", \"type\": \"bar\", \"x\": [\"pasta\"], \"xaxis\": \"x\", \"y\": [121], \"yaxis\": \"y\"}, {\"alignmentgroup\": \"True\", \"hovertemplate\": \"color=pot plants<br>x=%{x}<br>y=%{y}<extra></extra>\", \"legendgroup\": \"pot plants\", \"marker\": {\"color\": \"#00cc96\"}, \"name\": \"pot plants\", \"offsetgroup\": \"pot plants\", \"orientation\": \"v\", \"showlegend\": true, \"textposition\": \"auto\", \"type\": \"bar\", \"x\": [\"pot plants\"], \"xaxis\": \"x\", \"y\": [118], \"yaxis\": \"y\"}, {\"alignmentgroup\": \"True\", \"hovertemplate\": \"color=canned fish<br>x=%{x}<br>y=%{y}<extra></extra>\", \"legendgroup\": \"canned fish\", \"marker\": {\"color\": \"#ab63fa\"}, \"name\": \"canned fish\", \"offsetgroup\": \"canned fish\", \"orientation\": \"v\", \"showlegend\": true, \"textposition\": \"auto\", \"type\": \"bar\", \"x\": [\"canned fish\"], \"xaxis\": \"x\", \"y\": [116], \"yaxis\": \"y\"}, {\"alignmentgroup\": \"True\", \"hovertemplate\": \"color=seasonal products<br>x=%{x}<br>y=%{y}<extra></extra>\", \"legendgroup\": \"seasonal products\", \"marker\": {\"color\": \"#FFA15A\"}, \"name\": \"seasonal products\", \"offsetgroup\": \"seasonal products\", \"orientation\": \"v\", \"showlegend\": true, \"textposition\": \"auto\", \"type\": \"bar\", \"x\": [\"seasonal products\"], \"xaxis\": \"x\", \"y\": [106], \"yaxis\": \"y\"}, {\"alignmentgroup\": \"True\", \"hovertemplate\": \"color=liquor<br>x=%{x}<br>y=%{y}<extra></extra>\", \"legendgroup\": \"liquor\", \"marker\": {\"color\": \"#19d3f3\"}, \"name\": \"liquor\", \"offsetgroup\": \"liquor\", \"orientation\": \"v\", \"showlegend\": true, \"textposition\": \"auto\", \"type\": \"bar\", \"x\": [\"liquor\"], \"xaxis\": \"x\", \"y\": [103], \"yaxis\": \"y\"}, {\"alignmentgroup\": \"True\", \"hovertemplate\": \"color=frozen fish<br>x=%{x}<br>y=%{y}<extra></extra>\", \"legendgroup\": \"frozen fish\", \"marker\": {\"color\": \"#FF6692\"}, \"name\": \"frozen fish\", \"offsetgroup\": \"frozen fish\", \"orientation\": \"v\", \"showlegend\": true, \"textposition\": \"auto\", \"type\": \"bar\", \"x\": [\"frozen fish\"], \"xaxis\": \"x\", \"y\": [102], \"yaxis\": \"y\"}, {\"alignmentgroup\": \"True\", \"hovertemplate\": \"color=spread cheese<br>x=%{x}<br>y=%{y}<extra></extra>\", \"legendgroup\": \"spread cheese\", \"marker\": {\"color\": \"#B6E880\"}, \"name\": \"spread cheese\", \"offsetgroup\": \"spread cheese\", \"orientation\": \"v\", \"showlegend\": true, \"textposition\": \"auto\", \"type\": \"bar\", \"x\": [\"spread cheese\"], \"xaxis\": \"x\", \"y\": [100], \"yaxis\": \"y\"}, {\"alignmentgroup\": \"True\", \"hovertemplate\": \"color=condensed milk<br>x=%{x}<br>y=%{y}<extra></extra>\", \"legendgroup\": \"condensed milk\", \"marker\": {\"color\": \"#FF97FF\"}, \"name\": \"condensed milk\", \"offsetgroup\": \"condensed milk\", \"orientation\": \"v\", \"showlegend\": true, \"textposition\": \"auto\", \"type\": \"bar\", \"x\": [\"condensed milk\"], \"xaxis\": \"x\", \"y\": [98], \"yaxis\": \"y\"}, {\"alignmentgroup\": \"True\", \"hovertemplate\": \"color=cake bar<br>x=%{x}<br>y=%{y}<extra></extra>\", \"legendgroup\": \"cake bar\", \"marker\": {\"color\": \"#FECB52\"}, \"name\": \"cake bar\", \"offsetgroup\": \"cake bar\", \"orientation\": \"v\", \"showlegend\": true, \"textposition\": \"auto\", \"type\": \"bar\", \"x\": [\"cake bar\"], \"xaxis\": \"x\", \"y\": [93], \"yaxis\": \"y\"}, {\"alignmentgroup\": \"True\", \"hovertemplate\": \"color=mustard<br>x=%{x}<br>y=%{y}<extra></extra>\", \"legendgroup\": \"mustard\", \"marker\": {\"color\": \"#636efa\"}, \"name\": \"mustard\", \"offsetgroup\": \"mustard\", \"orientation\": \"v\", \"showlegend\": true, \"textposition\": \"auto\", \"type\": \"bar\", \"x\": [\"mustard\"], \"xaxis\": \"x\", \"y\": [92], \"yaxis\": \"y\"}, {\"alignmentgroup\": \"True\", \"hovertemplate\": \"color=frozen dessert<br>x=%{x}<br>y=%{y}<extra></extra>\", \"legendgroup\": \"frozen dessert\", \"marker\": {\"color\": \"#EF553B\"}, \"name\": \"frozen dessert\", \"offsetgroup\": \"frozen dessert\", \"orientation\": \"v\", \"showlegend\": true, \"textposition\": \"auto\", \"type\": \"bar\", \"x\": [\"frozen dessert\"], \"xaxis\": \"x\", \"y\": [92], \"yaxis\": \"y\"}, {\"alignmentgroup\": \"True\", \"hovertemplate\": \"color=salt<br>x=%{x}<br>y=%{y}<extra></extra>\", \"legendgroup\": \"salt\", \"marker\": {\"color\": \"#00cc96\"}, \"name\": \"salt\", \"offsetgroup\": \"salt\", \"orientation\": \"v\", \"showlegend\": true, \"textposition\": \"auto\", \"type\": \"bar\", \"x\": [\"salt\"], \"xaxis\": \"x\", \"y\": [89], \"yaxis\": \"y\"}, {\"alignmentgroup\": \"True\", \"hovertemplate\": \"color=pet care<br>x=%{x}<br>y=%{y}<extra></extra>\", \"legendgroup\": \"pet care\", \"marker\": {\"color\": \"#ab63fa\"}, \"name\": \"pet care\", \"offsetgroup\": \"pet care\", \"orientation\": \"v\", \"showlegend\": true, \"textposition\": \"auto\", \"type\": \"bar\", \"x\": [\"pet care\"], \"xaxis\": \"x\", \"y\": [85], \"yaxis\": \"y\"}, {\"alignmentgroup\": \"True\", \"hovertemplate\": \"color=roll products <br>x=%{x}<br>y=%{y}<extra></extra>\", \"legendgroup\": \"roll products \", \"marker\": {\"color\": \"#FFA15A\"}, \"name\": \"roll products \", \"offsetgroup\": \"roll products \", \"orientation\": \"v\", \"showlegend\": true, \"textposition\": \"auto\", \"type\": \"bar\", \"x\": [\"roll products \"], \"xaxis\": \"x\", \"y\": [82], \"yaxis\": \"y\"}, {\"alignmentgroup\": \"True\", \"hovertemplate\": \"color=canned vegetables<br>x=%{x}<br>y=%{y}<extra></extra>\", \"legendgroup\": \"canned vegetables\", \"marker\": {\"color\": \"#19d3f3\"}, \"name\": \"canned vegetables\", \"offsetgroup\": \"canned vegetables\", \"orientation\": \"v\", \"showlegend\": true, \"textposition\": \"auto\", \"type\": \"bar\", \"x\": [\"canned vegetables\"], \"xaxis\": \"x\", \"y\": [82], \"yaxis\": \"y\"}, {\"alignmentgroup\": \"True\", \"hovertemplate\": \"color=turkey<br>x=%{x}<br>y=%{y}<extra></extra>\", \"legendgroup\": \"turkey\", \"marker\": {\"color\": \"#FF6692\"}, \"name\": \"turkey\", \"offsetgroup\": \"turkey\", \"orientation\": \"v\", \"showlegend\": true, \"textposition\": \"auto\", \"type\": \"bar\", \"x\": [\"turkey\"], \"xaxis\": \"x\", \"y\": [80], \"yaxis\": \"y\"}, {\"alignmentgroup\": \"True\", \"hovertemplate\": \"color=photo/film<br>x=%{x}<br>y=%{y}<extra></extra>\", \"legendgroup\": \"photo/film\", \"marker\": {\"color\": \"#B6E880\"}, \"name\": \"photo/film\", \"offsetgroup\": \"photo/film\", \"orientation\": \"v\", \"showlegend\": true, \"textposition\": \"auto\", \"type\": \"bar\", \"x\": [\"photo/film\"], \"xaxis\": \"x\", \"y\": [79], \"yaxis\": \"y\"}, {\"alignmentgroup\": \"True\", \"hovertemplate\": \"color=mayonnaise<br>x=%{x}<br>y=%{y}<extra></extra>\", \"legendgroup\": \"mayonnaise\", \"marker\": {\"color\": \"#FF97FF\"}, \"name\": \"mayonnaise\", \"offsetgroup\": \"mayonnaise\", \"orientation\": \"v\", \"showlegend\": true, \"textposition\": \"auto\", \"type\": \"bar\", \"x\": [\"mayonnaise\"], \"xaxis\": \"x\", \"y\": [75], \"yaxis\": \"y\"}, {\"alignmentgroup\": \"True\", \"hovertemplate\": \"color=cling film/bags<br>x=%{x}<br>y=%{y}<extra></extra>\", \"legendgroup\": \"cling film/bags\", \"marker\": {\"color\": \"#FECB52\"}, \"name\": \"cling film/bags\", \"offsetgroup\": \"cling film/bags\", \"orientation\": \"v\", \"showlegend\": true, \"textposition\": \"auto\", \"type\": \"bar\", \"x\": [\"cling film/bags\"], \"xaxis\": \"x\", \"y\": [74], \"yaxis\": \"y\"}, {\"alignmentgroup\": \"True\", \"hovertemplate\": \"color=dish cleaner<br>x=%{x}<br>y=%{y}<extra></extra>\", \"legendgroup\": \"dish cleaner\", \"marker\": {\"color\": \"#636efa\"}, \"name\": \"dish cleaner\", \"offsetgroup\": \"dish cleaner\", \"orientation\": \"v\", \"showlegend\": true, \"textposition\": \"auto\", \"type\": \"bar\", \"x\": [\"dish cleaner\"], \"xaxis\": \"x\", \"y\": [73], \"yaxis\": \"y\"}, {\"alignmentgroup\": \"True\", \"hovertemplate\": \"color=frozen potato products<br>x=%{x}<br>y=%{y}<extra></extra>\", \"legendgroup\": \"frozen potato products\", \"marker\": {\"color\": \"#EF553B\"}, \"name\": \"frozen potato products\", \"offsetgroup\": \"frozen potato products\", \"orientation\": \"v\", \"showlegend\": true, \"textposition\": \"auto\", \"type\": \"bar\", \"x\": [\"frozen potato products\"], \"xaxis\": \"x\", \"y\": [72], \"yaxis\": \"y\"}, {\"alignmentgroup\": \"True\", \"hovertemplate\": \"color=specialty cheese<br>x=%{x}<br>y=%{y}<extra></extra>\", \"legendgroup\": \"specialty cheese\", \"marker\": {\"color\": \"#00cc96\"}, \"name\": \"specialty cheese\", \"offsetgroup\": \"specialty cheese\", \"orientation\": \"v\", \"showlegend\": true, \"textposition\": \"auto\", \"type\": \"bar\", \"x\": [\"specialty cheese\"], \"xaxis\": \"x\", \"y\": [72], \"yaxis\": \"y\"}, {\"alignmentgroup\": \"True\", \"hovertemplate\": \"color=flower (seeds)<br>x=%{x}<br>y=%{y}<extra></extra>\", \"legendgroup\": \"flower (seeds)\", \"marker\": {\"color\": \"#ab63fa\"}, \"name\": \"flower (seeds)\", \"offsetgroup\": \"flower (seeds)\", \"orientation\": \"v\", \"showlegend\": true, \"textposition\": \"auto\", \"type\": \"bar\", \"x\": [\"flower (seeds)\"], \"xaxis\": \"x\", \"y\": [70], \"yaxis\": \"y\"}, {\"alignmentgroup\": \"True\", \"hovertemplate\": \"color=sweet spreads<br>x=%{x}<br>y=%{y}<extra></extra>\", \"legendgroup\": \"sweet spreads\", \"marker\": {\"color\": \"#FFA15A\"}, \"name\": \"sweet spreads\", \"offsetgroup\": \"sweet spreads\", \"orientation\": \"v\", \"showlegend\": true, \"textposition\": \"auto\", \"type\": \"bar\", \"x\": [\"sweet spreads\"], \"xaxis\": \"x\", \"y\": [69], \"yaxis\": \"y\"}, {\"alignmentgroup\": \"True\", \"hovertemplate\": \"color=liquor (appetizer)<br>x=%{x}<br>y=%{y}<extra></extra>\", \"legendgroup\": \"liquor (appetizer)\", \"marker\": {\"color\": \"#19d3f3\"}, \"name\": \"liquor (appetizer)\", \"offsetgroup\": \"liquor (appetizer)\", \"orientation\": \"v\", \"showlegend\": true, \"textposition\": \"auto\", \"type\": \"bar\", \"x\": [\"liquor (appetizer)\"], \"xaxis\": \"x\", \"y\": [67], \"yaxis\": \"y\"}, {\"alignmentgroup\": \"True\", \"hovertemplate\": \"color=dog food<br>x=%{x}<br>y=%{y}<extra></extra>\", \"legendgroup\": \"dog food\", \"marker\": {\"color\": \"#FF6692\"}, \"name\": \"dog food\", \"offsetgroup\": \"dog food\", \"orientation\": \"v\", \"showlegend\": true, \"textposition\": \"auto\", \"type\": \"bar\", \"x\": [\"dog food\"], \"xaxis\": \"x\", \"y\": [67], \"yaxis\": \"y\"}, {\"alignmentgroup\": \"True\", \"hovertemplate\": \"color=candles<br>x=%{x}<br>y=%{y}<extra></extra>\", \"legendgroup\": \"candles\", \"marker\": {\"color\": \"#B6E880\"}, \"name\": \"candles\", \"offsetgroup\": \"candles\", \"orientation\": \"v\", \"showlegend\": true, \"textposition\": \"auto\", \"type\": \"bar\", \"x\": [\"candles\"], \"xaxis\": \"x\", \"y\": [66], \"yaxis\": \"y\"}, {\"alignmentgroup\": \"True\", \"hovertemplate\": \"color=finished products<br>x=%{x}<br>y=%{y}<extra></extra>\", \"legendgroup\": \"finished products\", \"marker\": {\"color\": \"#FF97FF\"}, \"name\": \"finished products\", \"offsetgroup\": \"finished products\", \"orientation\": \"v\", \"showlegend\": true, \"textposition\": \"auto\", \"type\": \"bar\", \"x\": [\"finished products\"], \"xaxis\": \"x\", \"y\": [64], \"yaxis\": \"y\"}, {\"alignmentgroup\": \"True\", \"hovertemplate\": \"color=instant coffee<br>x=%{x}<br>y=%{y}<extra></extra>\", \"legendgroup\": \"instant coffee\", \"marker\": {\"color\": \"#FECB52\"}, \"name\": \"instant coffee\", \"offsetgroup\": \"instant coffee\", \"orientation\": \"v\", \"showlegend\": true, \"textposition\": \"auto\", \"type\": \"bar\", \"x\": [\"instant coffee\"], \"xaxis\": \"x\", \"y\": [61], \"yaxis\": \"y\"}, {\"alignmentgroup\": \"True\", \"hovertemplate\": \"color=zwieback<br>x=%{x}<br>y=%{y}<extra></extra>\", \"legendgroup\": \"zwieback\", \"marker\": {\"color\": \"#636efa\"}, \"name\": \"zwieback\", \"offsetgroup\": \"zwieback\", \"orientation\": \"v\", \"showlegend\": true, \"textposition\": \"auto\", \"type\": \"bar\", \"x\": [\"zwieback\"], \"xaxis\": \"x\", \"y\": [60], \"yaxis\": \"y\"}, {\"alignmentgroup\": \"True\", \"hovertemplate\": \"color=Instant food products<br>x=%{x}<br>y=%{y}<extra></extra>\", \"legendgroup\": \"Instant food products\", \"marker\": {\"color\": \"#EF553B\"}, \"name\": \"Instant food products\", \"offsetgroup\": \"Instant food products\", \"orientation\": \"v\", \"showlegend\": true, \"textposition\": \"auto\", \"type\": \"bar\", \"x\": [\"Instant food products\"], \"xaxis\": \"x\", \"y\": [60], \"yaxis\": \"y\"}, {\"alignmentgroup\": \"True\", \"hovertemplate\": \"color=chocolate marshmallow<br>x=%{x}<br>y=%{y}<extra></extra>\", \"legendgroup\": \"chocolate marshmallow\", \"marker\": {\"color\": \"#00cc96\"}, \"name\": \"chocolate marshmallow\", \"offsetgroup\": \"chocolate marshmallow\", \"orientation\": \"v\", \"showlegend\": true, \"textposition\": \"auto\", \"type\": \"bar\", \"x\": [\"chocolate marshmallow\"], \"xaxis\": \"x\", \"y\": [60], \"yaxis\": \"y\"}, {\"alignmentgroup\": \"True\", \"hovertemplate\": \"color=vinegar<br>x=%{x}<br>y=%{y}<extra></extra>\", \"legendgroup\": \"vinegar\", \"marker\": {\"color\": \"#ab63fa\"}, \"name\": \"vinegar\", \"offsetgroup\": \"vinegar\", \"orientation\": \"v\", \"showlegend\": true, \"textposition\": \"auto\", \"type\": \"bar\", \"x\": [\"vinegar\"], \"xaxis\": \"x\", \"y\": [51], \"yaxis\": \"y\"}, {\"alignmentgroup\": \"True\", \"hovertemplate\": \"color=liver loaf<br>x=%{x}<br>y=%{y}<extra></extra>\", \"legendgroup\": \"liver loaf\", \"marker\": {\"color\": \"#FFA15A\"}, \"name\": \"liver loaf\", \"offsetgroup\": \"liver loaf\", \"orientation\": \"v\", \"showlegend\": true, \"textposition\": \"auto\", \"type\": \"bar\", \"x\": [\"liver loaf\"], \"xaxis\": \"x\", \"y\": [50], \"yaxis\": \"y\"}, {\"alignmentgroup\": \"True\", \"hovertemplate\": \"color=rice<br>x=%{x}<br>y=%{y}<extra></extra>\", \"legendgroup\": \"rice\", \"marker\": {\"color\": \"#19d3f3\"}, \"name\": \"rice\", \"offsetgroup\": \"rice\", \"orientation\": \"v\", \"showlegend\": true, \"textposition\": \"auto\", \"type\": \"bar\", \"x\": [\"rice\"], \"xaxis\": \"x\", \"y\": [49], \"yaxis\": \"y\"}, {\"alignmentgroup\": \"True\", \"hovertemplate\": \"color=popcorn<br>x=%{x}<br>y=%{y}<extra></extra>\", \"legendgroup\": \"popcorn\", \"marker\": {\"color\": \"#FF6692\"}, \"name\": \"popcorn\", \"offsetgroup\": \"popcorn\", \"orientation\": \"v\", \"showlegend\": true, \"textposition\": \"auto\", \"type\": \"bar\", \"x\": [\"popcorn\"], \"xaxis\": \"x\", \"y\": [48], \"yaxis\": \"y\"}, {\"alignmentgroup\": \"True\", \"hovertemplate\": \"color=soups<br>x=%{x}<br>y=%{y}<extra></extra>\", \"legendgroup\": \"soups\", \"marker\": {\"color\": \"#B6E880\"}, \"name\": \"soups\", \"offsetgroup\": \"soups\", \"orientation\": \"v\", \"showlegend\": true, \"textposition\": \"auto\", \"type\": \"bar\", \"x\": [\"soups\"], \"xaxis\": \"x\", \"y\": [48], \"yaxis\": \"y\"}, {\"alignmentgroup\": \"True\", \"hovertemplate\": \"color=sparkling wine<br>x=%{x}<br>y=%{y}<extra></extra>\", \"legendgroup\": \"sparkling wine\", \"marker\": {\"color\": \"#FF97FF\"}, \"name\": \"sparkling wine\", \"offsetgroup\": \"sparkling wine\", \"orientation\": \"v\", \"showlegend\": true, \"textposition\": \"auto\", \"type\": \"bar\", \"x\": [\"sparkling wine\"], \"xaxis\": \"x\", \"y\": [46], \"yaxis\": \"y\"}, {\"alignmentgroup\": \"True\", \"hovertemplate\": \"color=curd cheese<br>x=%{x}<br>y=%{y}<extra></extra>\", \"legendgroup\": \"curd cheese\", \"marker\": {\"color\": \"#FECB52\"}, \"name\": \"curd cheese\", \"offsetgroup\": \"curd cheese\", \"orientation\": \"v\", \"showlegend\": true, \"textposition\": \"auto\", \"type\": \"bar\", \"x\": [\"curd cheese\"], \"xaxis\": \"x\", \"y\": [46], \"yaxis\": \"y\"}, {\"alignmentgroup\": \"True\", \"hovertemplate\": \"color=house keeping products<br>x=%{x}<br>y=%{y}<extra></extra>\", \"legendgroup\": \"house keeping products\", \"marker\": {\"color\": \"#636efa\"}, \"name\": \"house keeping products\", \"offsetgroup\": \"house keeping products\", \"orientation\": \"v\", \"showlegend\": true, \"textposition\": \"auto\", \"type\": \"bar\", \"x\": [\"house keeping products\"], \"xaxis\": \"x\", \"y\": [45], \"yaxis\": \"y\"}, {\"alignmentgroup\": \"True\", \"hovertemplate\": \"color=sauces<br>x=%{x}<br>y=%{y}<extra></extra>\", \"legendgroup\": \"sauces\", \"marker\": {\"color\": \"#EF553B\"}, \"name\": \"sauces\", \"offsetgroup\": \"sauces\", \"orientation\": \"v\", \"showlegend\": true, \"textposition\": \"auto\", \"type\": \"bar\", \"x\": [\"sauces\"], \"xaxis\": \"x\", \"y\": [44], \"yaxis\": \"y\"}, {\"alignmentgroup\": \"True\", \"hovertemplate\": \"color=cereals<br>x=%{x}<br>y=%{y}<extra></extra>\", \"legendgroup\": \"cereals\", \"marker\": {\"color\": \"#00cc96\"}, \"name\": \"cereals\", \"offsetgroup\": \"cereals\", \"orientation\": \"v\", \"showlegend\": true, \"textposition\": \"auto\", \"type\": \"bar\", \"x\": [\"cereals\"], \"xaxis\": \"x\", \"y\": [42], \"yaxis\": \"y\"}, {\"alignmentgroup\": \"True\", \"hovertemplate\": \"color=softener<br>x=%{x}<br>y=%{y}<extra></extra>\", \"legendgroup\": \"softener\", \"marker\": {\"color\": \"#ab63fa\"}, \"name\": \"softener\", \"offsetgroup\": \"softener\", \"orientation\": \"v\", \"showlegend\": true, \"textposition\": \"auto\", \"type\": \"bar\", \"x\": [\"softener\"], \"xaxis\": \"x\", \"y\": [41], \"yaxis\": \"y\"}, {\"alignmentgroup\": \"True\", \"hovertemplate\": \"color=female sanitary products<br>x=%{x}<br>y=%{y}<extra></extra>\", \"legendgroup\": \"female sanitary products\", \"marker\": {\"color\": \"#FFA15A\"}, \"name\": \"female sanitary products\", \"offsetgroup\": \"female sanitary products\", \"orientation\": \"v\", \"showlegend\": true, \"textposition\": \"auto\", \"type\": \"bar\", \"x\": [\"female sanitary products\"], \"xaxis\": \"x\", \"y\": [40], \"yaxis\": \"y\"}, {\"alignmentgroup\": \"True\", \"hovertemplate\": \"color=spices<br>x=%{x}<br>y=%{y}<extra></extra>\", \"legendgroup\": \"spices\", \"marker\": {\"color\": \"#19d3f3\"}, \"name\": \"spices\", \"offsetgroup\": \"spices\", \"orientation\": \"v\", \"showlegend\": true, \"textposition\": \"auto\", \"type\": \"bar\", \"x\": [\"spices\"], \"xaxis\": \"x\", \"y\": [40], \"yaxis\": \"y\"}, {\"alignmentgroup\": \"True\", \"hovertemplate\": \"color=brandy<br>x=%{x}<br>y=%{y}<extra></extra>\", \"legendgroup\": \"brandy\", \"marker\": {\"color\": \"#FF6692\"}, \"name\": \"brandy\", \"offsetgroup\": \"brandy\", \"orientation\": \"v\", \"showlegend\": true, \"textposition\": \"auto\", \"type\": \"bar\", \"x\": [\"brandy\"], \"xaxis\": \"x\", \"y\": [38], \"yaxis\": \"y\"}, {\"alignmentgroup\": \"True\", \"hovertemplate\": \"color=male cosmetics<br>x=%{x}<br>y=%{y}<extra></extra>\", \"legendgroup\": \"male cosmetics\", \"marker\": {\"color\": \"#B6E880\"}, \"name\": \"male cosmetics\", \"offsetgroup\": \"male cosmetics\", \"orientation\": \"v\", \"showlegend\": true, \"textposition\": \"auto\", \"type\": \"bar\", \"x\": [\"male cosmetics\"], \"xaxis\": \"x\", \"y\": [37], \"yaxis\": \"y\"}, {\"alignmentgroup\": \"True\", \"hovertemplate\": \"color=meat spreads<br>x=%{x}<br>y=%{y}<extra></extra>\", \"legendgroup\": \"meat spreads\", \"marker\": {\"color\": \"#FF97FF\"}, \"name\": \"meat spreads\", \"offsetgroup\": \"meat spreads\", \"orientation\": \"v\", \"showlegend\": true, \"textposition\": \"auto\", \"type\": \"bar\", \"x\": [\"meat spreads\"], \"xaxis\": \"x\", \"y\": [35], \"yaxis\": \"y\"}, {\"alignmentgroup\": \"True\", \"hovertemplate\": \"color=jam<br>x=%{x}<br>y=%{y}<extra></extra>\", \"legendgroup\": \"jam\", \"marker\": {\"color\": \"#FECB52\"}, \"name\": \"jam\", \"offsetgroup\": \"jam\", \"orientation\": \"v\", \"showlegend\": true, \"textposition\": \"auto\", \"type\": \"bar\", \"x\": [\"jam\"], \"xaxis\": \"x\", \"y\": [34], \"yaxis\": \"y\"}, {\"alignmentgroup\": \"True\", \"hovertemplate\": \"color=dental care<br>x=%{x}<br>y=%{y}<extra></extra>\", \"legendgroup\": \"dental care\", \"marker\": {\"color\": \"#636efa\"}, \"name\": \"dental care\", \"offsetgroup\": \"dental care\", \"orientation\": \"v\", \"showlegend\": true, \"textposition\": \"auto\", \"type\": \"bar\", \"x\": [\"dental care\"], \"xaxis\": \"x\", \"y\": [33], \"yaxis\": \"y\"}, {\"alignmentgroup\": \"True\", \"hovertemplate\": \"color=nuts/prunes<br>x=%{x}<br>y=%{y}<extra></extra>\", \"legendgroup\": \"nuts/prunes\", \"marker\": {\"color\": \"#EF553B\"}, \"name\": \"nuts/prunes\", \"offsetgroup\": \"nuts/prunes\", \"orientation\": \"v\", \"showlegend\": true, \"textposition\": \"auto\", \"type\": \"bar\", \"x\": [\"nuts/prunes\"], \"xaxis\": \"x\", \"y\": [33], \"yaxis\": \"y\"}, {\"alignmentgroup\": \"True\", \"hovertemplate\": \"color=rum<br>x=%{x}<br>y=%{y}<extra></extra>\", \"legendgroup\": \"rum\", \"marker\": {\"color\": \"#00cc96\"}, \"name\": \"rum\", \"offsetgroup\": \"rum\", \"orientation\": \"v\", \"showlegend\": true, \"textposition\": \"auto\", \"type\": \"bar\", \"x\": [\"rum\"], \"xaxis\": \"x\", \"y\": [32], \"yaxis\": \"y\"}, {\"alignmentgroup\": \"True\", \"hovertemplate\": \"color=ketchup<br>x=%{x}<br>y=%{y}<extra></extra>\", \"legendgroup\": \"ketchup\", \"marker\": {\"color\": \"#ab63fa\"}, \"name\": \"ketchup\", \"offsetgroup\": \"ketchup\", \"orientation\": \"v\", \"showlegend\": true, \"textposition\": \"auto\", \"type\": \"bar\", \"x\": [\"ketchup\"], \"xaxis\": \"x\", \"y\": [32], \"yaxis\": \"y\"}, {\"alignmentgroup\": \"True\", \"hovertemplate\": \"color=cleaner<br>x=%{x}<br>y=%{y}<extra></extra>\", \"legendgroup\": \"cleaner\", \"marker\": {\"color\": \"#FFA15A\"}, \"name\": \"cleaner\", \"offsetgroup\": \"cleaner\", \"orientation\": \"v\", \"showlegend\": true, \"textposition\": \"auto\", \"type\": \"bar\", \"x\": [\"cleaner\"], \"xaxis\": \"x\", \"y\": [31], \"yaxis\": \"y\"}, {\"alignmentgroup\": \"True\", \"hovertemplate\": \"color=kitchen towels<br>x=%{x}<br>y=%{y}<extra></extra>\", \"legendgroup\": \"kitchen towels\", \"marker\": {\"color\": \"#19d3f3\"}, \"name\": \"kitchen towels\", \"offsetgroup\": \"kitchen towels\", \"orientation\": \"v\", \"showlegend\": true, \"textposition\": \"auto\", \"type\": \"bar\", \"x\": [\"kitchen towels\"], \"xaxis\": \"x\", \"y\": [30], \"yaxis\": \"y\"}, {\"alignmentgroup\": \"True\", \"hovertemplate\": \"color=light bulbs<br>x=%{x}<br>y=%{y}<extra></extra>\", \"legendgroup\": \"light bulbs\", \"marker\": {\"color\": \"#FF6692\"}, \"name\": \"light bulbs\", \"offsetgroup\": \"light bulbs\", \"orientation\": \"v\", \"showlegend\": true, \"textposition\": \"auto\", \"type\": \"bar\", \"x\": [\"light bulbs\"], \"xaxis\": \"x\", \"y\": [29], \"yaxis\": \"y\"}, {\"alignmentgroup\": \"True\", \"hovertemplate\": \"color=specialty fat<br>x=%{x}<br>y=%{y}<extra></extra>\", \"legendgroup\": \"specialty fat\", \"marker\": {\"color\": \"#B6E880\"}, \"name\": \"specialty fat\", \"offsetgroup\": \"specialty fat\", \"orientation\": \"v\", \"showlegend\": true, \"textposition\": \"auto\", \"type\": \"bar\", \"x\": [\"specialty fat\"], \"xaxis\": \"x\", \"y\": [29], \"yaxis\": \"y\"}, {\"alignmentgroup\": \"True\", \"hovertemplate\": \"color=artif. sweetener<br>x=%{x}<br>y=%{y}<extra></extra>\", \"legendgroup\": \"artif. sweetener\", \"marker\": {\"color\": \"#FF97FF\"}, \"name\": \"artif. sweetener\", \"offsetgroup\": \"artif. sweetener\", \"orientation\": \"v\", \"showlegend\": true, \"textposition\": \"auto\", \"type\": \"bar\", \"x\": [\"artif. sweetener\"], \"xaxis\": \"x\", \"y\": [29], \"yaxis\": \"y\"}, {\"alignmentgroup\": \"True\", \"hovertemplate\": \"color=fish<br>x=%{x}<br>y=%{y}<extra></extra>\", \"legendgroup\": \"fish\", \"marker\": {\"color\": \"#FECB52\"}, \"name\": \"fish\", \"offsetgroup\": \"fish\", \"orientation\": \"v\", \"showlegend\": true, \"textposition\": \"auto\", \"type\": \"bar\", \"x\": [\"fish\"], \"xaxis\": \"x\", \"y\": [29], \"yaxis\": \"y\"}, {\"alignmentgroup\": \"True\", \"hovertemplate\": \"color=tea<br>x=%{x}<br>y=%{y}<extra></extra>\", \"legendgroup\": \"tea\", \"marker\": {\"color\": \"#636efa\"}, \"name\": \"tea\", \"offsetgroup\": \"tea\", \"orientation\": \"v\", \"showlegend\": true, \"textposition\": \"auto\", \"type\": \"bar\", \"x\": [\"tea\"], \"xaxis\": \"x\", \"y\": [27], \"yaxis\": \"y\"}, {\"alignmentgroup\": \"True\", \"hovertemplate\": \"color=snack products<br>x=%{x}<br>y=%{y}<extra></extra>\", \"legendgroup\": \"snack products\", \"marker\": {\"color\": \"#EF553B\"}, \"name\": \"snack products\", \"offsetgroup\": \"snack products\", \"orientation\": \"v\", \"showlegend\": true, \"textposition\": \"auto\", \"type\": \"bar\", \"x\": [\"snack products\"], \"xaxis\": \"x\", \"y\": [27], \"yaxis\": \"y\"}, {\"alignmentgroup\": \"True\", \"hovertemplate\": \"color=potato products<br>x=%{x}<br>y=%{y}<extra></extra>\", \"legendgroup\": \"potato products\", \"marker\": {\"color\": \"#00cc96\"}, \"name\": \"potato products\", \"offsetgroup\": \"potato products\", \"orientation\": \"v\", \"showlegend\": true, \"textposition\": \"auto\", \"type\": \"bar\", \"x\": [\"potato products\"], \"xaxis\": \"x\", \"y\": [23], \"yaxis\": \"y\"}, {\"alignmentgroup\": \"True\", \"hovertemplate\": \"color=abrasive cleaner<br>x=%{x}<br>y=%{y}<extra></extra>\", \"legendgroup\": \"abrasive cleaner\", \"marker\": {\"color\": \"#ab63fa\"}, \"name\": \"abrasive cleaner\", \"offsetgroup\": \"abrasive cleaner\", \"orientation\": \"v\", \"showlegend\": true, \"textposition\": \"auto\", \"type\": \"bar\", \"x\": [\"abrasive cleaner\"], \"xaxis\": \"x\", \"y\": [22], \"yaxis\": \"y\"}, {\"alignmentgroup\": \"True\", \"hovertemplate\": \"color=organic sausage<br>x=%{x}<br>y=%{y}<extra></extra>\", \"legendgroup\": \"organic sausage\", \"marker\": {\"color\": \"#FFA15A\"}, \"name\": \"organic sausage\", \"offsetgroup\": \"organic sausage\", \"orientation\": \"v\", \"showlegend\": true, \"textposition\": \"auto\", \"type\": \"bar\", \"x\": [\"organic sausage\"], \"xaxis\": \"x\", \"y\": [22], \"yaxis\": \"y\"}, {\"alignmentgroup\": \"True\", \"hovertemplate\": \"color=nut snack<br>x=%{x}<br>y=%{y}<extra></extra>\", \"legendgroup\": \"nut snack\", \"marker\": {\"color\": \"#19d3f3\"}, \"name\": \"nut snack\", \"offsetgroup\": \"nut snack\", \"orientation\": \"v\", \"showlegend\": true, \"textposition\": \"auto\", \"type\": \"bar\", \"x\": [\"nut snack\"], \"xaxis\": \"x\", \"y\": [22], \"yaxis\": \"y\"}, {\"alignmentgroup\": \"True\", \"hovertemplate\": \"color=tidbits<br>x=%{x}<br>y=%{y}<extra></extra>\", \"legendgroup\": \"tidbits\", \"marker\": {\"color\": \"#FF6692\"}, \"name\": \"tidbits\", \"offsetgroup\": \"tidbits\", \"orientation\": \"v\", \"showlegend\": true, \"textposition\": \"auto\", \"type\": \"bar\", \"x\": [\"tidbits\"], \"xaxis\": \"x\", \"y\": [22], \"yaxis\": \"y\"}, {\"alignmentgroup\": \"True\", \"hovertemplate\": \"color=canned fruit<br>x=%{x}<br>y=%{y}<extra></extra>\", \"legendgroup\": \"canned fruit\", \"marker\": {\"color\": \"#B6E880\"}, \"name\": \"canned fruit\", \"offsetgroup\": \"canned fruit\", \"orientation\": \"v\", \"showlegend\": true, \"textposition\": \"auto\", \"type\": \"bar\", \"x\": [\"canned fruit\"], \"xaxis\": \"x\", \"y\": [21], \"yaxis\": \"y\"}, {\"alignmentgroup\": \"True\", \"hovertemplate\": \"color=syrup<br>x=%{x}<br>y=%{y}<extra></extra>\", \"legendgroup\": \"syrup\", \"marker\": {\"color\": \"#FF97FF\"}, \"name\": \"syrup\", \"offsetgroup\": \"syrup\", \"orientation\": \"v\", \"showlegend\": true, \"textposition\": \"auto\", \"type\": \"bar\", \"x\": [\"syrup\"], \"xaxis\": \"x\", \"y\": [21], \"yaxis\": \"y\"}, {\"alignmentgroup\": \"True\", \"hovertemplate\": \"color=soap<br>x=%{x}<br>y=%{y}<extra></extra>\", \"legendgroup\": \"soap\", \"marker\": {\"color\": \"#FECB52\"}, \"name\": \"soap\", \"offsetgroup\": \"soap\", \"orientation\": \"v\", \"showlegend\": true, \"textposition\": \"auto\", \"type\": \"bar\", \"x\": [\"soap\"], \"xaxis\": \"x\", \"y\": [20], \"yaxis\": \"y\"}, {\"alignmentgroup\": \"True\", \"hovertemplate\": \"color=skin care<br>x=%{x}<br>y=%{y}<extra></extra>\", \"legendgroup\": \"skin care\", \"marker\": {\"color\": \"#636efa\"}, \"name\": \"skin care\", \"offsetgroup\": \"skin care\", \"orientation\": \"v\", \"showlegend\": true, \"textposition\": \"auto\", \"type\": \"bar\", \"x\": [\"skin care\"], \"xaxis\": \"x\", \"y\": [20], \"yaxis\": \"y\"}, {\"alignmentgroup\": \"True\", \"hovertemplate\": \"color=prosecco<br>x=%{x}<br>y=%{y}<extra></extra>\", \"legendgroup\": \"prosecco\", \"marker\": {\"color\": \"#EF553B\"}, \"name\": \"prosecco\", \"offsetgroup\": \"prosecco\", \"orientation\": \"v\", \"showlegend\": true, \"textposition\": \"auto\", \"type\": \"bar\", \"x\": [\"prosecco\"], \"xaxis\": \"x\", \"y\": [19], \"yaxis\": \"y\"}, {\"alignmentgroup\": \"True\", \"hovertemplate\": \"color=cookware<br>x=%{x}<br>y=%{y}<extra></extra>\", \"legendgroup\": \"cookware\", \"marker\": {\"color\": \"#00cc96\"}, \"name\": \"cookware\", \"offsetgroup\": \"cookware\", \"orientation\": \"v\", \"showlegend\": true, \"textposition\": \"auto\", \"type\": \"bar\", \"x\": [\"cookware\"], \"xaxis\": \"x\", \"y\": [17], \"yaxis\": \"y\"}, {\"alignmentgroup\": \"True\", \"hovertemplate\": \"color=bathroom cleaner<br>x=%{x}<br>y=%{y}<extra></extra>\", \"legendgroup\": \"bathroom cleaner\", \"marker\": {\"color\": \"#ab63fa\"}, \"name\": \"bathroom cleaner\", \"offsetgroup\": \"bathroom cleaner\", \"orientation\": \"v\", \"showlegend\": true, \"textposition\": \"auto\", \"type\": \"bar\", \"x\": [\"bathroom cleaner\"], \"xaxis\": \"x\", \"y\": [17], \"yaxis\": \"y\"}, {\"alignmentgroup\": \"True\", \"hovertemplate\": \"color=pudding powder<br>x=%{x}<br>y=%{y}<extra></extra>\", \"legendgroup\": \"pudding powder\", \"marker\": {\"color\": \"#FFA15A\"}, \"name\": \"pudding powder\", \"offsetgroup\": \"pudding powder\", \"orientation\": \"v\", \"showlegend\": true, \"textposition\": \"auto\", \"type\": \"bar\", \"x\": [\"pudding powder\"], \"xaxis\": \"x\", \"y\": [17], \"yaxis\": \"y\"}, {\"alignmentgroup\": \"True\", \"hovertemplate\": \"color=cocoa drinks<br>x=%{x}<br>y=%{y}<extra></extra>\", \"legendgroup\": \"cocoa drinks\", \"marker\": {\"color\": \"#19d3f3\"}, \"name\": \"cocoa drinks\", \"offsetgroup\": \"cocoa drinks\", \"orientation\": \"v\", \"showlegend\": true, \"textposition\": \"auto\", \"type\": \"bar\", \"x\": [\"cocoa drinks\"], \"xaxis\": \"x\", \"y\": [16], \"yaxis\": \"y\"}, {\"alignmentgroup\": \"True\", \"hovertemplate\": \"color=flower soil/fertilizer<br>x=%{x}<br>y=%{y}<extra></extra>\", \"legendgroup\": \"flower soil/fertilizer\", \"marker\": {\"color\": \"#FF6692\"}, \"name\": \"flower soil/fertilizer\", \"offsetgroup\": \"flower soil/fertilizer\", \"orientation\": \"v\", \"showlegend\": true, \"textposition\": \"auto\", \"type\": \"bar\", \"x\": [\"flower soil/fertilizer\"], \"xaxis\": \"x\", \"y\": [16], \"yaxis\": \"y\"}, {\"alignmentgroup\": \"True\", \"hovertemplate\": \"color=ready soups<br>x=%{x}<br>y=%{y}<extra></extra>\", \"legendgroup\": \"ready soups\", \"marker\": {\"color\": \"#B6E880\"}, \"name\": \"ready soups\", \"offsetgroup\": \"ready soups\", \"orientation\": \"v\", \"showlegend\": true, \"textposition\": \"auto\", \"type\": \"bar\", \"x\": [\"ready soups\"], \"xaxis\": \"x\", \"y\": [15], \"yaxis\": \"y\"}, {\"alignmentgroup\": \"True\", \"hovertemplate\": \"color=cooking chocolate<br>x=%{x}<br>y=%{y}<extra></extra>\", \"legendgroup\": \"cooking chocolate\", \"marker\": {\"color\": \"#FF97FF\"}, \"name\": \"cooking chocolate\", \"offsetgroup\": \"cooking chocolate\", \"orientation\": \"v\", \"showlegend\": true, \"textposition\": \"auto\", \"type\": \"bar\", \"x\": [\"cooking chocolate\"], \"xaxis\": \"x\", \"y\": [15], \"yaxis\": \"y\"}, {\"alignmentgroup\": \"True\", \"hovertemplate\": \"color=honey<br>x=%{x}<br>y=%{y}<extra></extra>\", \"legendgroup\": \"honey\", \"marker\": {\"color\": \"#FECB52\"}, \"name\": \"honey\", \"offsetgroup\": \"honey\", \"orientation\": \"v\", \"showlegend\": true, \"textposition\": \"auto\", \"type\": \"bar\", \"x\": [\"honey\"], \"xaxis\": \"x\", \"y\": [13], \"yaxis\": \"y\"}, {\"alignmentgroup\": \"True\", \"hovertemplate\": \"color=cream<br>x=%{x}<br>y=%{y}<extra></extra>\", \"legendgroup\": \"cream\", \"marker\": {\"color\": \"#636efa\"}, \"name\": \"cream\", \"offsetgroup\": \"cream\", \"orientation\": \"v\", \"showlegend\": true, \"textposition\": \"auto\", \"type\": \"bar\", \"x\": [\"cream\"], \"xaxis\": \"x\", \"y\": [12], \"yaxis\": \"y\"}, {\"alignmentgroup\": \"True\", \"hovertemplate\": \"color=frozen fruits<br>x=%{x}<br>y=%{y}<extra></extra>\", \"legendgroup\": \"frozen fruits\", \"marker\": {\"color\": \"#EF553B\"}, \"name\": \"frozen fruits\", \"offsetgroup\": \"frozen fruits\", \"orientation\": \"v\", \"showlegend\": true, \"textposition\": \"auto\", \"type\": \"bar\", \"x\": [\"frozen fruits\"], \"xaxis\": \"x\", \"y\": [11], \"yaxis\": \"y\"}, {\"alignmentgroup\": \"True\", \"hovertemplate\": \"color=specialty vegetables<br>x=%{x}<br>y=%{y}<extra></extra>\", \"legendgroup\": \"specialty vegetables\", \"marker\": {\"color\": \"#00cc96\"}, \"name\": \"specialty vegetables\", \"offsetgroup\": \"specialty vegetables\", \"orientation\": \"v\", \"showlegend\": true, \"textposition\": \"auto\", \"type\": \"bar\", \"x\": [\"specialty vegetables\"], \"xaxis\": \"x\", \"y\": [11], \"yaxis\": \"y\"}, {\"alignmentgroup\": \"True\", \"hovertemplate\": \"color=organic products<br>x=%{x}<br>y=%{y}<extra></extra>\", \"legendgroup\": \"organic products\", \"marker\": {\"color\": \"#ab63fa\"}, \"name\": \"organic products\", \"offsetgroup\": \"organic products\", \"orientation\": \"v\", \"showlegend\": true, \"textposition\": \"auto\", \"type\": \"bar\", \"x\": [\"organic products\"], \"xaxis\": \"x\", \"y\": [10], \"yaxis\": \"y\"}, {\"alignmentgroup\": \"True\", \"hovertemplate\": \"color=decalcifier<br>x=%{x}<br>y=%{y}<extra></extra>\", \"legendgroup\": \"decalcifier\", \"marker\": {\"color\": \"#FFA15A\"}, \"name\": \"decalcifier\", \"offsetgroup\": \"decalcifier\", \"orientation\": \"v\", \"showlegend\": true, \"textposition\": \"auto\", \"type\": \"bar\", \"x\": [\"decalcifier\"], \"xaxis\": \"x\", \"y\": [9], \"yaxis\": \"y\"}, {\"alignmentgroup\": \"True\", \"hovertemplate\": \"color=hair spray<br>x=%{x}<br>y=%{y}<extra></extra>\", \"legendgroup\": \"hair spray\", \"marker\": {\"color\": \"#19d3f3\"}, \"name\": \"hair spray\", \"offsetgroup\": \"hair spray\", \"orientation\": \"v\", \"showlegend\": true, \"textposition\": \"auto\", \"type\": \"bar\", \"x\": [\"hair spray\"], \"xaxis\": \"x\", \"y\": [9], \"yaxis\": \"y\"}, {\"alignmentgroup\": \"True\", \"hovertemplate\": \"color=liqueur<br>x=%{x}<br>y=%{y}<extra></extra>\", \"legendgroup\": \"liqueur\", \"marker\": {\"color\": \"#FF6692\"}, \"name\": \"liqueur\", \"offsetgroup\": \"liqueur\", \"orientation\": \"v\", \"showlegend\": true, \"textposition\": \"auto\", \"type\": \"bar\", \"x\": [\"liqueur\"], \"xaxis\": \"x\", \"y\": [9], \"yaxis\": \"y\"}, {\"alignmentgroup\": \"True\", \"hovertemplate\": \"color=whisky<br>x=%{x}<br>y=%{y}<extra></extra>\", \"legendgroup\": \"whisky\", \"marker\": {\"color\": \"#B6E880\"}, \"name\": \"whisky\", \"offsetgroup\": \"whisky\", \"orientation\": \"v\", \"showlegend\": true, \"textposition\": \"auto\", \"type\": \"bar\", \"x\": [\"whisky\"], \"xaxis\": \"x\", \"y\": [8], \"yaxis\": \"y\"}, {\"alignmentgroup\": \"True\", \"hovertemplate\": \"color=salad dressing<br>x=%{x}<br>y=%{y}<extra></extra>\", \"legendgroup\": \"salad dressing\", \"marker\": {\"color\": \"#FF97FF\"}, \"name\": \"salad dressing\", \"offsetgroup\": \"salad dressing\", \"orientation\": \"v\", \"showlegend\": true, \"textposition\": \"auto\", \"type\": \"bar\", \"x\": [\"salad dressing\"], \"xaxis\": \"x\", \"y\": [6], \"yaxis\": \"y\"}, {\"alignmentgroup\": \"True\", \"hovertemplate\": \"color=rubbing alcohol<br>x=%{x}<br>y=%{y}<extra></extra>\", \"legendgroup\": \"rubbing alcohol\", \"marker\": {\"color\": \"#FECB52\"}, \"name\": \"rubbing alcohol\", \"offsetgroup\": \"rubbing alcohol\", \"orientation\": \"v\", \"showlegend\": true, \"textposition\": \"auto\", \"type\": \"bar\", \"x\": [\"rubbing alcohol\"], \"xaxis\": \"x\", \"y\": [5], \"yaxis\": \"y\"}, {\"alignmentgroup\": \"True\", \"hovertemplate\": \"color=toilet cleaner<br>x=%{x}<br>y=%{y}<extra></extra>\", \"legendgroup\": \"toilet cleaner\", \"marker\": {\"color\": \"#636efa\"}, \"name\": \"toilet cleaner\", \"offsetgroup\": \"toilet cleaner\", \"orientation\": \"v\", \"showlegend\": true, \"textposition\": \"auto\", \"type\": \"bar\", \"x\": [\"toilet cleaner\"], \"xaxis\": \"x\", \"y\": [5], \"yaxis\": \"y\"}, {\"alignmentgroup\": \"True\", \"hovertemplate\": \"color=frozen chicken<br>x=%{x}<br>y=%{y}<extra></extra>\", \"legendgroup\": \"frozen chicken\", \"marker\": {\"color\": \"#EF553B\"}, \"name\": \"frozen chicken\", \"offsetgroup\": \"frozen chicken\", \"orientation\": \"v\", \"showlegend\": true, \"textposition\": \"auto\", \"type\": \"bar\", \"x\": [\"frozen chicken\"], \"xaxis\": \"x\", \"y\": [5], \"yaxis\": \"y\"}, {\"alignmentgroup\": \"True\", \"hovertemplate\": \"color=make up remover<br>x=%{x}<br>y=%{y}<extra></extra>\", \"legendgroup\": \"make up remover\", \"marker\": {\"color\": \"#00cc96\"}, \"name\": \"make up remover\", \"offsetgroup\": \"make up remover\", \"orientation\": \"v\", \"showlegend\": true, \"textposition\": \"auto\", \"type\": \"bar\", \"x\": [\"make up remover\"], \"xaxis\": \"x\", \"y\": [5], \"yaxis\": \"y\"}, {\"alignmentgroup\": \"True\", \"hovertemplate\": \"color=bags<br>x=%{x}<br>y=%{y}<extra></extra>\", \"legendgroup\": \"bags\", \"marker\": {\"color\": \"#ab63fa\"}, \"name\": \"bags\", \"offsetgroup\": \"bags\", \"orientation\": \"v\", \"showlegend\": true, \"textposition\": \"auto\", \"type\": \"bar\", \"x\": [\"bags\"], \"xaxis\": \"x\", \"y\": [4], \"yaxis\": \"y\"}, {\"alignmentgroup\": \"True\", \"hovertemplate\": \"color=baby cosmetics<br>x=%{x}<br>y=%{y}<extra></extra>\", \"legendgroup\": \"baby cosmetics\", \"marker\": {\"color\": \"#FFA15A\"}, \"name\": \"baby cosmetics\", \"offsetgroup\": \"baby cosmetics\", \"orientation\": \"v\", \"showlegend\": true, \"textposition\": \"auto\", \"type\": \"bar\", \"x\": [\"baby cosmetics\"], \"xaxis\": \"x\", \"y\": [3], \"yaxis\": \"y\"}, {\"alignmentgroup\": \"True\", \"hovertemplate\": \"color=kitchen utensil<br>x=%{x}<br>y=%{y}<extra></extra>\", \"legendgroup\": \"kitchen utensil\", \"marker\": {\"color\": \"#19d3f3\"}, \"name\": \"kitchen utensil\", \"offsetgroup\": \"kitchen utensil\", \"orientation\": \"v\", \"showlegend\": true, \"textposition\": \"auto\", \"type\": \"bar\", \"x\": [\"kitchen utensil\"], \"xaxis\": \"x\", \"y\": [1], \"yaxis\": \"y\"}, {\"alignmentgroup\": \"True\", \"hovertemplate\": \"color=preservation products<br>x=%{x}<br>y=%{y}<extra></extra>\", \"legendgroup\": \"preservation products\", \"marker\": {\"color\": \"#FF6692\"}, \"name\": \"preservation products\", \"offsetgroup\": \"preservation products\", \"orientation\": \"v\", \"showlegend\": true, \"textposition\": \"auto\", \"type\": \"bar\", \"x\": [\"preservation products\"], \"xaxis\": \"x\", \"y\": [1], \"yaxis\": \"y\"}],                        {\"barmode\": \"relative\", \"font\": {\"color\": \"black\", \"family\": \"Courier New\"}, \"legend\": {\"title\": {\"font\": {\"color\": \"green\"}, \"text\": \"itemDescription\"}, \"tracegroupgap\": 0}, \"margin\": {\"t\": 60}, \"template\": {\"data\": {\"bar\": [{\"error_x\": {\"color\": \"#2a3f5f\"}, \"error_y\": {\"color\": \"#2a3f5f\"}, \"marker\": {\"line\": {\"color\": \"#E5ECF6\", \"width\": 0.5}}, \"type\": \"bar\"}], \"barpolar\": [{\"marker\": {\"line\": {\"color\": \"#E5ECF6\", \"width\": 0.5}}, \"type\": \"barpolar\"}], \"carpet\": [{\"aaxis\": {\"endlinecolor\": \"#2a3f5f\", \"gridcolor\": \"white\", \"linecolor\": \"white\", \"minorgridcolor\": \"white\", \"startlinecolor\": \"#2a3f5f\"}, \"baxis\": {\"endlinecolor\": \"#2a3f5f\", \"gridcolor\": \"white\", \"linecolor\": \"white\", \"minorgridcolor\": \"white\", \"startlinecolor\": \"#2a3f5f\"}, \"type\": \"carpet\"}], \"choropleth\": [{\"colorbar\": {\"outlinewidth\": 0, \"ticks\": \"\"}, \"type\": \"choropleth\"}], \"contour\": [{\"colorbar\": {\"outlinewidth\": 0, \"ticks\": \"\"}, \"colorscale\": [[0.0, \"#0d0887\"], [0.1111111111111111, \"#46039f\"], [0.2222222222222222, \"#7201a8\"], [0.3333333333333333, \"#9c179e\"], [0.4444444444444444, \"#bd3786\"], [0.5555555555555556, \"#d8576b\"], [0.6666666666666666, \"#ed7953\"], [0.7777777777777778, \"#fb9f3a\"], [0.8888888888888888, \"#fdca26\"], [1.0, \"#f0f921\"]], \"type\": \"contour\"}], \"contourcarpet\": [{\"colorbar\": {\"outlinewidth\": 0, \"ticks\": \"\"}, \"type\": \"contourcarpet\"}], \"heatmap\": [{\"colorbar\": {\"outlinewidth\": 0, \"ticks\": \"\"}, \"colorscale\": [[0.0, \"#0d0887\"], [0.1111111111111111, \"#46039f\"], [0.2222222222222222, \"#7201a8\"], [0.3333333333333333, \"#9c179e\"], [0.4444444444444444, \"#bd3786\"], [0.5555555555555556, \"#d8576b\"], [0.6666666666666666, \"#ed7953\"], [0.7777777777777778, \"#fb9f3a\"], [0.8888888888888888, \"#fdca26\"], [1.0, \"#f0f921\"]], \"type\": \"heatmap\"}], \"heatmapgl\": [{\"colorbar\": {\"outlinewidth\": 0, \"ticks\": \"\"}, \"colorscale\": [[0.0, \"#0d0887\"], [0.1111111111111111, \"#46039f\"], [0.2222222222222222, \"#7201a8\"], [0.3333333333333333, \"#9c179e\"], [0.4444444444444444, \"#bd3786\"], [0.5555555555555556, \"#d8576b\"], [0.6666666666666666, \"#ed7953\"], [0.7777777777777778, \"#fb9f3a\"], [0.8888888888888888, \"#fdca26\"], [1.0, \"#f0f921\"]], \"type\": \"heatmapgl\"}], \"histogram\": [{\"marker\": {\"colorbar\": {\"outlinewidth\": 0, \"ticks\": \"\"}}, \"type\": \"histogram\"}], \"histogram2d\": [{\"colorbar\": {\"outlinewidth\": 0, \"ticks\": \"\"}, \"colorscale\": [[0.0, \"#0d0887\"], [0.1111111111111111, \"#46039f\"], [0.2222222222222222, \"#7201a8\"], [0.3333333333333333, \"#9c179e\"], [0.4444444444444444, \"#bd3786\"], [0.5555555555555556, \"#d8576b\"], [0.6666666666666666, \"#ed7953\"], [0.7777777777777778, \"#fb9f3a\"], [0.8888888888888888, \"#fdca26\"], [1.0, \"#f0f921\"]], \"type\": \"histogram2d\"}], \"histogram2dcontour\": [{\"colorbar\": {\"outlinewidth\": 0, \"ticks\": \"\"}, \"colorscale\": [[0.0, \"#0d0887\"], [0.1111111111111111, \"#46039f\"], [0.2222222222222222, \"#7201a8\"], [0.3333333333333333, \"#9c179e\"], [0.4444444444444444, \"#bd3786\"], [0.5555555555555556, \"#d8576b\"], [0.6666666666666666, \"#ed7953\"], [0.7777777777777778, \"#fb9f3a\"], [0.8888888888888888, \"#fdca26\"], [1.0, \"#f0f921\"]], \"type\": \"histogram2dcontour\"}], \"mesh3d\": [{\"colorbar\": {\"outlinewidth\": 0, \"ticks\": \"\"}, \"type\": \"mesh3d\"}], \"parcoords\": [{\"line\": {\"colorbar\": {\"outlinewidth\": 0, \"ticks\": \"\"}}, \"type\": \"parcoords\"}], \"pie\": [{\"automargin\": true, \"type\": \"pie\"}], \"scatter\": [{\"marker\": {\"colorbar\": {\"outlinewidth\": 0, \"ticks\": \"\"}}, \"type\": \"scatter\"}], \"scatter3d\": [{\"line\": {\"colorbar\": {\"outlinewidth\": 0, \"ticks\": \"\"}}, \"marker\": {\"colorbar\": {\"outlinewidth\": 0, \"ticks\": \"\"}}, \"type\": \"scatter3d\"}], \"scattercarpet\": [{\"marker\": {\"colorbar\": {\"outlinewidth\": 0, \"ticks\": \"\"}}, \"type\": \"scattercarpet\"}], \"scattergeo\": [{\"marker\": {\"colorbar\": {\"outlinewidth\": 0, \"ticks\": \"\"}}, \"type\": \"scattergeo\"}], \"scattergl\": [{\"marker\": {\"colorbar\": {\"outlinewidth\": 0, \"ticks\": \"\"}}, \"type\": \"scattergl\"}], \"scattermapbox\": [{\"marker\": {\"colorbar\": {\"outlinewidth\": 0, \"ticks\": \"\"}}, \"type\": \"scattermapbox\"}], \"scatterpolar\": [{\"marker\": {\"colorbar\": {\"outlinewidth\": 0, \"ticks\": \"\"}}, \"type\": \"scatterpolar\"}], \"scatterpolargl\": [{\"marker\": {\"colorbar\": {\"outlinewidth\": 0, \"ticks\": \"\"}}, \"type\": \"scatterpolargl\"}], \"scatterternary\": [{\"marker\": {\"colorbar\": {\"outlinewidth\": 0, \"ticks\": \"\"}}, \"type\": \"scatterternary\"}], \"surface\": [{\"colorbar\": {\"outlinewidth\": 0, \"ticks\": \"\"}, \"colorscale\": [[0.0, \"#0d0887\"], [0.1111111111111111, \"#46039f\"], [0.2222222222222222, \"#7201a8\"], [0.3333333333333333, \"#9c179e\"], [0.4444444444444444, \"#bd3786\"], [0.5555555555555556, \"#d8576b\"], [0.6666666666666666, \"#ed7953\"], [0.7777777777777778, \"#fb9f3a\"], [0.8888888888888888, \"#fdca26\"], [1.0, \"#f0f921\"]], \"type\": \"surface\"}], \"table\": [{\"cells\": {\"fill\": {\"color\": \"#EBF0F8\"}, \"line\": {\"color\": \"white\"}}, \"header\": {\"fill\": {\"color\": \"#C8D4E3\"}, \"line\": {\"color\": \"white\"}}, \"type\": \"table\"}]}, \"layout\": {\"annotationdefaults\": {\"arrowcolor\": \"#2a3f5f\", \"arrowhead\": 0, \"arrowwidth\": 1}, \"autotypenumbers\": \"strict\", \"coloraxis\": {\"colorbar\": {\"outlinewidth\": 0, \"ticks\": \"\"}}, \"colorscale\": {\"diverging\": [[0, \"#8e0152\"], [0.1, \"#c51b7d\"], [0.2, \"#de77ae\"], [0.3, \"#f1b6da\"], [0.4, \"#fde0ef\"], [0.5, \"#f7f7f7\"], [0.6, \"#e6f5d0\"], [0.7, \"#b8e186\"], [0.8, \"#7fbc41\"], [0.9, \"#4d9221\"], [1, \"#276419\"]], \"sequential\": [[0.0, \"#0d0887\"], [0.1111111111111111, \"#46039f\"], [0.2222222222222222, \"#7201a8\"], [0.3333333333333333, \"#9c179e\"], [0.4444444444444444, \"#bd3786\"], [0.5555555555555556, \"#d8576b\"], [0.6666666666666666, \"#ed7953\"], [0.7777777777777778, \"#fb9f3a\"], [0.8888888888888888, \"#fdca26\"], [1.0, \"#f0f921\"]], \"sequentialminus\": [[0.0, \"#0d0887\"], [0.1111111111111111, \"#46039f\"], [0.2222222222222222, \"#7201a8\"], [0.3333333333333333, \"#9c179e\"], [0.4444444444444444, \"#bd3786\"], [0.5555555555555556, \"#d8576b\"], [0.6666666666666666, \"#ed7953\"], [0.7777777777777778, \"#fb9f3a\"], [0.8888888888888888, \"#fdca26\"], [1.0, \"#f0f921\"]]}, \"colorway\": [\"#636efa\", \"#EF553B\", \"#00cc96\", \"#ab63fa\", \"#FFA15A\", \"#19d3f3\", \"#FF6692\", \"#B6E880\", \"#FF97FF\", \"#FECB52\"], \"font\": {\"color\": \"#2a3f5f\"}, \"geo\": {\"bgcolor\": \"white\", \"lakecolor\": \"white\", \"landcolor\": \"#E5ECF6\", \"showlakes\": true, \"showland\": true, \"subunitcolor\": \"white\"}, \"hoverlabel\": {\"align\": \"left\"}, \"hovermode\": \"closest\", \"mapbox\": {\"style\": \"light\"}, \"paper_bgcolor\": \"white\", \"plot_bgcolor\": \"#E5ECF6\", \"polar\": {\"angularaxis\": {\"gridcolor\": \"white\", \"linecolor\": \"white\", \"ticks\": \"\"}, \"bgcolor\": \"#E5ECF6\", \"radialaxis\": {\"gridcolor\": \"white\", \"linecolor\": \"white\", \"ticks\": \"\"}}, \"scene\": {\"xaxis\": {\"backgroundcolor\": \"#E5ECF6\", \"gridcolor\": \"white\", \"gridwidth\": 2, \"linecolor\": \"white\", \"showbackground\": true, \"ticks\": \"\", \"zerolinecolor\": \"white\"}, \"yaxis\": {\"backgroundcolor\": \"#E5ECF6\", \"gridcolor\": \"white\", \"gridwidth\": 2, \"linecolor\": \"white\", \"showbackground\": true, \"ticks\": \"\", \"zerolinecolor\": \"white\"}, \"zaxis\": {\"backgroundcolor\": \"#E5ECF6\", \"gridcolor\": \"white\", \"gridwidth\": 2, \"linecolor\": \"white\", \"showbackground\": true, \"ticks\": \"\", \"zerolinecolor\": \"white\"}}, \"shapedefaults\": {\"line\": {\"color\": \"#2a3f5f\"}}, \"ternary\": {\"aaxis\": {\"gridcolor\": \"white\", \"linecolor\": \"white\", \"ticks\": \"\"}, \"baxis\": {\"gridcolor\": \"white\", \"linecolor\": \"white\", \"ticks\": \"\"}, \"bgcolor\": \"#E5ECF6\", \"caxis\": {\"gridcolor\": \"white\", \"linecolor\": \"white\", \"ticks\": \"\"}}, \"title\": {\"x\": 0.05}, \"xaxis\": {\"automargin\": true, \"gridcolor\": \"white\", \"linecolor\": \"white\", \"ticks\": \"\", \"title\": {\"standoff\": 15}, \"zerolinecolor\": \"white\", \"zerolinewidth\": 2}, \"yaxis\": {\"automargin\": true, \"gridcolor\": \"white\", \"linecolor\": \"white\", \"ticks\": \"\", \"title\": {\"standoff\": 15}, \"zerolinecolor\": \"white\", \"zerolinewidth\": 2}}}, \"title\": {\"font\": {\"color\": \"red\", \"family\": \"Times New Roman\"}}, \"xaxis\": {\"anchor\": \"y\", \"domain\": [0.0, 1.0], \"title\": {\"text\": \"itemDescription\"}}, \"yaxis\": {\"anchor\": \"x\", \"domain\": [0.0, 1.0], \"title\": {\"text\": \"Count\"}}},                        {\"responsive\": true}                    ).then(function(){\n                            \nvar gd = document.getElementById('902505fc-7e8c-45c3-b8df-7b7698603c04');\nvar x = new MutationObserver(function (mutations, observer) {{\n        var display = window.getComputedStyle(gd).display;\n        if (!display || display === 'none') {{\n            console.log([gd, 'removed!']);\n            Plotly.purge(gd);\n            observer.disconnect();\n        }}\n}});\n\n// Listen for the removal of the full notebook cells\nvar notebookContainer = gd.closest('#notebook-container');\nif (notebookContainer) {{\n    x.observe(notebookContainer, {childList: true});\n}}\n\n// Listen for the clearing of the current output cell\nvar outputEl = gd.closest('.output');\nif (outputEl) {{\n    x.observe(outputEl, {childList: true});\n}}\n\n                        })                };                });            </script>        </div>"
     },
     "metadata": {},
     "output_type": "display_data"
    }
   ],
   "source": [
    "import plotly.express as px\n",
    "\n",
    "fig = px.bar(data,\n",
    "             x=data['itemDescription'].value_counts().keys(),\n",
    "             y=data['itemDescription'].value_counts().values,\n",
    "             color=data['itemDescription'].value_counts().keys()\n",
    "             )\n",
    "fig.update_layout(xaxis_title='itemDescription',\n",
    "                  yaxis_title='Count',\n",
    "                  legend_title='itemDescription',\n",
    "                  font_family=\"Courier New\",\n",
    "                  font_color=\"black\",\n",
    "                  title_font_family=\"Times New Roman\",\n",
    "                  title_font_color=\"red\",\n",
    "                  legend_title_font_color=\"green\"\n",
    "                  )\n",
    "\n",
    "fig.show()"
   ],
   "metadata": {
    "collapsed": false,
    "pycharm": {
     "name": "#%%\n"
    }
   }
  },
  {
   "cell_type": "code",
   "execution_count": 49,
   "outputs": [
    {
     "data": {
      "text/plain": "[['sausage', 'whole milk', 'semi-finished bread', 'yogurt'],\n ['whole milk', 'pastry', 'salty snack'],\n ['canned beer', 'misc. beverages'],\n ['sausage', 'hygiene articles'],\n ['soda', 'pickled vegetables'],\n ['frankfurter', 'curd'],\n ['sausage', 'whole milk', 'rolls/buns'],\n ['whole milk', 'soda'],\n ['beef', 'white bread'],\n ['frankfurter', 'soda', 'whipped/sour cream'],\n ['frozen vegetables', 'other vegetables'],\n ['butter', 'whole milk'],\n ['tropical fruit', 'sugar'],\n ['butter milk', 'specialty chocolate'],\n ['sausage', 'rolls/buns'],\n ['root vegetables', 'detergent'],\n ['frozen meals', 'dental care'],\n ['rolls/buns', 'rolls/buns'],\n ['dish cleaner', 'cling film/bags'],\n ['canned beer', 'frozen fish'],\n ['other vegetables', 'hygiene articles'],\n ['pip fruit', 'whole milk', 'tropical fruit'],\n ['rolls/buns', 'red/blush wine', 'chocolate'],\n ['other vegetables', 'shopping bags'],\n ['whole milk', 'chocolate', 'packaged fruit/vegetables', 'rolls/buns']]"
     },
     "execution_count": 49,
     "metadata": {},
     "output_type": "execute_result"
    }
   ],
   "source": [
    "transactions = [a[1]['itemDescription'].tolist() for a in list(data.groupby(['Member_number', 'Date']))]\n",
    "\n",
    "transactions[:25]"
   ],
   "metadata": {
    "collapsed": false,
    "pycharm": {
     "name": "#%%\n"
    }
   }
  },
  {
   "cell_type": "code",
   "execution_count": 50,
   "outputs": [
    {
     "data": {
      "text/plain": "['canned beer', 'rolls/buns', 'softener']"
     },
     "execution_count": 50,
     "metadata": {},
     "output_type": "execute_result"
    }
   ],
   "source": [
    "import random\n",
    "\n",
    "# theOneKey = random.randint(0, len(transactions))\n",
    "theOneKey = 2233\n",
    "\n",
    "transactions[theOneKey]"
   ],
   "metadata": {
    "collapsed": false,
    "pycharm": {
     "name": "#%%\n"
    }
   }
  },
  {
   "cell_type": "code",
   "execution_count": 51,
   "outputs": [],
   "source": [
    "from mlxtend.preprocessing import TransactionEncoder\n",
    "\n",
    "te = TransactionEncoder()\n",
    "te_ary = te.fit(transactions).transform(transactions)"
   ],
   "metadata": {
    "collapsed": false,
    "pycharm": {
     "name": "#%%\n"
    }
   }
  },
  {
   "cell_type": "code",
   "execution_count": 52,
   "outputs": [
    {
     "data": {
      "text/plain": "['Instant food products',\n 'UHT-milk',\n 'abrasive cleaner',\n 'artif. sweetener',\n 'baby cosmetics',\n 'bags',\n 'baking powder',\n 'bathroom cleaner',\n 'beef',\n 'berries',\n 'beverages',\n 'bottled beer',\n 'bottled water',\n 'brandy',\n 'brown bread',\n 'butter',\n 'butter milk',\n 'cake bar',\n 'candles',\n 'candy',\n 'canned beer',\n 'canned fish',\n 'canned fruit',\n 'canned vegetables',\n 'cat food']"
     },
     "execution_count": 52,
     "metadata": {},
     "output_type": "execute_result"
    }
   ],
   "source": [
    "te.columns_[:25]"
   ],
   "metadata": {
    "collapsed": false,
    "pycharm": {
     "name": "#%%\n"
    }
   }
  },
  {
   "cell_type": "code",
   "execution_count": 53,
   "outputs": [
    {
     "data": {
      "text/plain": "array([[False, False, False, ...,  True,  True, False],\n       [False, False, False, ...,  True, False, False],\n       [False, False, False, ..., False, False, False],\n       ...,\n       [False, False, False, ..., False, False, False],\n       [False, False, False, ..., False, False, False],\n       [False, False, False, ..., False, False, False]])"
     },
     "execution_count": 53,
     "metadata": {},
     "output_type": "execute_result"
    }
   ],
   "source": [
    "te_ary"
   ],
   "metadata": {
    "collapsed": false,
    "pycharm": {
     "name": "#%%\n"
    }
   }
  },
  {
   "cell_type": "code",
   "execution_count": 54,
   "outputs": [
    {
     "data": {
      "text/plain": "       Instant food products  UHT-milk  abrasive cleaner  artif. sweetener  \\\n0                      False     False             False             False   \n1                      False     False             False             False   \n2                      False     False             False             False   \n3                      False     False             False             False   \n4                      False     False             False             False   \n...                      ...       ...               ...               ...   \n14958                  False     False             False             False   \n14959                  False     False             False             False   \n14960                  False     False             False             False   \n14961                  False     False             False             False   \n14962                  False     False             False             False   \n\n       baby cosmetics   bags  baking powder  bathroom cleaner   beef  berries  \\\n0               False  False          False             False  False    False   \n1               False  False          False             False  False    False   \n2               False  False          False             False  False    False   \n3               False  False          False             False  False    False   \n4               False  False          False             False  False    False   \n...               ...    ...            ...               ...    ...      ...   \n14958           False  False          False             False  False     True   \n14959           False  False          False             False  False    False   \n14960           False  False          False             False  False    False   \n14961           False  False          False             False  False    False   \n14962           False  False          False             False  False    False   \n\n       ...  turkey  vinegar  waffles  whipped/sour cream  whisky  white bread  \\\n0      ...   False    False    False               False   False        False   \n1      ...   False    False    False               False   False        False   \n2      ...   False    False    False               False   False        False   \n3      ...   False    False    False               False   False        False   \n4      ...   False    False    False               False   False        False   \n...    ...     ...      ...      ...                 ...     ...          ...   \n14958  ...   False    False    False               False   False        False   \n14959  ...   False    False    False               False   False        False   \n14960  ...   False    False    False               False   False        False   \n14961  ...   False    False    False               False   False        False   \n14962  ...   False    False    False               False   False        False   \n\n       white wine  whole milk  yogurt  zwieback  \n0           False        True    True     False  \n1           False        True   False     False  \n2           False       False   False     False  \n3           False       False   False     False  \n4           False       False   False     False  \n...           ...         ...     ...       ...  \n14958       False       False    True     False  \n14959       False       False   False     False  \n14960       False       False   False     False  \n14961       False       False   False     False  \n14962       False       False   False     False  \n\n[14963 rows x 167 columns]",
      "text/html": "<div>\n<style scoped>\n    .dataframe tbody tr th:only-of-type {\n        vertical-align: middle;\n    }\n\n    .dataframe tbody tr th {\n        vertical-align: top;\n    }\n\n    .dataframe thead th {\n        text-align: right;\n    }\n</style>\n<table border=\"1\" class=\"dataframe\">\n  <thead>\n    <tr style=\"text-align: right;\">\n      <th></th>\n      <th>Instant food products</th>\n      <th>UHT-milk</th>\n      <th>abrasive cleaner</th>\n      <th>artif. sweetener</th>\n      <th>baby cosmetics</th>\n      <th>bags</th>\n      <th>baking powder</th>\n      <th>bathroom cleaner</th>\n      <th>beef</th>\n      <th>berries</th>\n      <th>...</th>\n      <th>turkey</th>\n      <th>vinegar</th>\n      <th>waffles</th>\n      <th>whipped/sour cream</th>\n      <th>whisky</th>\n      <th>white bread</th>\n      <th>white wine</th>\n      <th>whole milk</th>\n      <th>yogurt</th>\n      <th>zwieback</th>\n    </tr>\n  </thead>\n  <tbody>\n    <tr>\n      <td>0</td>\n      <td>False</td>\n      <td>False</td>\n      <td>False</td>\n      <td>False</td>\n      <td>False</td>\n      <td>False</td>\n      <td>False</td>\n      <td>False</td>\n      <td>False</td>\n      <td>False</td>\n      <td>...</td>\n      <td>False</td>\n      <td>False</td>\n      <td>False</td>\n      <td>False</td>\n      <td>False</td>\n      <td>False</td>\n      <td>False</td>\n      <td>True</td>\n      <td>True</td>\n      <td>False</td>\n    </tr>\n    <tr>\n      <td>1</td>\n      <td>False</td>\n      <td>False</td>\n      <td>False</td>\n      <td>False</td>\n      <td>False</td>\n      <td>False</td>\n      <td>False</td>\n      <td>False</td>\n      <td>False</td>\n      <td>False</td>\n      <td>...</td>\n      <td>False</td>\n      <td>False</td>\n      <td>False</td>\n      <td>False</td>\n      <td>False</td>\n      <td>False</td>\n      <td>False</td>\n      <td>True</td>\n      <td>False</td>\n      <td>False</td>\n    </tr>\n    <tr>\n      <td>2</td>\n      <td>False</td>\n      <td>False</td>\n      <td>False</td>\n      <td>False</td>\n      <td>False</td>\n      <td>False</td>\n      <td>False</td>\n      <td>False</td>\n      <td>False</td>\n      <td>False</td>\n      <td>...</td>\n      <td>False</td>\n      <td>False</td>\n      <td>False</td>\n      <td>False</td>\n      <td>False</td>\n      <td>False</td>\n      <td>False</td>\n      <td>False</td>\n      <td>False</td>\n      <td>False</td>\n    </tr>\n    <tr>\n      <td>3</td>\n      <td>False</td>\n      <td>False</td>\n      <td>False</td>\n      <td>False</td>\n      <td>False</td>\n      <td>False</td>\n      <td>False</td>\n      <td>False</td>\n      <td>False</td>\n      <td>False</td>\n      <td>...</td>\n      <td>False</td>\n      <td>False</td>\n      <td>False</td>\n      <td>False</td>\n      <td>False</td>\n      <td>False</td>\n      <td>False</td>\n      <td>False</td>\n      <td>False</td>\n      <td>False</td>\n    </tr>\n    <tr>\n      <td>4</td>\n      <td>False</td>\n      <td>False</td>\n      <td>False</td>\n      <td>False</td>\n      <td>False</td>\n      <td>False</td>\n      <td>False</td>\n      <td>False</td>\n      <td>False</td>\n      <td>False</td>\n      <td>...</td>\n      <td>False</td>\n      <td>False</td>\n      <td>False</td>\n      <td>False</td>\n      <td>False</td>\n      <td>False</td>\n      <td>False</td>\n      <td>False</td>\n      <td>False</td>\n      <td>False</td>\n    </tr>\n    <tr>\n      <td>...</td>\n      <td>...</td>\n      <td>...</td>\n      <td>...</td>\n      <td>...</td>\n      <td>...</td>\n      <td>...</td>\n      <td>...</td>\n      <td>...</td>\n      <td>...</td>\n      <td>...</td>\n      <td>...</td>\n      <td>...</td>\n      <td>...</td>\n      <td>...</td>\n      <td>...</td>\n      <td>...</td>\n      <td>...</td>\n      <td>...</td>\n      <td>...</td>\n      <td>...</td>\n      <td>...</td>\n    </tr>\n    <tr>\n      <td>14958</td>\n      <td>False</td>\n      <td>False</td>\n      <td>False</td>\n      <td>False</td>\n      <td>False</td>\n      <td>False</td>\n      <td>False</td>\n      <td>False</td>\n      <td>False</td>\n      <td>True</td>\n      <td>...</td>\n      <td>False</td>\n      <td>False</td>\n      <td>False</td>\n      <td>False</td>\n      <td>False</td>\n      <td>False</td>\n      <td>False</td>\n      <td>False</td>\n      <td>True</td>\n      <td>False</td>\n    </tr>\n    <tr>\n      <td>14959</td>\n      <td>False</td>\n      <td>False</td>\n      <td>False</td>\n      <td>False</td>\n      <td>False</td>\n      <td>False</td>\n      <td>False</td>\n      <td>False</td>\n      <td>False</td>\n      <td>False</td>\n      <td>...</td>\n      <td>False</td>\n      <td>False</td>\n      <td>False</td>\n      <td>False</td>\n      <td>False</td>\n      <td>False</td>\n      <td>False</td>\n      <td>False</td>\n      <td>False</td>\n      <td>False</td>\n    </tr>\n    <tr>\n      <td>14960</td>\n      <td>False</td>\n      <td>False</td>\n      <td>False</td>\n      <td>False</td>\n      <td>False</td>\n      <td>False</td>\n      <td>False</td>\n      <td>False</td>\n      <td>False</td>\n      <td>False</td>\n      <td>...</td>\n      <td>False</td>\n      <td>False</td>\n      <td>False</td>\n      <td>False</td>\n      <td>False</td>\n      <td>False</td>\n      <td>False</td>\n      <td>False</td>\n      <td>False</td>\n      <td>False</td>\n    </tr>\n    <tr>\n      <td>14961</td>\n      <td>False</td>\n      <td>False</td>\n      <td>False</td>\n      <td>False</td>\n      <td>False</td>\n      <td>False</td>\n      <td>False</td>\n      <td>False</td>\n      <td>False</td>\n      <td>False</td>\n      <td>...</td>\n      <td>False</td>\n      <td>False</td>\n      <td>False</td>\n      <td>False</td>\n      <td>False</td>\n      <td>False</td>\n      <td>False</td>\n      <td>False</td>\n      <td>False</td>\n      <td>False</td>\n    </tr>\n    <tr>\n      <td>14962</td>\n      <td>False</td>\n      <td>False</td>\n      <td>False</td>\n      <td>False</td>\n      <td>False</td>\n      <td>False</td>\n      <td>False</td>\n      <td>False</td>\n      <td>False</td>\n      <td>False</td>\n      <td>...</td>\n      <td>False</td>\n      <td>False</td>\n      <td>False</td>\n      <td>False</td>\n      <td>False</td>\n      <td>False</td>\n      <td>False</td>\n      <td>False</td>\n      <td>False</td>\n      <td>False</td>\n    </tr>\n  </tbody>\n</table>\n<p>14963 rows × 167 columns</p>\n</div>"
     },
     "execution_count": 54,
     "metadata": {},
     "output_type": "execute_result"
    }
   ],
   "source": [
    "transactions = pd.DataFrame(te_ary, columns=te.columns_)\n",
    "\n",
    "transactions"
   ],
   "metadata": {
    "collapsed": false,
    "pycharm": {
     "name": "#%%\n"
    }
   }
  },
  {
   "cell_type": "code",
   "execution_count": 55,
   "outputs": [
    {
     "data": {
      "text/plain": "Instant food products    False\nUHT-milk                 False\nabrasive cleaner         False\nartif. sweetener         False\nbaby cosmetics           False\n                         ...  \nwhite bread              False\nwhite wine               False\nwhole milk               False\nyogurt                   False\nzwieback                 False\nName: 2233, Length: 167, dtype: bool"
     },
     "execution_count": 55,
     "metadata": {},
     "output_type": "execute_result"
    }
   ],
   "source": [
    "theOne = transactions.iloc[theOneKey]\n",
    "\n",
    "theOne"
   ],
   "metadata": {
    "collapsed": false,
    "pycharm": {
     "name": "#%%\n"
    }
   }
  },
  {
   "cell_type": "code",
   "execution_count": 56,
   "outputs": [
    {
     "data": {
      "text/plain": "      Instant food products UHT-milk abrasive cleaner artif. sweetener  \\\n2                     False    False            False            False   \n6                     False    False            False            False   \n14                    False    False            False            False   \n17                    False    False            False            False   \n19                    False    False            False            False   \n...                     ...      ...              ...              ...   \n14938                 False    False            False            False   \n14944                 False    False            False            False   \n14950                 False    False            False            False   \n14951                 False    False            False            False   \n14953                 False    False            False            False   \n\n      baby cosmetics   bags baking powder bathroom cleaner   beef berries  \\\n2              False  False         False            False  False   False   \n6              False  False         False            False  False   False   \n14             False  False         False            False  False   False   \n17             False  False         False            False  False   False   \n19             False  False         False            False  False   False   \n...              ...    ...           ...              ...    ...     ...   \n14938          False  False         False            False  False   False   \n14944          False  False         False            False  False   False   \n14950          False  False         False            False  False   False   \n14951          False  False         False            False  False   False   \n14953          False  False         False            False  False   False   \n\n       ... turkey vinegar waffles whipped/sour cream whisky white bread  \\\n2      ...  False   False   False              False  False       False   \n6      ...  False   False   False              False  False       False   \n14     ...  False   False   False              False  False       False   \n17     ...  False   False   False              False  False       False   \n19     ...  False   False   False              False  False       False   \n...    ...    ...     ...     ...                ...    ...         ...   \n14938  ...  False   False   False              False  False       False   \n14944  ...  False   False   False              False  False       False   \n14950  ...  False   False   False              False  False       False   \n14951  ...  False   False   False              False  False       False   \n14953  ...  False   False   False              False  False       False   \n\n      white wine whole milk yogurt zwieback  \n2          False      False  False    False  \n6          False       True  False    False  \n14         False      False  False    False  \n17         False      False  False    False  \n19         False      False  False    False  \n...          ...        ...    ...      ...  \n14938      False      False  False    False  \n14944      False      False  False    False  \n14950      False      False  False    False  \n14951      False       True  False    False  \n14953      False      False  False    False  \n\n[2320 rows x 167 columns]",
      "text/html": "<div>\n<style scoped>\n    .dataframe tbody tr th:only-of-type {\n        vertical-align: middle;\n    }\n\n    .dataframe tbody tr th {\n        vertical-align: top;\n    }\n\n    .dataframe thead th {\n        text-align: right;\n    }\n</style>\n<table border=\"1\" class=\"dataframe\">\n  <thead>\n    <tr style=\"text-align: right;\">\n      <th></th>\n      <th>Instant food products</th>\n      <th>UHT-milk</th>\n      <th>abrasive cleaner</th>\n      <th>artif. sweetener</th>\n      <th>baby cosmetics</th>\n      <th>bags</th>\n      <th>baking powder</th>\n      <th>bathroom cleaner</th>\n      <th>beef</th>\n      <th>berries</th>\n      <th>...</th>\n      <th>turkey</th>\n      <th>vinegar</th>\n      <th>waffles</th>\n      <th>whipped/sour cream</th>\n      <th>whisky</th>\n      <th>white bread</th>\n      <th>white wine</th>\n      <th>whole milk</th>\n      <th>yogurt</th>\n      <th>zwieback</th>\n    </tr>\n  </thead>\n  <tbody>\n    <tr>\n      <td>2</td>\n      <td>False</td>\n      <td>False</td>\n      <td>False</td>\n      <td>False</td>\n      <td>False</td>\n      <td>False</td>\n      <td>False</td>\n      <td>False</td>\n      <td>False</td>\n      <td>False</td>\n      <td>...</td>\n      <td>False</td>\n      <td>False</td>\n      <td>False</td>\n      <td>False</td>\n      <td>False</td>\n      <td>False</td>\n      <td>False</td>\n      <td>False</td>\n      <td>False</td>\n      <td>False</td>\n    </tr>\n    <tr>\n      <td>6</td>\n      <td>False</td>\n      <td>False</td>\n      <td>False</td>\n      <td>False</td>\n      <td>False</td>\n      <td>False</td>\n      <td>False</td>\n      <td>False</td>\n      <td>False</td>\n      <td>False</td>\n      <td>...</td>\n      <td>False</td>\n      <td>False</td>\n      <td>False</td>\n      <td>False</td>\n      <td>False</td>\n      <td>False</td>\n      <td>False</td>\n      <td>True</td>\n      <td>False</td>\n      <td>False</td>\n    </tr>\n    <tr>\n      <td>14</td>\n      <td>False</td>\n      <td>False</td>\n      <td>False</td>\n      <td>False</td>\n      <td>False</td>\n      <td>False</td>\n      <td>False</td>\n      <td>False</td>\n      <td>False</td>\n      <td>False</td>\n      <td>...</td>\n      <td>False</td>\n      <td>False</td>\n      <td>False</td>\n      <td>False</td>\n      <td>False</td>\n      <td>False</td>\n      <td>False</td>\n      <td>False</td>\n      <td>False</td>\n      <td>False</td>\n    </tr>\n    <tr>\n      <td>17</td>\n      <td>False</td>\n      <td>False</td>\n      <td>False</td>\n      <td>False</td>\n      <td>False</td>\n      <td>False</td>\n      <td>False</td>\n      <td>False</td>\n      <td>False</td>\n      <td>False</td>\n      <td>...</td>\n      <td>False</td>\n      <td>False</td>\n      <td>False</td>\n      <td>False</td>\n      <td>False</td>\n      <td>False</td>\n      <td>False</td>\n      <td>False</td>\n      <td>False</td>\n      <td>False</td>\n    </tr>\n    <tr>\n      <td>19</td>\n      <td>False</td>\n      <td>False</td>\n      <td>False</td>\n      <td>False</td>\n      <td>False</td>\n      <td>False</td>\n      <td>False</td>\n      <td>False</td>\n      <td>False</td>\n      <td>False</td>\n      <td>...</td>\n      <td>False</td>\n      <td>False</td>\n      <td>False</td>\n      <td>False</td>\n      <td>False</td>\n      <td>False</td>\n      <td>False</td>\n      <td>False</td>\n      <td>False</td>\n      <td>False</td>\n    </tr>\n    <tr>\n      <td>...</td>\n      <td>...</td>\n      <td>...</td>\n      <td>...</td>\n      <td>...</td>\n      <td>...</td>\n      <td>...</td>\n      <td>...</td>\n      <td>...</td>\n      <td>...</td>\n      <td>...</td>\n      <td>...</td>\n      <td>...</td>\n      <td>...</td>\n      <td>...</td>\n      <td>...</td>\n      <td>...</td>\n      <td>...</td>\n      <td>...</td>\n      <td>...</td>\n      <td>...</td>\n      <td>...</td>\n    </tr>\n    <tr>\n      <td>14938</td>\n      <td>False</td>\n      <td>False</td>\n      <td>False</td>\n      <td>False</td>\n      <td>False</td>\n      <td>False</td>\n      <td>False</td>\n      <td>False</td>\n      <td>False</td>\n      <td>False</td>\n      <td>...</td>\n      <td>False</td>\n      <td>False</td>\n      <td>False</td>\n      <td>False</td>\n      <td>False</td>\n      <td>False</td>\n      <td>False</td>\n      <td>False</td>\n      <td>False</td>\n      <td>False</td>\n    </tr>\n    <tr>\n      <td>14944</td>\n      <td>False</td>\n      <td>False</td>\n      <td>False</td>\n      <td>False</td>\n      <td>False</td>\n      <td>False</td>\n      <td>False</td>\n      <td>False</td>\n      <td>False</td>\n      <td>False</td>\n      <td>...</td>\n      <td>False</td>\n      <td>False</td>\n      <td>False</td>\n      <td>False</td>\n      <td>False</td>\n      <td>False</td>\n      <td>False</td>\n      <td>False</td>\n      <td>False</td>\n      <td>False</td>\n    </tr>\n    <tr>\n      <td>14950</td>\n      <td>False</td>\n      <td>False</td>\n      <td>False</td>\n      <td>False</td>\n      <td>False</td>\n      <td>False</td>\n      <td>False</td>\n      <td>False</td>\n      <td>False</td>\n      <td>False</td>\n      <td>...</td>\n      <td>False</td>\n      <td>False</td>\n      <td>False</td>\n      <td>False</td>\n      <td>False</td>\n      <td>False</td>\n      <td>False</td>\n      <td>False</td>\n      <td>False</td>\n      <td>False</td>\n    </tr>\n    <tr>\n      <td>14951</td>\n      <td>False</td>\n      <td>False</td>\n      <td>False</td>\n      <td>False</td>\n      <td>False</td>\n      <td>False</td>\n      <td>False</td>\n      <td>False</td>\n      <td>False</td>\n      <td>False</td>\n      <td>...</td>\n      <td>False</td>\n      <td>False</td>\n      <td>False</td>\n      <td>False</td>\n      <td>False</td>\n      <td>False</td>\n      <td>False</td>\n      <td>True</td>\n      <td>False</td>\n      <td>False</td>\n    </tr>\n    <tr>\n      <td>14953</td>\n      <td>False</td>\n      <td>False</td>\n      <td>False</td>\n      <td>False</td>\n      <td>False</td>\n      <td>False</td>\n      <td>False</td>\n      <td>False</td>\n      <td>False</td>\n      <td>False</td>\n      <td>...</td>\n      <td>False</td>\n      <td>False</td>\n      <td>False</td>\n      <td>False</td>\n      <td>False</td>\n      <td>False</td>\n      <td>False</td>\n      <td>False</td>\n      <td>False</td>\n      <td>False</td>\n    </tr>\n  </tbody>\n</table>\n<p>2320 rows × 167 columns</p>\n</div>"
     },
     "execution_count": 56,
     "metadata": {},
     "output_type": "execute_result"
    }
   ],
   "source": [
    "#  choose transactions meet the  minimum S\n",
    "\n",
    "\n",
    "def calc_s(x, y):\n",
    "    s = 0\n",
    "    for idy in range(len(x)):\n",
    "        if x[idy] and y[idy]:\n",
    "            s+=1\n",
    "    return s\n",
    "\n",
    "k_transactions = pd.DataFrame(columns=transactions.columns)\n",
    "\n",
    "for idx in range(transactions.shape[0]):\n",
    "# for idx in range(100):\n",
    "    if calc_s(transactions.iloc[idx], theOne) >= S:\n",
    "        k_transactions=k_transactions.append(transactions.iloc[idx], ignore_index=False)\n",
    "\n",
    "k_transactions"
   ],
   "metadata": {
    "collapsed": false,
    "pycharm": {
     "name": "#%%\n"
    }
   }
  },
  {
   "cell_type": "code",
   "execution_count": 57,
   "outputs": [],
   "source": [
    "from mlxtend.frequent_patterns import apriori, association_rules\n",
    "import matplotlib.pyplot as plt"
   ],
   "metadata": {
    "collapsed": false,
    "pycharm": {
     "name": "#%%\n"
    }
   }
  },
  {
   "cell_type": "code",
   "execution_count": 58,
   "outputs": [
    {
     "name": "stdout",
     "output_type": "stream",
     "text": [
      "Processing 125 combinations | Sampling itemset size 5 4\n"
     ]
    }
   ],
   "source": [
    "freq_items = apriori(k_transactions, min_support=0.001, use_colnames=True, verbose=1)\n",
    "rules = association_rules(freq_items, metric=\"confidence\", min_threshold=0.001)"
   ],
   "metadata": {
    "collapsed": false,
    "pycharm": {
     "name": "#%%\n"
    }
   }
  },
  {
   "cell_type": "code",
   "execution_count": 59,
   "outputs": [
    {
     "data": {
      "text/plain": "{'brandy',\n 'hamburger meat',\n 'hard cheese',\n 'hygiene articles',\n 'other vegetables',\n 'pip fruit',\n 'root vegetables',\n 'sausage',\n 'soda',\n 'tropical fruit',\n 'yogurt'}"
     },
     "execution_count": 59,
     "metadata": {},
     "output_type": "execute_result"
    }
   ],
   "source": [
    "# rank rules by confident and obtain topN\n",
    "\n",
    "rules_ranked = rules.sort_values(by='confidence')['consequents']\n",
    "\n",
    "topN = set()\n",
    "\n",
    "for fset in rules_ranked:\n",
    "    for g in fset:\n",
    "        topN.add(g)\n",
    "        if len(topN) > N:\n",
    "            break\n",
    "    if len(topN) > N:\n",
    "            break\n",
    "\n",
    "topN\n"
   ],
   "metadata": {
    "collapsed": false,
    "pycharm": {
     "name": "#%%\n"
    }
   }
  }
 ],
 "metadata": {
  "kernelspec": {
   "display_name": "Python 3",
   "language": "python",
   "name": "python3"
  },
  "language_info": {
   "codemirror_mode": {
    "name": "ipython",
    "version": 2
   },
   "file_extension": ".py",
   "mimetype": "text/x-python",
   "name": "python",
   "nbconvert_exporter": "python",
   "pygments_lexer": "ipython2",
   "version": "2.7.6"
  }
 },
 "nbformat": 4,
 "nbformat_minor": 0
}